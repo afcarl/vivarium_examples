{
 "cells": [
  {
   "cell_type": "code",
   "execution_count": 2,
   "metadata": {},
   "outputs": [],
   "source": [
    "%matplotlib inline\n",
    "import numpy as np\n",
    "import pandas as pd\n",
    "import matplotlib.pyplot as plt\n",
    "#from numba import jit\n",
    "\n",
    "from vivarium.framework.values import modifies_value\n",
    "from vivarium.framework.event import listens_for\n",
    "from vivarium.framework.population import creates_simulants, uses_columns\n",
    "from vivarium.test_util import build_simulation_configuration, setup_simulation, pump_simulation"
   ]
  },
  {
   "cell_type": "markdown",
   "metadata": {},
   "source": [
    "# Setup a base population component to set up the state table.\n",
    "\n",
    "We have to do a bit of weird stuff to include multiple agent types.  "
   ]
  },
  {
   "cell_type": "code",
   "execution_count": 3,
   "metadata": {},
   "outputs": [],
   "source": [
    "class BasePopulation:\n",
    "    configuration_defaults = {\n",
    "        'population': {\n",
    "            'number_of_boids': 100,\n",
    "            'number_of_prey': 0,\n",
    "            'number_of_predators': 0,\n",
    "        }\n",
    "    }\n",
    "    \n",
    "    def setup(self, builder):\n",
    "        self.population_view = builder.population_view(['type', 'mass', 'alive', 'cause_of_death'])\n",
    "        self.config = builder.configuration.population\n",
    "        \n",
    "    @listens_for('initialize_simulants', priority=0)\n",
    "    def on_create_simulants(self, event):\n",
    "        num_boids = event.user_data.get('number_of_boids', self.config.number_of_boids)\n",
    "        num_prey = event.user_data.get('number_of_prey', self.config.number_of_prey)\n",
    "        num_predators = event.user_data.get('number_of_predators', self.config.number_of_predators)\n",
    "        sim_types = pd.Series(\n",
    "            ['boid']*num_boids + ['prey']*num_prey + ['predator']*num_predators, index=event.index)\n",
    "        sim_masses = pd.Series(0, index=event.index)\n",
    "        self.population_view.update(pd.DataFrame({'type': sim_types,\n",
    "                                                  'mass': sim_masses, \n",
    "                                                  'alive': [1]*len(event.index),\n",
    "                                                  'cause_of_death': ['None']*len(event.index)}))\n",
    "\n"
   ]
  },
  {
   "cell_type": "markdown",
   "metadata": {},
   "source": [
    "# Some Boids specific population configuration\n",
    "\n",
    "We'll have them lose mass over time due to energy expenditure"
   ]
  },
  {
   "cell_type": "code",
   "execution_count": 4,
   "metadata": {},
   "outputs": [],
   "source": [
    "class BoidsPopulation:\n",
    "    configuration_defaults = {\n",
    "        'boids': {\n",
    "            'mass_range': [2, 10],\n",
    "            'growth_rate': -.01, # Boids use energy to fly\n",
    "            'velocity_max': 1,\n",
    "        }\n",
    "    }\n",
    "    \n",
    "    def setup(self, builder):\n",
    "        self.config = builder.configuration.boids\n",
    "        self.population_view = builder.population_view(['type', 'mass', 'alive'], \n",
    "                                                       'type == \"boid\" and alive == 1')\n",
    "        self.randomness = builder.randomness('boids_initialization')\n",
    "        \n",
    "    @listens_for('initialize_simulants', priority=1)\n",
    "    def on_create_boids(self, event):\n",
    "        mass_min, mass_max = self.config.mass_range\n",
    "        masses = self.randomness.get_draw(event.index) * (mass_max - mass_min) + mass_min\n",
    "        masses.name = 'mass'\n",
    "        pop = self.population_view.get(event.index)\n",
    "        boids = pop[pop['type'] == 'boid']\n",
    "        boids['mass'] = masses\n",
    "        self.population_view.update(boids)\n",
    "        \n",
    "    @listens_for('time_step')\n",
    "    def on_time_step(self, event):\n",
    "        pop = self.population_view.get(event.index)\n",
    "        boids = pop['type'] == 'boid'\n",
    "        pop.loc[boids, 'mass'] *= 1 + self.config.growth_rate        \n",
    "        self.population_view.update(pop)      \n",
    "        \n",
    "\n"
   ]
  },
  {
   "cell_type": "markdown",
   "metadata": {},
   "source": [
    "# Death if you lose enough mass.  It ain't easy bein' a boid."
   ]
  },
  {
   "cell_type": "code",
   "execution_count": 5,
   "metadata": {},
   "outputs": [],
   "source": [
    "class BoidsStarvation:\n",
    "    def setup(self, builder):\n",
    "        self.min_mass = builder.configuration.boids.mass_range[0]\n",
    "        self.population_view = builder.population_view(['type', 'mass', 'alive', 'cause_of_death'], \n",
    "                                                       'type == \"boid\" and alive == 1')\n",
    "        \n",
    "    @listens_for('time_step')\n",
    "    def on_time_step(self, event):\n",
    "        pop = self.population_view.get(event.index)\n",
    "        died = pop['mass'] < self.min_mass\n",
    "        pop.loc[died, 'alive'] = 0\n",
    "        pop.loc[died, 'cause_of_death'] = 'starvation'\n",
    "        self.population_view.update(pop)"
   ]
  },
  {
   "cell_type": "markdown",
   "metadata": {},
   "source": [
    "### Let's make sure everything so far works"
   ]
  },
  {
   "cell_type": "code",
   "execution_count": 6,
   "metadata": {},
   "outputs": [],
   "source": [
    "components = [BasePopulation(), BoidsPopulation(), BoidsStarvation()]\n",
    "sim = setup_simulation(components, population_size=100) # The population size thing here sucks"
   ]
  },
  {
   "cell_type": "code",
   "execution_count": 7,
   "metadata": {},
   "outputs": [
    {
     "data": {
      "text/plain": [
       "type\n",
       "boid    5.48\n",
       "Name: mass, dtype: float64"
      ]
     },
     "execution_count": 7,
     "metadata": {},
     "output_type": "execute_result"
    }
   ],
   "source": [
    "pop = sim.population.population\n",
    "pop.groupby('type')['mass'].mean()"
   ]
  },
  {
   "cell_type": "code",
   "execution_count": 8,
   "metadata": {},
   "outputs": [
    {
     "data": {
      "text/plain": [
       "type\n",
       "boid    100\n",
       "Name: alive, dtype: int64"
      ]
     },
     "execution_count": 8,
     "metadata": {},
     "output_type": "execute_result"
    }
   ],
   "source": [
    "pop[pop.alive == 1].groupby('type')['alive'].count()"
   ]
  },
  {
   "cell_type": "code",
   "execution_count": 9,
   "metadata": {},
   "outputs": [
    {
     "data": {
      "application/vnd.jupyter.widget-view+json": {
       "model_id": "309195e06f5e400d9b01e7178cba8dc2",
       "version_major": 2,
       "version_minor": 0
      },
      "text/html": [
       "<p>Failed to display Jupyter Widget of type <code>VBox</code>.</p>\n",
       "<p>\n",
       "  If you're reading this message in the Jupyter Notebook or JupyterLab Notebook, it may mean\n",
       "  that the widgets JavaScript is still loading. If this message persists, it\n",
       "  likely means that the widgets JavaScript library is either not installed or\n",
       "  not enabled. See the <a href=\"https://ipywidgets.readthedocs.io/en/stable/user_install.html\">Jupyter\n",
       "  Widgets Documentation</a> for setup instructions.\n",
       "</p>\n",
       "<p>\n",
       "  If you're reading this message in another frontend (for example, a static\n",
       "  rendering on GitHub or <a href=\"https://nbviewer.jupyter.org/\">NBViewer</a>),\n",
       "  it may mean that your frontend doesn't currently support widgets.\n",
       "</p>\n"
      ],
      "text/plain": [
       "VBox(children=(HTML(value=''), IntProgress(value=0)))"
      ]
     },
     "metadata": {},
     "output_type": "display_data"
    },
    {
     "data": {
      "text/plain": [
       "100"
      ]
     },
     "execution_count": 9,
     "metadata": {},
     "output_type": "execute_result"
    }
   ],
   "source": [
    "pump_simulation(sim, iterations=100)"
   ]
  },
  {
   "cell_type": "code",
   "execution_count": 10,
   "metadata": {},
   "outputs": [
    {
     "data": {
      "text/plain": [
       "type\n",
       "boid    2.349754\n",
       "Name: mass, dtype: float64"
      ]
     },
     "execution_count": 10,
     "metadata": {},
     "output_type": "execute_result"
    }
   ],
   "source": [
    "pop = sim.population.population\n",
    "pop.groupby('type')['mass'].mean()"
   ]
  },
  {
   "cell_type": "code",
   "execution_count": 11,
   "metadata": {},
   "outputs": [
    {
     "data": {
      "text/plain": [
       "type\n",
       "boid    49\n",
       "Name: alive, dtype: int64"
      ]
     },
     "execution_count": 11,
     "metadata": {},
     "output_type": "execute_result"
    }
   ],
   "source": [
    "pop[pop.alive == 1].groupby('type')['alive'].count()"
   ]
  },
  {
   "cell_type": "markdown",
   "metadata": {},
   "source": [
    "### Only boids have mass, lose mass, and die.  As expected"
   ]
  },
  {
   "cell_type": "markdown",
   "metadata": {},
   "source": [
    "# Let's give them a place to fly around.\n",
    "\n",
    "The territory also defines all the kinematic parameters we'll need later.  This is again due to the weirdness of shoving multiple agent types into the simulation."
   ]
  },
  {
   "cell_type": "code",
   "execution_count": 12,
   "metadata": {},
   "outputs": [],
   "source": [
    "# The field\n",
    "class BoidsTerritory:\n",
    "    configuration_defaults = {\n",
    "        'territory': {\n",
    "            'width': 50,\n",
    "            'height': 50,\n",
    "        }\n",
    "    }\n",
    "    \n",
    "    def setup(self, builder):\n",
    "        self.population_view = builder.population_view(['p_x', 'p_y', 'v_x', 'v_y', 'a_x', 'a_y'])        \n",
    "        self.config = builder.configuration.territory\n",
    "        self.randomness = builder.randomness('initial_position')\n",
    "    \n",
    "    @listens_for('initialize_simulants', priority=1)\n",
    "    def on_create_simulants(self, event):\n",
    "        num_sims = len(event.index)\n",
    "        x_pos = self.config.width * self.randomness.get_draw(event.index, 'x_pos')\n",
    "        y_pos = self.config.height * self.randomness.get_draw(event.index, 'y_pos')\n",
    "        self.population_view.update(pd.DataFrame({'p_x': x_pos,\n",
    "                                                  'p_y': y_pos,\n",
    "                                                  'v_x': np.random.random(num_sims) + 1, \n",
    "                                                  'v_y': np.random.random(num_sims),\n",
    "                                                  'a_x': [0.0]*num_sims, \n",
    "                                                  'a_y': [0.0]*num_sims}, \n",
    "                                                 index=event.index))\n",
    "        "
   ]
  },
  {
   "cell_type": "code",
   "execution_count": 13,
   "metadata": {},
   "outputs": [],
   "source": [
    "components = [BasePopulation(), BoidsPopulation(), BoidsTerritory()]\n",
    "sim = setup_simulation(components, population_size=100)"
   ]
  },
  {
   "cell_type": "code",
   "execution_count": 14,
   "metadata": {},
   "outputs": [
    {
     "data": {
      "text/html": [
       "<div>\n",
       "<style scoped>\n",
       "    .dataframe tbody tr th:only-of-type {\n",
       "        vertical-align: middle;\n",
       "    }\n",
       "\n",
       "    .dataframe tbody tr th {\n",
       "        vertical-align: top;\n",
       "    }\n",
       "\n",
       "    .dataframe thead th {\n",
       "        text-align: right;\n",
       "    }\n",
       "</style>\n",
       "<table border=\"1\" class=\"dataframe\">\n",
       "  <thead>\n",
       "    <tr style=\"text-align: right;\">\n",
       "      <th></th>\n",
       "      <th>alive</th>\n",
       "      <th>type</th>\n",
       "      <th>cause_of_death</th>\n",
       "      <th>mass</th>\n",
       "      <th>a_y</th>\n",
       "      <th>v_x</th>\n",
       "      <th>p_y</th>\n",
       "      <th>p_x</th>\n",
       "      <th>a_x</th>\n",
       "      <th>v_y</th>\n",
       "    </tr>\n",
       "  </thead>\n",
       "  <tbody>\n",
       "    <tr>\n",
       "      <th>0</th>\n",
       "      <td>1</td>\n",
       "      <td>boid</td>\n",
       "      <td>None</td>\n",
       "      <td>6.0</td>\n",
       "      <td>0.0</td>\n",
       "      <td>1.014723</td>\n",
       "      <td>18.634693</td>\n",
       "      <td>40.104980</td>\n",
       "      <td>0.0</td>\n",
       "      <td>0.462120</td>\n",
       "    </tr>\n",
       "    <tr>\n",
       "      <th>1</th>\n",
       "      <td>1</td>\n",
       "      <td>boid</td>\n",
       "      <td>None</td>\n",
       "      <td>4.0</td>\n",
       "      <td>0.0</td>\n",
       "      <td>1.603348</td>\n",
       "      <td>6.804291</td>\n",
       "      <td>34.592293</td>\n",
       "      <td>0.0</td>\n",
       "      <td>0.091700</td>\n",
       "    </tr>\n",
       "    <tr>\n",
       "      <th>2</th>\n",
       "      <td>1</td>\n",
       "      <td>boid</td>\n",
       "      <td>None</td>\n",
       "      <td>7.0</td>\n",
       "      <td>0.0</td>\n",
       "      <td>1.416876</td>\n",
       "      <td>28.944751</td>\n",
       "      <td>10.162542</td>\n",
       "      <td>0.0</td>\n",
       "      <td>0.869955</td>\n",
       "    </tr>\n",
       "    <tr>\n",
       "      <th>3</th>\n",
       "      <td>1</td>\n",
       "      <td>boid</td>\n",
       "      <td>None</td>\n",
       "      <td>3.0</td>\n",
       "      <td>0.0</td>\n",
       "      <td>1.437973</td>\n",
       "      <td>19.562019</td>\n",
       "      <td>33.674515</td>\n",
       "      <td>0.0</td>\n",
       "      <td>0.176256</td>\n",
       "    </tr>\n",
       "    <tr>\n",
       "      <th>4</th>\n",
       "      <td>1</td>\n",
       "      <td>boid</td>\n",
       "      <td>None</td>\n",
       "      <td>5.0</td>\n",
       "      <td>0.0</td>\n",
       "      <td>1.203516</td>\n",
       "      <td>14.677622</td>\n",
       "      <td>25.988917</td>\n",
       "      <td>0.0</td>\n",
       "      <td>0.740371</td>\n",
       "    </tr>\n",
       "  </tbody>\n",
       "</table>\n",
       "</div>"
      ],
      "text/plain": [
       "   alive  type cause_of_death  mass  a_y       v_x        p_y        p_x  a_x  \\\n",
       "0      1  boid           None   6.0  0.0  1.014723  18.634693  40.104980  0.0   \n",
       "1      1  boid           None   4.0  0.0  1.603348   6.804291  34.592293  0.0   \n",
       "2      1  boid           None   7.0  0.0  1.416876  28.944751  10.162542  0.0   \n",
       "3      1  boid           None   3.0  0.0  1.437973  19.562019  33.674515  0.0   \n",
       "4      1  boid           None   5.0  0.0  1.203516  14.677622  25.988917  0.0   \n",
       "\n",
       "        v_y  \n",
       "0  0.462120  \n",
       "1  0.091700  \n",
       "2  0.869955  \n",
       "3  0.176256  \n",
       "4  0.740371  "
      ]
     },
     "execution_count": 14,
     "metadata": {},
     "output_type": "execute_result"
    }
   ],
   "source": [
    "sim.population.population.head()"
   ]
  },
  {
   "cell_type": "markdown",
   "metadata": {},
   "source": [
    "# Time to fly!\n",
    "\n",
    "\"Simple\""
   ]
  },
  {
   "cell_type": "code",
   "execution_count": 23,
   "metadata": {},
   "outputs": [],
   "source": [
    "class BoidsSimpleFlight:\n",
    "    configuration_defaults = {\n",
    "        'flight': {\n",
    "            'basic_force': 1,  # How forceful is the tendency to keep flying in the direction we're going?\n",
    "            'max_jerk': 1,  # constrain the maximum change in acceleration.\n",
    "        }\n",
    "    }\n",
    "    def setup(self, builder):\n",
    "        self.basic_force = builder.configuration.flight.basic_force\n",
    "        self.max_jerk = builder.configuration.flight.max_jerk        \n",
    "        self.max_v = builder.configuration.boids.velocity_max\n",
    "        self.territory_config = builder.configuration.territory\n",
    "        \n",
    "        self.population_view = builder.population_view(\n",
    "            ['type', 'mass', 'p_x', 'p_y', 'v_x', 'v_y', 'a_x', 'a_y'], 'type == \"boid\" and alive == 1')\n",
    "        \n",
    "        self.force = builder.value('boids.force')\n",
    "        self.force.source = self.basic_forcing_function\n",
    "        \n",
    "    @listens_for('time_step')\n",
    "    def on_time_step(self, event):\n",
    "        pop = self.population_view.get(event.index)\n",
    "        step_size = event.step_size/pd.Timedelta(days=1)  #vivarium convention of time step in days\n",
    "        \n",
    "        # Woo kinematics.  This assumes constant acceleration. \n",
    "        # This will require some tuning and is why the `max_jerk` parameter exists.  \n",
    "        # It needs to be balanced against the maximum velocities in order to come out okay.\n",
    "        pop['p_x'] += (pop['v_x'] * step_size + 1/2 * pop['a_x'] * step_size**2) \n",
    "        pop['p_y'] += (pop['v_y'] * step_size + 1/2 * pop['a_y'] * step_size**2 ) \n",
    "        pop['v_x'] += pop['a_x'] * step_size\n",
    "        pop['v_y'] += pop['a_y'] * step_size\n",
    "        \n",
    "        \n",
    "        new_a = self.calculate_new_acceleration(pop[['mass', 'a_x', 'a_y']])\n",
    "        pop['a_x'] = new_a['a_x']\n",
    "        pop['a_y'] = new_a['a_y']\n",
    "        \n",
    "        self.population_view.update(pop)\n",
    "        \n",
    "    def basic_forcing_function(self, index):\n",
    "        pop = self.population_view.get(index)\n",
    "        v = np.sqrt(pop['v_x']**2 + pop['v_y']**2)\n",
    "        # A signed proportion of the difference between our actual and desired velocity\n",
    "        dv = 1 - v/self.max_v\n",
    "        scale = self.basic_force * dv\n",
    "        7\n",
    "        return pd.DataFrame({'force_x': scale*pop['v_x']/v, \n",
    "                             'force_y': scale*pop['v_y']/v})\n",
    "    \n",
    "    def calculate_new_acceleration(self, pop):\n",
    "        force = self.force(pop.index)\n",
    "        new_a_x = force['force_x']/pop['mass']\n",
    "        new_a_y = force['force_y']/pop['mass']\n",
    "        #da = np.sqrt((new_a_x - pop['a_x'])**2 + (new_a_y - pop['a_y'])**2)\n",
    "        #new_a_x[da > self.max_jerk] *= self.max_jerk/da\n",
    "        #new_a_y[da > self.max_jerk] *= self.max_jerk/da\n",
    "        \n",
    "        return pd.DataFrame({'a_x': new_a_x, 'a_y': new_a_y}, index=pop.index)"
   ]
  },
  {
   "cell_type": "code",
   "execution_count": 24,
   "metadata": {},
   "outputs": [],
   "source": [
    "from matplotlib import animation\n",
    "import seaborn as sns\n",
    "# making things look nice is always fiddley\n",
    "\n",
    "def my_plot(df):\n",
    "    x = df.p_x % 100\n",
    "    y = df.p_y % 100\n",
    "    \n",
    "    # is there an easy way to plot the velocities?\n",
    "    #xx = []\n",
    "    #yy = []\n",
    "    #for i in df.index:\n",
    "    #    xx += [x[i], x[i]+df.v_x[i], np.nan]\n",
    "    #    yy += [y[i], y[i]+df.v_y[i], np.nan]\n",
    "\n",
    "    #plt.plot(xx, yy, sns.xkcd_rgb['light blue'])\n",
    "    plt.plot(x, y, 'k.')\n",
    "    plt.axis(xmin=0, ymin=0, xmax=100, ymax=100)\n",
    "    plt.xticks([])\n",
    "    plt.yticks([])\n",
    "\n",
    "\n",
    "class MovieWriter:\n",
    "    def __init__(self, fname):\n",
    "        self.moviewriter = animation.ImageMagickWriter(fps=10)\n",
    "        self.fname = fname\n",
    "            \n",
    "    def __enter__(self):\n",
    "        fig = plt.figure()\n",
    "        self.moviewriter.setup(fig, self.fname, dpi=100)\n",
    "        return self\n",
    "    \n",
    "    def setup(self, builder):\n",
    "        self.population_view = builder.population_view(['p_x', 'p_y', 'v_x', 'v_y'])\n",
    "        \n",
    "    @listens_for('collect_metrics')\n",
    "    def on_collect_metrics(self, event):\n",
    "        pop = self.population_view.get(event.index)\n",
    "        \n",
    "        plt.clf()\n",
    "        my_plot(pop)\n",
    "\n",
    "        self.moviewriter.grab_frame()\n",
    "\n",
    "    def __exit__(self, exception_type, exception_value, traceback):\n",
    "        self.moviewriter.finish()\n"
   ]
  },
  {
   "cell_type": "code",
   "execution_count": 25,
   "metadata": {},
   "outputs": [
    {
     "data": {
      "application/vnd.jupyter.widget-view+json": {
       "model_id": "0a9f0e500652452c8c4d58c1c08c8808",
       "version_major": 2,
       "version_minor": 0
      },
      "text/html": [
       "<p>Failed to display Jupyter Widget of type <code>VBox</code>.</p>\n",
       "<p>\n",
       "  If you're reading this message in the Jupyter Notebook or JupyterLab Notebook, it may mean\n",
       "  that the widgets JavaScript is still loading. If this message persists, it\n",
       "  likely means that the widgets JavaScript library is either not installed or\n",
       "  not enabled. See the <a href=\"https://ipywidgets.readthedocs.io/en/stable/user_install.html\">Jupyter\n",
       "  Widgets Documentation</a> for setup instructions.\n",
       "</p>\n",
       "<p>\n",
       "  If you're reading this message in another frontend (for example, a static\n",
       "  rendering on GitHub or <a href=\"https://nbviewer.jupyter.org/\">NBViewer</a>),\n",
       "  it may mean that your frontend doesn't currently support widgets.\n",
       "</p>\n"
      ],
      "text/plain": [
       "VBox(children=(HTML(value=''), IntProgress(value=0, max=50)))"
      ]
     },
     "metadata": {},
     "output_type": "display_data"
    },
    {
     "name": "stdout",
     "output_type": "stream",
     "text": [
      "CPU times: user 7.64 s, sys: 6.51 s, total: 14.1 s\n",
      "Wall time: 5.5 s\n"
     ]
    },
    {
     "data": {
      "image/png": "[encoded data removed]",
      "text/plain": [
       "<matplotlib.figure.Figure at 0x7fdacaf42518>"
      ]
     },
     "metadata": {},
     "output_type": "display_data"
    }
   ],
   "source": [
    "%%time\n",
    "\n",
    "with MovieWriter('t.gif') as mw:\n",
    "    sim = setup_simulation([BasePopulation(), BoidsPopulation(), BoidsTerritory(), BoidsSimpleFlight(), mw],\n",
    "                               population_size=100)\n",
    "    pump_simulation(sim, iterations=50)"
   ]
  },
  {
   "cell_type": "markdown",
   "metadata": {},
   "source": [
    "# Cool let's add some boids rules"
   ]
  },
  {
   "cell_type": "code",
   "execution_count": 26,
   "metadata": {},
   "outputs": [],
   "source": [
    "class CentralTendency:\n",
    "    configuration_defaults = {\n",
    "        'central_tendency': {\n",
    "            'force': .1,\n",
    "        }\n",
    "    }\n",
    "    \n",
    "    def setup(self, builder):\n",
    "        self.force = builder.configuration.central_tendency.force\n",
    "        self.population_view = builder.population_view(['p_x', 'p_y'], 'type == \"boid\" and alive == 1')\n",
    "        builder.modifies_value(self.force_towards_center, 'boids.force')\n",
    "    \n",
    "    def force_towards_center(self, index, force):\n",
    "        pop = self.population_view.get(index)\n",
    "        cx, cy = pop['p_x'].mean(), pop['p_y'].mean()\n",
    "        d = np.sqrt((pop['p_x'] - cx)**2 + (pop['p_y'] - cy)**2)\n",
    "        force['force_x'] += self.force * (cx - pop['p_x'])/d\n",
    "        force['force_y'] += self.force * (cy - pop['p_y'])/d\n",
    "        return force"
   ]
  },
  {
   "cell_type": "code",
   "execution_count": 27,
   "metadata": {},
   "outputs": [
    {
     "data": {
      "application/vnd.jupyter.widget-view+json": {
       "model_id": "24dc0a9741a246199e0f0d5983f0c1ae",
       "version_major": 2,
       "version_minor": 0
      },
      "text/html": [
       "<p>Failed to display Jupyter Widget of type <code>VBox</code>.</p>\n",
       "<p>\n",
       "  If you're reading this message in the Jupyter Notebook or JupyterLab Notebook, it may mean\n",
       "  that the widgets JavaScript is still loading. If this message persists, it\n",
       "  likely means that the widgets JavaScript library is either not installed or\n",
       "  not enabled. See the <a href=\"https://ipywidgets.readthedocs.io/en/stable/user_install.html\">Jupyter\n",
       "  Widgets Documentation</a> for setup instructions.\n",
       "</p>\n",
       "<p>\n",
       "  If you're reading this message in another frontend (for example, a static\n",
       "  rendering on GitHub or <a href=\"https://nbviewer.jupyter.org/\">NBViewer</a>),\n",
       "  it may mean that your frontend doesn't currently support widgets.\n",
       "</p>\n"
      ],
      "text/plain": [
       "VBox(children=(HTML(value=''), IntProgress(value=0, max=150)))"
      ]
     },
     "metadata": {},
     "output_type": "display_data"
    },
    {
     "name": "stdout",
     "output_type": "stream",
     "text": [
      "CPU times: user 23.2 s, sys: 19.3 s, total: 42.5 s\n",
      "Wall time: 16.2 s\n"
     ]
    },
    {
     "data": {
      "image/png": "[encoded data removed]",
      "text/plain": [
       "<matplotlib.figure.Figure at 0x7fdacad7eb00>"
      ]
     },
     "metadata": {},
     "output_type": "display_data"
    }
   ],
   "source": [
    "%%time\n",
    "\n",
    "with MovieWriter('t.gif') as mw:\n",
    "    sim = setup_simulation([BasePopulation(), BoidsPopulation(), BoidsTerritory(), BoidsSimpleFlight(), \n",
    "                            CentralTendency(), mw],\n",
    "                               population_size=100)\n",
    "    pump_simulation(sim, iterations=150)"
   ]
  },
  {
   "cell_type": "code",
   "execution_count": null,
   "metadata": {},
   "outputs": [],
   "source": [
    "\n",
    "\n",
    "class AvoidPersonalSpace:\n",
    "    configuration_defaults = {\n",
    "        'personal_space': {\n",
    "            'force': 1,\n",
    "            'radius': 3,\n",
    "        }\n",
    "    }\n",
    "    def setup(self, builder):\n",
    "        self.force = builder.configuration.personal_space.force\n",
    "        self.radius = builder.configuration.personal_space.radius\n",
    "        self.population_view = builder.population_view(['p_x', 'p_y'], 'type == \"boid\" and alive == 1')\n",
    "        builder.modifies_value(self.keep_away, 'boids.force')\n",
    "        \n",
    "    def keep_away(self, index, force):\n",
    "        pop = self.population_view.get(index)\n",
    "        x = pop['p_x'].values\n",
    "        y = pop['p_y'].values\n",
    "        for i in range(x.shape[0]):\n",
    "            distances = np.sqrt((x - x[i])**2 + (y - y[i])**2)\n",
    "            \n",
    "                \n",
    "        \n",
    "        \n",
    "    def rule2(self, t):\n",
    "        \"\"\"Rule 2: Boids try to keep a small distance away from other objects (including other boids).\n",
    "        \"\"\"\n",
    "        #     dvx = np.zeros_like(t.vx)\n",
    "        #     dvy = np.zeros_like(t.vy)\n",
    "\n",
    "        #     for i in range(len(t)):\n",
    "        #         for j in range(i+1, len(t)):\n",
    "        #             if d(t, i, j) < .1:\n",
    "        #                 dvx[i] -= (t.x[j] - t.x[i])\n",
    "        #                 dvy[i] -= (t.y[j] - t.y[i])\n",
    "\n",
    "        # the above seems slow, let's just stay away from center of mass\n",
    "        cx, cy = t.x.mean(), t.y.mean()\n",
    "        dx = (t.x - cx)\n",
    "        dy = (t.y - cy)\n",
    "\n",
    "        close = dx*dx + dy*dy < .01\n",
    "        dvx = np.where(close, t.x - cx, 0)\n",
    "        dvy = np.where(close, t.y - cy, 0)\n",
    "\n",
    "        return dvx, dvy\n",
    "\n",
    "    \n",
    "    @listens_for('time_step__prepare')\n",
    "    @uses_columns(['x', 'y', 'vx', 'vy'])\n",
    "    def on_time_step(self, event):\n",
    "        t = event.population\n",
    "        v2x, v2y = self.rule2(t)\n",
    "\n",
    "        t.vx += v2x\n",
    "        t.vy += v2y\n",
    "\n",
    "        event.population_view.update(t)"
   ]
  }
 ],
 "metadata": {
  "kernelspec": {
   "display_name": "Python 3",
   "language": "python",
   "name": "python3"
  },
  "language_info": {
   "codemirror_mode": {
    "name": "ipython",
    "version": 3
   },
   "file_extension": ".py",
   "mimetype": "text/x-python",
   "name": "python",
   "nbconvert_exporter": "python",
   "pygments_lexer": "ipython3",
   "version": "3.6.4"
  }
 },
 "nbformat": 4,
 "nbformat_minor": 2
}
