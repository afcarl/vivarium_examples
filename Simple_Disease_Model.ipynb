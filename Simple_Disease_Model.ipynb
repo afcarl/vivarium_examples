{
 "cells": [
  {
   "cell_type": "code",
   "execution_count": 1,
   "metadata": {},
   "outputs": [
    {
     "name": "stdout",
     "output_type": "stream",
     "text": [
      "Thu Mar  8 16:50:29 PST 2018\r\n"
     ]
    }
   ],
   "source": [
    "%matplotlib inline\n",
    "import time \n",
    "\n",
    "import numpy as np\n",
    "import pandas as pd\n",
    "import matplotlib.pyplot as plt\n",
    "import seaborn as sns\n",
    "\n",
    "from vivarium.test_util import setup_simulation, pump_simulation, TestPopulation\n",
    "\n",
    "!date"
   ]
  },
  {
   "cell_type": "markdown",
   "metadata": {},
   "source": [
    "# Simple Disease Model"
   ]
  },
  {
   "cell_type": "code",
   "execution_count": 2,
   "metadata": {},
   "outputs": [],
   "source": [
    "n_simulants = 10*1000\n",
    "n_days = 365*10\n",
    "t_start = pd.Timestamp('1990-01-01')"
   ]
  },
  {
   "cell_type": "code",
   "execution_count": 7,
   "metadata": {},
   "outputs": [],
   "source": [
    "def build_life_table():\n",
    "    max_age = 110\n",
    "    max_expectency = 90\n",
    "    min_expectency = 1.5\n",
    "    \n",
    "    ages = np.arange(0, max_age, 0.01)\n",
    "    life_expectency = np.linspace(max_expectency, min_expectency, len(ages))\n",
    "    \n",
    "    return pd.DataFrame({'age': ages,\n",
    "                         'life_expectency': life_expectency})\n",
    "\n",
    "\n",
    "class SimpleMortality:\n",
    "    configuration_defaults = {\n",
    "            'mortality': {\n",
    "                'mortality_rate': 0.01,\n",
    "        },\n",
    "    }\n",
    "\n",
    "    def setup(self, builder):\n",
    "        self.config = builder.configuration.mortality\n",
    "        self.population_view = builder.population.get_view(columns=['alive'], query=\"alive == 'alive'\")\n",
    "        \n",
    "        self.mortality_rate = builder.value.register_rate_producer(rate_name='mortality_rate',\n",
    "                                                                    source=self.base_mortality_rate)\n",
    "        \n",
    "        builder.event.register_listener('time_step', self.on_time_step)\n",
    "        self.death_emitter = builder.event.get_emitter('deaths')\n",
    "    \n",
    "    def base_mortality_rate(self, index):\n",
    "        return pd.Series(self.config.mortality_rate, index=index)\n",
    "\n",
    "    def on_time_step(self, event):\n",
    "        effective_rate = self.mortality_rate(event.index)\n",
    "        effective_probability = 1-np.exp(-effective_rate)\n",
    "        \n",
    "        draw = np.random.random(size=len(event.index))\n",
    "        affected_simulants = event.index[draw < effective_probability]\n",
    "        \n",
    "        self.population_view.update(pd.Series('dead', index=affected_simulants).astype(\n",
    "                                  pd.api.types.CategoricalDtype(\n",
    "                                      categories=['alive', 'dead', 'untracked'], ordered=False)))\n",
    "        self.death_emitter(event.split(affected_simulants))"
   ]
  },
  {
   "cell_type": "code",
   "execution_count": 8,
   "metadata": {},
   "outputs": [],
   "source": [
    "class SimpleIntervention:\n",
    "    \n",
    "    def setup(self, builder):\n",
    "        self.cumulative_cost = 0\n",
    "        self.clock = builder.clock()\n",
    "        \n",
    "        self.population_view = builder.population.get_view(['age', 'alive'], \n",
    "                                                           query='age >= 25 and alive == \"alive\"')\n",
    "        \n",
    "        builder.event.register_listener('time_step', self.on_time_step)\n",
    "        builder.event.register_listener('simulation_end', self.dump_metrics)\n",
    "        \n",
    "        builder.value.register_value_modifier('mortality_rate', modifier=self.mortality_rates)\n",
    "        \n",
    "\n",
    "    def on_time_step(self, event):\n",
    "        pop = self.population_view.get(event.index)\n",
    "        \n",
    "        if event.time.year >= 1995:\n",
    "            time_step = event.step_size / pd.Timedelta(days=365)\n",
    "            self.cumulative_cost += 2.0 * len(pop.index) * time_step\n",
    "\n",
    "    def mortality_rates(self, index, rates):\n",
    "        if self.clock().year >= 1995:\n",
    "            pop = self.population_view.get(index)\n",
    "            rates.loc[pop.index] *= 0.5\n",
    "        return rates\n",
    "\n",
    "    def dump_metrics(self, event):\n",
    "        print('Cost:', self.cumulative_cost)\n"
   ]
  },
  {
   "cell_type": "code",
   "execution_count": 9,
   "metadata": {},
   "outputs": [],
   "source": [
    "class SimpleMetrics:\n",
    "    def setup(self, builder):\n",
    "        self.start_time = time.time()\n",
    "        self.deaths = 0\n",
    "        self.ylls = 0\n",
    "        self.life_table = builder.lookup(build_life_table(),\n",
    "                                         key_columns=(), parameter_columns=('age',))\n",
    "        \n",
    "        builder.event.register_listener('deaths', self.count_deaths_and_ylls)\n",
    "        builder.event.register_listener('simulation_end', self.dump_metrics)\n",
    "\n",
    "    def count_deaths_and_ylls(self, event):\n",
    "        self.deaths += len(event.index)\n",
    "        t = self.life_table(event.index)\n",
    "        self.ylls += t.sum()    \n",
    "\n",
    "    def dump_metrics(self, event):\n",
    "        print('\\nWith intervention:')\n",
    "        print('Deaths:', self.deaths)\n",
    "        print('YLLs:', self.ylls)\n",
    "        print('Run time:', time.time() - self.start_time)"
   ]
  },
  {
   "cell_type": "code",
   "execution_count": 10,
   "metadata": {},
   "outputs": [
    {
     "data": {
      "application/vnd.jupyter.widget-view+json": {
       "model_id": "7ff57328d40840e18c8c32bacc2d83db",
       "version_major": 2,
       "version_minor": 0
      },
      "text/html": [
       "<p>Failed to display Jupyter Widget of type <code>VBox</code>.</p>\n",
       "<p>\n",
       "  If you're reading this message in the Jupyter Notebook or JupyterLab Notebook, it may mean\n",
       "  that the widgets JavaScript is still loading. If this message persists, it\n",
       "  likely means that the widgets JavaScript library is either not installed or\n",
       "  not enabled. See the <a href=\"https://ipywidgets.readthedocs.io/en/stable/user_install.html\">Jupyter\n",
       "  Widgets Documentation</a> for setup instructions.\n",
       "</p>\n",
       "<p>\n",
       "  If you're reading this message in another frontend (for example, a static\n",
       "  rendering on GitHub or <a href=\"https://nbviewer.jupyter.org/\">NBViewer</a>),\n",
       "  it may mean that your frontend doesn't currently support widgets.\n",
       "</p>\n"
      ],
      "text/plain": [
       "VBox(children=(HTML(value=''), IntProgress(value=0, max=3650)))"
      ]
     },
     "metadata": {},
     "output_type": "display_data"
    },
    {
     "name": "stdout",
     "output_type": "stream",
     "text": [
      "Cost: 77264.4986301377\n",
      "\n",
      "With intervention:\n",
      "Deaths: 866\n",
      "YLLs: Series([], dtype: float64)\n",
      "Run time: 89.70576548576355\n"
     ]
    },
    {
     "data": {
      "text/plain": [
       "3650"
      ]
     },
     "execution_count": 10,
     "metadata": {},
     "output_type": "execute_result"
    }
   ],
   "source": [
    "components = [TestPopulation(), SimpleMortality(), SimpleIntervention(), SimpleMetrics()]\n",
    "simulation = setup_simulation(components, population_size=n_simulants, start=t_start)\n",
    "pump_simulation(simulation, duration=pd.Timedelta(days=n_days))"
   ]
  },
  {
   "cell_type": "code",
   "execution_count": 11,
   "metadata": {},
   "outputs": [
    {
     "data": {
      "text/plain": [
       "<matplotlib.axes._subplots.AxesSubplot at 0x7f3d20097f60>"
      ]
     },
     "execution_count": 11,
     "metadata": {},
     "output_type": "execute_result"
    },
    {
     "data": {
      "image/png": "[encoded data removed]",
      "text/plain": [
       "<matplotlib.figure.Figure at 0x7f3d2007b898>"
      ]
     },
     "metadata": {},
     "output_type": "display_data"
    }
   ],
   "source": [
    "simulation.population.population.age.hist()"
   ]
  },
  {
   "cell_type": "code",
   "execution_count": 14,
   "metadata": {},
   "outputs": [
    {
     "data": {
      "text/plain": [
       "alive        9180\n",
       "dead          820\n",
       "untracked       0\n",
       "Name: alive, dtype: int64"
      ]
     },
     "execution_count": 14,
     "metadata": {},
     "output_type": "execute_result"
    }
   ],
   "source": [
    "df = simulation.population.population\n",
    "df.alive.value_counts()"
   ]
  },
  {
   "cell_type": "code",
   "execution_count": 15,
   "metadata": {
    "scrolled": true
   },
   "outputs": [
    {
     "name": "stdout",
     "output_type": "stream",
     "text": [
      "CDR = 8.2 / 1000\n"
     ]
    }
   ],
   "source": [
    "cdr = (df.alive != 'alive').sum() / (n_days/365*len(df))\n",
    "print('CDR = {:.1f} / 1000'.format(1000*cdr))"
   ]
  },
  {
   "cell_type": "code",
   "execution_count": null,
   "metadata": {},
   "outputs": [],
   "source": []
  }
 ],
 "metadata": {
  "anaconda-cloud": {},
  "kernelspec": {
   "display_name": "Python 3",
   "language": "python",
   "name": "python3"
  },
  "language_info": {
   "codemirror_mode": {
    "name": "ipython",
    "version": 3
   },
   "file_extension": ".py",
   "mimetype": "text/x-python",
   "name": "python",
   "nbconvert_exporter": "python",
   "pygments_lexer": "ipython3",
   "version": "3.6.4"
  }
 },
 "nbformat": 4,
 "nbformat_minor": 1
}
