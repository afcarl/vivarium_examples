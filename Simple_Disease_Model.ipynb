{
 "cells": [
  {
   "cell_type": "code",
   "execution_count": 7,
   "metadata": {},
   "outputs": [
    {
     "name": "stdout",
     "output_type": "stream",
     "text": [
      "Wed Feb 14 15:36:24 PST 2018\r\n"
     ]
    }
   ],
   "source": [
    "%matplotlib inline\n",
    "import time \n",
    "\n",
    "import numpy as np\n",
    "import pandas as pd\n",
    "import matplotlib.pyplot as plt\n",
    "import seaborn as sns\n",
    "\n",
    "from vivarium.framework.event import listens_for, emits\n",
    "from vivarium.framework.values import modifies_value, produces_value\n",
    "from vivarium.framework.population import uses_columns\n",
    "import vivarium.test_util as vtu\n",
    "\n",
    "!date"
   ]
  },
  {
   "cell_type": "markdown",
   "metadata": {},
   "source": [
    "# Simple Disease Model"
   ]
  },
  {
   "cell_type": "code",
   "execution_count": 8,
   "metadata": {},
   "outputs": [],
   "source": [
    "n_simulants = 10*1000\n",
    "n_days = 365*10\n",
    "t_start = pd.Timestamp('1990-01-01')"
   ]
  },
  {
   "cell_type": "code",
   "execution_count": 9,
   "metadata": {},
   "outputs": [],
   "source": [
    "class SimpleIntervention:\n",
    "    intervention_group = 'age >= 25 and alive == \"alive\"'\n",
    "\n",
    "    def setup(self, builder):\n",
    "        self.clock = builder.clock()\n",
    "        self.reset()\n",
    "\n",
    "    @listens_for('time_step')\n",
    "    @uses_columns(['age', 'alive'], intervention_group)\n",
    "    def track_cost(self, event):\n",
    "        if event.time.year >= 1995:\n",
    "            time_step = event.step_size\n",
    "            # FIXME: charge full price once per year?\n",
    "            self.cumulative_cost += 2.0 * len(event.index) * (time_step / pd.Timedelta(days=365))\n",
    "\n",
    "    @modifies_value('mortality_rate')\n",
    "    @uses_columns(['age'], intervention_group)\n",
    "    def mortality_rates(self, index, rates, population_view):\n",
    "        if self.clock().year >= 1995:\n",
    "            pop = population_view.get(index)\n",
    "            rates.loc[pop.index] *= 0.5\n",
    "        return rates\n",
    "\n",
    "    def reset(self):\n",
    "        self.cumulative_cost = 0\n",
    "\n",
    "    @listens_for('simulation_end', priority=0)\n",
    "    def dump_metrics(self, event):\n",
    "        print('Cost:', self.cumulative_cost)\n",
    "\n",
    "        \n",
    "class SimpleMortality:\n",
    "    configuration_defaults = {\n",
    "            'hello_world': {'mortality_rate': 0.01}\n",
    "    }\n",
    "\n",
    "    def setup(self, builder):\n",
    "        self.config = builder.configuration.hello_world\n",
    "        self.mortality_rate = builder.rate('mortality_rate')\n",
    "\n",
    "    @produces_value('mortality_rate')\n",
    "    def base_mortality_rate(self, index):\n",
    "        return pd.Series(self.config.mortality_rate, index=index)\n",
    "\n",
    "    @listens_for('time_step')\n",
    "    @emits('deaths')\n",
    "    @uses_columns(['alive'], \"alive == 'alive'\")\n",
    "    def handler(self, event, death_emitter):\n",
    "        effective_rate = self.mortality_rate(event.index)\n",
    "        effective_probability = 1-np.exp(-effective_rate)\n",
    "        draw = np.random.random(size=len(event.index))\n",
    "        affected_simulants = draw < effective_probability\n",
    "        event.population_view.update(pd.Series('dead', index=event.index[affected_simulants]).astype(\n",
    "                                  pd.api.types.CategoricalDtype(\n",
    "                                      categories=['alive', 'dead', 'untracked'], ordered=False)))\n",
    "        death_emitter(event.split(affected_simulants.index))\n",
    "\n",
    "        \n",
    "def build_life_table():\n",
    "    max_age = 110\n",
    "    max_expectency = 90\n",
    "    min_expectency = 1.5\n",
    "    \n",
    "    ages = np.arange(0, max_age, 0.01)\n",
    "    life_expectency = np.linspace(max_expectency, min_expectency, len(ages))\n",
    "    \n",
    "    return pd.DataFrame({'age': ages,\n",
    "                         'life_expectency': life_expectency})\n",
    "\n",
    "\n",
    "class SimpleMetrics:\n",
    "    def setup(self, builder):\n",
    "        self.reset()\n",
    "        self.life_table = builder.lookup(build_life_table(),\n",
    "                                         key_columns=(), parameter_columns=('age',))\n",
    "\n",
    "    @listens_for('deaths')\n",
    "    def count_deaths_and_ylls(self, event):\n",
    "        self.deaths += len(event.index)\n",
    "\n",
    "        t = self.life_table(event.index)\n",
    "        self.ylls += t.sum()\n",
    "\n",
    "    def reset(self):\n",
    "        self.start_time = time.time()\n",
    "        self.deaths = 0\n",
    "        self.ylls = 0\n",
    "\n",
    "    def run_time(self):\n",
    "        return time.time() - self.start_time\n",
    "\n",
    "    @listens_for('simulation_end', priority=0)\n",
    "    def dump_metrics(self, event):\n",
    "        print('\\nWith intervention:')\n",
    "        print('Deaths:', self.deaths)\n",
    "        print('YLLs:', self.ylls)\n",
    "        print('Run time:', self.run_time())"
   ]
  },
  {
   "cell_type": "code",
   "execution_count": 10,
   "metadata": {},
   "outputs": [],
   "source": [
    "components = [vtu.TestPopulation(), vtu.age_simulants,\n",
    "              SimpleMortality(), SimpleIntervention(), SimpleMetrics()]"
   ]
  },
  {
   "cell_type": "code",
   "execution_count": 11,
   "metadata": {},
   "outputs": [],
   "source": [
    "simulation = vtu.setup_simulation(components, population_size=n_simulants, start=t_start)\n",
    "metrics = simulation.values.get_value('metrics')"
   ]
  },
  {
   "cell_type": "code",
   "execution_count": 12,
   "metadata": {},
   "outputs": [
    {
     "data": {
      "text/html": [
       "<div>\n",
       "<style scoped>\n",
       "    .dataframe tbody tr th:only-of-type {\n",
       "        vertical-align: middle;\n",
       "    }\n",
       "\n",
       "    .dataframe tbody tr th {\n",
       "        vertical-align: top;\n",
       "    }\n",
       "\n",
       "    .dataframe thead th {\n",
       "        text-align: right;\n",
       "    }\n",
       "</style>\n",
       "<table border=\"1\" class=\"dataframe\">\n",
       "  <thead>\n",
       "    <tr style=\"text-align: right;\">\n",
       "      <th></th>\n",
       "      <th>location</th>\n",
       "      <th>entrance_time</th>\n",
       "      <th>age</th>\n",
       "      <th>alive</th>\n",
       "      <th>sex</th>\n",
       "      <th>exit_time</th>\n",
       "    </tr>\n",
       "  </thead>\n",
       "  <tbody>\n",
       "    <tr>\n",
       "      <th>0</th>\n",
       "      <td>180</td>\n",
       "      <td>1990-01-01</td>\n",
       "      <td>76.932171</td>\n",
       "      <td>alive</td>\n",
       "      <td>Female</td>\n",
       "      <td>NaT</td>\n",
       "    </tr>\n",
       "    <tr>\n",
       "      <th>1</th>\n",
       "      <td>180</td>\n",
       "      <td>1990-01-01</td>\n",
       "      <td>2.611212</td>\n",
       "      <td>alive</td>\n",
       "      <td>Male</td>\n",
       "      <td>NaT</td>\n",
       "    </tr>\n",
       "    <tr>\n",
       "      <th>2</th>\n",
       "      <td>180</td>\n",
       "      <td>1990-01-01</td>\n",
       "      <td>65.258061</td>\n",
       "      <td>alive</td>\n",
       "      <td>Male</td>\n",
       "      <td>NaT</td>\n",
       "    </tr>\n",
       "    <tr>\n",
       "      <th>3</th>\n",
       "      <td>180</td>\n",
       "      <td>1990-01-01</td>\n",
       "      <td>20.624341</td>\n",
       "      <td>alive</td>\n",
       "      <td>Male</td>\n",
       "      <td>NaT</td>\n",
       "    </tr>\n",
       "    <tr>\n",
       "      <th>4</th>\n",
       "      <td>180</td>\n",
       "      <td>1990-01-01</td>\n",
       "      <td>35.122283</td>\n",
       "      <td>alive</td>\n",
       "      <td>Male</td>\n",
       "      <td>NaT</td>\n",
       "    </tr>\n",
       "  </tbody>\n",
       "</table>\n",
       "</div>"
      ],
      "text/plain": [
       "   location entrance_time        age  alive     sex exit_time\n",
       "0       180    1990-01-01  76.932171  alive  Female       NaT\n",
       "1       180    1990-01-01   2.611212  alive    Male       NaT\n",
       "2       180    1990-01-01  65.258061  alive    Male       NaT\n",
       "3       180    1990-01-01  20.624341  alive    Male       NaT\n",
       "4       180    1990-01-01  35.122283  alive    Male       NaT"
      ]
     },
     "execution_count": 12,
     "metadata": {},
     "output_type": "execute_result"
    }
   ],
   "source": [
    "simulation.population.population.head()"
   ]
  },
  {
   "cell_type": "code",
   "execution_count": 13,
   "metadata": {},
   "outputs": [
    {
     "data": {
      "text/plain": [
       "location                  int64\n",
       "entrance_time    datetime64[ns]\n",
       "age                     float64\n",
       "alive                  category\n",
       "sex                      object\n",
       "exit_time        datetime64[ns]\n",
       "dtype: object"
      ]
     },
     "execution_count": 13,
     "metadata": {},
     "output_type": "execute_result"
    }
   ],
   "source": [
    "simulation.population.population.dtypes"
   ]
  },
  {
   "cell_type": "code",
   "execution_count": 14,
   "metadata": {},
   "outputs": [
    {
     "data": {
      "text/plain": [
       "Index(['alive', 'dead', 'untracked'], dtype='object')"
      ]
     },
     "execution_count": 14,
     "metadata": {},
     "output_type": "execute_result"
    }
   ],
   "source": [
    "simulation.population.population.alive.cat.categories"
   ]
  },
  {
   "cell_type": "code",
   "execution_count": 15,
   "metadata": {},
   "outputs": [
    {
     "data": {
      "text/plain": [
       "Series([], dtype: float64)"
      ]
     },
     "execution_count": 15,
     "metadata": {},
     "output_type": "execute_result"
    }
   ],
   "source": [
    "pd.Series()"
   ]
  },
  {
   "cell_type": "code",
   "execution_count": 16,
   "metadata": {},
   "outputs": [
    {
     "data": {
      "text/plain": [
       "<matplotlib.axes._subplots.AxesSubplot at 0x7f0bcf2b1208>"
      ]
     },
     "execution_count": 16,
     "metadata": {},
     "output_type": "execute_result"
    },
    {
     "data": {
      "image/png": "[encoded data removed]",
      "text/plain": [
       "<matplotlib.figure.Figure at 0x7f0bd06566a0>"
      ]
     },
     "metadata": {},
     "output_type": "display_data"
    }
   ],
   "source": [
    "simulation.population.population.age.hist()"
   ]
  },
  {
   "cell_type": "code",
   "execution_count": 17,
   "metadata": {},
   "outputs": [
    {
     "data": {
      "application/vnd.jupyter.widget-view+json": {
       "model_id": "be9d477513f9496ea6177dfc51da8ca7",
       "version_major": 2,
       "version_minor": 0
      },
      "text/html": [
       "<p>Failed to display Jupyter Widget of type <code>VBox</code>.</p>\n",
       "<p>\n",
       "  If you're reading this message in the Jupyter Notebook or JupyterLab Notebook, it may mean\n",
       "  that the widgets JavaScript is still loading. If this message persists, it\n",
       "  likely means that the widgets JavaScript library is either not installed or\n",
       "  not enabled. See the <a href=\"https://ipywidgets.readthedocs.io/en/stable/user_install.html\">Jupyter\n",
       "  Widgets Documentation</a> for setup instructions.\n",
       "</p>\n",
       "<p>\n",
       "  If you're reading this message in another frontend (for example, a static\n",
       "  rendering on GitHub or <a href=\"https://nbviewer.jupyter.org/\">NBViewer</a>),\n",
       "  it may mean that your frontend doesn't currently support widgets.\n",
       "</p>\n"
      ],
      "text/plain": [
       "VBox(children=(HTML(value=''), IntProgress(value=0, max=3650)))"
      ]
     },
     "metadata": {},
     "output_type": "display_data"
    },
    {
     "name": "stdout",
     "output_type": "stream",
     "text": [
      "Cost: 77444.02739726077\n",
      "\n",
      "With intervention:\n",
      "Deaths: 34890669\n",
      "YLLs: 1591812988.6724179\n",
      "Run time: 190.9860978126526\n"
     ]
    },
    {
     "data": {
      "text/plain": [
       "3650"
      ]
     },
     "execution_count": 17,
     "metadata": {},
     "output_type": "execute_result"
    }
   ],
   "source": [
    "vtu.pump_simulation(simulation, duration=pd.Timedelta(days=n_days))"
   ]
  },
  {
   "cell_type": "code",
   "execution_count": null,
   "metadata": {},
   "outputs": [],
   "source": [
    "simulation.population.population.age.hist()"
   ]
  },
  {
   "cell_type": "code",
   "execution_count": null,
   "metadata": {},
   "outputs": [],
   "source": [
    "simulation.population.population.exit_time.describe()"
   ]
  },
  {
   "cell_type": "code",
   "execution_count": null,
   "metadata": {},
   "outputs": [],
   "source": [
    "df = simulation.population.population\n",
    "df.alive.value_counts()"
   ]
  },
  {
   "cell_type": "code",
   "execution_count": null,
   "metadata": {
    "scrolled": true
   },
   "outputs": [],
   "source": [
    "cdr = (df.alive != 'alive').sum() / (n_days/365*len(df))\n",
    "print('CDR = {:.1f} / 1000'.format(1000*cdr))"
   ]
  },
  {
   "cell_type": "code",
   "execution_count": null,
   "metadata": {
    "collapsed": true
   },
   "outputs": [],
   "source": []
  }
 ],
 "metadata": {
  "anaconda-cloud": {},
  "kernelspec": {
   "display_name": "Python 3",
   "language": "python",
   "name": "python3"
  },
  "language_info": {
   "codemirror_mode": {
    "name": "ipython",
    "version": 3
   },
   "file_extension": ".py",
   "mimetype": "text/x-python",
   "name": "python",
   "nbconvert_exporter": "python",
   "pygments_lexer": "ipython3",
   "version": "3.6.4"
  }
 },
 "nbformat": 4,
 "nbformat_minor": 1
}
