{
 "cells": [
  {
   "cell_type": "code",
   "execution_count": 3,
   "metadata": {},
   "outputs": [],
   "source": [
    "import numpy as np, pandas as pd\n",
    "\n",
    "import matplotlib.pyplot as plt\n",
    "%matplotlib inline\n",
    "\n",
    "import ceam_tests.util as ctu\n",
    "\n",
    "from ceam.framework.event import listens_for\n",
    "# from ceam.framework.values import produces_value, modifies_value\n",
    "from ceam.framework.population import uses_columns\n",
    "\n",
    "np.random.seed(12345)  # set random seed for reproducibility\n",
    "\n",
    "n_simulants = 50\n",
    "n_days = 5000\n",
    "t_timestep = 1 # days\n",
    "t_start = pd.Timestamp('1990-01-01')"
   ]
  },
  {
   "cell_type": "markdown",
   "metadata": {},
   "source": [
    "# Firefly micromechanism\n",
    "\n",
    "Each agent is a firefly.  It has a clock, and at time 0 it lights up.  It also has neighbors, and if it sees a neighbor light up before it does, it jumps its clock forward one.  This should lead all fireflies to sync up."
   ]
  },
  {
   "cell_type": "code",
   "execution_count": 4,
   "metadata": {},
   "outputs": [
    {
     "data": {
      "text/plain": [
       "False    21\n",
       "True      4\n",
       "Name: age, dtype: int64"
      ]
     },
     "execution_count": 4,
     "metadata": {},
     "output_type": "execute_result"
    }
   ],
   "source": [
    "def is_glowing(df):\n",
    "    return (df.age % 10) < 1\n",
    "is_glowing(pd.DataFrame({'age':np.random.uniform(low=0, high=100, size=25)})).value_counts()"
   ]
  },
  {
   "cell_type": "code",
   "execution_count": 5,
   "metadata": {},
   "outputs": [
    {
     "data": {
      "text/plain": [
       "0.080000000000000002"
      ]
     },
     "execution_count": 5,
     "metadata": {},
     "output_type": "execute_result"
    }
   ],
   "source": [
    "@listens_for('initialize_simulants', priority=0)\n",
    "@uses_columns(['age', 'sex', 'glow'])\n",
    "def my_generate_base_population(event):\n",
    "    \"\"\" Base population needs nothing, really\n",
    "    \n",
    "    updates columns age and sex because CEAM expects them\n",
    "    \"\"\"\n",
    "    population = pd.DataFrame(index=event.index)\n",
    "    population['age'] = np.random.uniform(low=0, high=10, size=len(population))\n",
    "    population['sex'] = '-'\n",
    "    population['glow'] = is_glowing(population)\n",
    "\n",
    "    # update the population in the model\n",
    "    event.population_view.update(population)\n",
    "\n",
    "# instead of using simulate, just do this:\n",
    "components = [my_generate_base_population]\n",
    "simulation = ctu.setup_simulation(components, population_size=n_simulants, start=t_start)\n",
    "ctu.pump_simulation(simulation, time_step_days=t_timestep, duration=pd.Timedelta(days=n_days))\n",
    "\n",
    "# take a look at the population at the end of the sim\n",
    "simulation.population.population.glow.mean()"
   ]
  },
  {
   "cell_type": "code",
   "execution_count": 6,
   "metadata": {},
   "outputs": [
    {
     "name": "stdout",
     "output_type": "stream",
     "text": [
      "CPU times: user 17.8 s, sys: 24 ms, total: 17.9 s\n",
      "Wall time: 17.9 s\n"
     ]
    },
    {
     "data": {
      "text/plain": [
       "0.12"
      ]
     },
     "execution_count": 6,
     "metadata": {},
     "output_type": "execute_result"
    }
   ],
   "source": [
    "glow_mean = []\n",
    "glow=\n",
    "\n",
    "@listens_for('time_step')\n",
    "@uses_columns(['age', 'glow'])\n",
    "def advance_clock_independently(event):\n",
    "    t = event.population\n",
    "    t.age += np.random.uniform(low=0, high=.1, size=len(t))\n",
    "    t.glow = is_glowing(t)\n",
    "    event.population_view.update(t)\n",
    "    glow_mean.append(t.glow.mean())\n",
    "\n",
    "components = [my_generate_base_population, advance_clock_independently]\n",
    "simulation = ctu.setup_simulation(components, population_size=n_simulants, start=t_start)\n",
    "%time ctu.pump_simulation(simulation, time_step_days=t_timestep, duration=pd.Timedelta(days=n_days))\n",
    "\n",
    "\n",
    "# take a look at the population at the end of the sim\n",
    "simulation.population.population.glow.mean()"
   ]
  },
  {
   "cell_type": "code",
   "execution_count": 7,
   "metadata": {},
   "outputs": [
    {
     "data": {
      "text/plain": [
       "(-249.95000000000002, 5248.9499999999998, -0.013000000000000001, 1)"
      ]
     },
     "execution_count": 7,
     "metadata": {},
     "output_type": "execute_result"
    },
    {
     "data": {
      "image/png": "[encoded data removed]",
      "text/plain": [
       "<matplotlib.figure.Figure at 0x7f881f87e0f0>"
      ]
     },
     "metadata": {},
     "output_type": "display_data"
    }
   ],
   "source": [
    "plt.plot(glow_mean)\n",
    "plt.xlabel('Time (s)')\n",
    "plt.ylabel('Fraction Glowing')\n",
    "plt.axis(ymax=1)"
   ]
  },
  {
   "cell_type": "code",
   "execution_count": 9,
   "metadata": {},
   "outputs": [],
   "source": [
    "def my_rewired_band(n, k, p):\n",
    "    \"\"\" SW Network\n",
    "    k : int, width of band-1/2\n",
    "    p : probability of rewiring\n",
    "    \"\"\"\n",
    "    A = np.eye(n)\n",
    "    for i in range(n):\n",
    "        for j in range(i-k,i+k+1):\n",
    "            if np.random.uniform() < p:\n",
    "                A[i, np.random.randint(n)] = 1\n",
    "            else:\n",
    "                A[i, (j%n)] = 1\n",
    "    return A\n",
    "            \n",
    "my_rewired_band(10, k=2, p=.5)\n",
    "\n",
    "#adjacency_matrix = np.ones((n_simulants, n_simulants)).astype(bool)\n",
    "adjacency_matrix = my_rewired_band(n_simulants, k=5, p=.2).astype(bool)"
   ]
  },
  {
   "cell_type": "code",
   "execution_count": 10,
   "metadata": {},
   "outputs": [
    {
     "name": "stderr",
     "output_type": "stream",
     "text": [
      "/home/james/miniconda3/envs/ceam_development/lib/python3.5/site-packages/ipykernel/__main__.py:14: SettingWithCopyWarning: \n",
      "A value is trying to be set on a copy of a slice from a DataFrame\n",
      "\n",
      "See the caveats in the documentation: http://pandas.pydata.org/pandas-docs/stable/indexing.html#indexing-view-versus-copy\n"
     ]
    },
    {
     "name": "stdout",
     "output_type": "stream",
     "text": [
      "CPU times: user 4min 25s, sys: 248 ms, total: 4min 26s\n",
      "Wall time: 4min 27s\n"
     ]
    },
    {
     "data": {
      "text/plain": [
       "0.0"
      ]
     },
     "execution_count": 10,
     "metadata": {},
     "output_type": "execute_result"
    }
   ],
   "source": [
    "glow_mean = []\n",
    "\n",
    "def neighbors_glowing(glow):\n",
    "    neighbor_glow = np.dot(adjacency_matrix, glow)\n",
    "    return neighbor_glow > 0\n",
    "\n",
    "@listens_for('time_step')\n",
    "@uses_columns(['age', 'glow'])\n",
    "def advance_clock_from_neighbors(event):\n",
    "    t = event.population\n",
    "\n",
    "    see_glow = neighbors_glowing(t.glow)\n",
    "    advance_clock = see_glow & (t.age % 10 >= 5)\n",
    "    t.age[advance_clock] += np.random.uniform(low=0, high=.1, size=sum(advance_clock))\n",
    "    \n",
    "    event.population_view.update(t)\n",
    "    \n",
    "\n",
    "\n",
    "components = [my_generate_base_population, advance_clock_independently, advance_clock_from_neighbors]\n",
    "simulation = ctu.setup_simulation(components, population_size=n_simulants, start=t_start)\n",
    "%time ctu.pump_simulation(simulation, time_step_days=t_timestep, duration=pd.Timedelta(days=n_days))\n",
    "\n",
    "\n",
    "# take a look at the population at the end of the sim\n",
    "simulation.population.population.glow.mean()    "
   ]
  },
  {
   "cell_type": "code",
   "execution_count": 11,
   "metadata": {},
   "outputs": [
    {
     "data": {
      "text/plain": [
       "<matplotlib.text.Text at 0x7f87e7ea92b0>"
      ]
     },
     "execution_count": 11,
     "metadata": {},
     "output_type": "execute_result"
    },
    {
     "data": {
      "image/png": "[encoded data removed]",
      "text/plain": [
       "<matplotlib.figure.Figure at 0x7f87e7e06d68>"
      ]
     },
     "metadata": {},
     "output_type": "display_data"
    }
   ],
   "source": [
    "plt.plot(glow_mean)\n",
    "plt.xlabel('Time (s)')\n",
    "plt.ylabel('Fraction Glowing')"
   ]
  },
  {
   "cell_type": "code",
   "execution_count": null,
   "metadata": {
    "collapsed": true
   },
   "outputs": [],
   "source": []
  }
 ],
 "metadata": {
  "anaconda-cloud": {},
  "kernelspec": {
   "display_name": "Python [conda env:ceam_development]",
   "language": "python",
   "name": "conda-env-ceam_development-py"
  },
  "language_info": {
   "codemirror_mode": {
    "name": "ipython",
    "version": 3
   },
   "file_extension": ".py",
   "mimetype": "text/x-python",
   "name": "python",
   "nbconvert_exporter": "python",
   "pygments_lexer": "ipython3",
   "version": "3.5.3"
  }
 },
 "nbformat": 4,
 "nbformat_minor": 1
}
