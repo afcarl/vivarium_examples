{
 "cells": [
  {
   "cell_type": "code",
   "execution_count": 2,
   "metadata": {},
   "outputs": [],
   "source": [
    "%matplotlib inline\n",
    "\n",
    "import numpy as np\n",
    "import pandas as pd\n",
    "from numba import njit\n",
    "import matplotlib.pyplot as plt\n",
    "\n",
    "from vivarium.test_util import build_simulation_configuration, setup_simulation, pump_simulation"
   ]
  },
  {
   "cell_type": "markdown",
   "metadata": {},
   "source": [
    "# Setup a base population component to set up the state table.\n",
    "\n",
    "We have to do a bit of weird stuff to include multiple agent types.  "
   ]
  },
  {
   "cell_type": "code",
   "execution_count": 12,
   "metadata": {},
   "outputs": [],
   "source": [
    "class BasePopulation:\n",
    "    configuration_defaults = {\n",
    "        'population': {\n",
    "            'number_of_boids': 100,\n",
    "            'number_of_prey': 0,\n",
    "            'number_of_predators': 0,\n",
    "        }\n",
    "    }\n",
    "    \n",
    "    def setup(self, builder):\n",
    "        columns = ['type', 'mass', 'alive', 'cause_of_death']\n",
    "        self.population_view = builder.population.get_view(columns=columns)\n",
    "        builder.population.initializes_simulants(self.on_create_simulants, creates_columns=columns)\n",
    "        \n",
    "        self.config = builder.configuration.population        \n",
    "    \n",
    "    def on_create_simulants(self, pop_data):\n",
    "        num_boids = pop_data.user_data.get('number_of_boids', self.config.number_of_boids)\n",
    "        num_prey = pop_data.user_data.get('number_of_prey', self.config.number_of_prey)\n",
    "        num_predators = pop_data.user_data.get('number_of_predators', self.config.number_of_predators)\n",
    "        sim_types = pd.Series(\n",
    "            ['boid']*num_boids + ['prey']*num_prey + ['predator']*num_predators, index=pop_data.index)\n",
    "        sim_masses = pd.Series(0, index=pop_data.index)\n",
    "        self.population_view.update(pd.DataFrame({'type': sim_types,\n",
    "                                                  'mass': sim_masses, \n",
    "                                                  'alive': [1]*len(pop_data.index),\n",
    "                                                  'cause_of_death': ['None']*len(pop_data.index)}))\n",
    "\n"
   ]
  },
  {
   "cell_type": "markdown",
   "metadata": {},
   "source": [
    "# Some Boids specific population configuration\n",
    "\n",
    "We'll have them lose mass over time due to energy expenditure"
   ]
  },
  {
   "cell_type": "code",
   "execution_count": 29,
   "metadata": {},
   "outputs": [],
   "source": [
    "class BoidsPopulation:\n",
    "    configuration_defaults = {\n",
    "        'boids': {\n",
    "            'mass_range': [2, 10],\n",
    "            'growth_rate': -.01, # Boids use energy to fly\n",
    "            'velocity_max': 1,\n",
    "        }\n",
    "    }\n",
    "    \n",
    "    def setup(self, builder):\n",
    "        self.config = builder.configuration.boids        \n",
    "        self.randomness = builder.randomness.get_stream('boids_initialization')\n",
    "        \n",
    "        self.population_view = builder.population.get_view(columns=['type', 'mass', 'alive'], \n",
    "                                                           query='type == \"boid\" and alive == 1')\n",
    "        builder.population.initializes_simulants(self.on_create_boids, \n",
    "                                                 requires_columns=['type', 'mass', 'alive'])\n",
    "        \n",
    "        builder.event.register_listener('time_step', self.on_time_step)\n",
    "        \n",
    "    def on_create_boids(self, pop_data):\n",
    "        mass_min, mass_max = self.config.mass_range\n",
    "        masses = self.randomness.get_draw(pop_data.index) * (mass_max - mass_min) + mass_min\n",
    "        masses.name = 'mass'\n",
    "        pop = self.population_view.get(pop_data.index)        \n",
    "        pop['mass'] = masses\n",
    "        self.population_view.update(pop)\n",
    "        \n",
    "    def on_time_step(self, event):\n",
    "        pop = self.population_view.get(event.index)        \n",
    "        pop.loc[:, 'mass'] *= 1 + self.config.growth_rate        \n",
    "        self.population_view.update(pop)      \n",
    "        \n",
    "\n"
   ]
  },
  {
   "cell_type": "markdown",
   "metadata": {},
   "source": [
    "# Death if you lose enough mass.  It ain't easy bein' a boid."
   ]
  },
  {
   "cell_type": "code",
   "execution_count": 30,
   "metadata": {},
   "outputs": [],
   "source": [
    "class BoidsStarvation:\n",
    "    def setup(self, builder):\n",
    "        self.min_mass = builder.configuration.boids.mass_range[0]\n",
    "        self.population_view = builder.population.get_view(columns=['type', 'mass', 'alive', 'cause_of_death'], \n",
    "                                                           query='type == \"boid\" and alive == 1')\n",
    "        \n",
    "        builder.event.register_listener('time_step', self.on_time_step)        \n",
    "    \n",
    "    def on_time_step(self, event):\n",
    "        pop = self.population_view.get(event.index)\n",
    "        died = pop['mass'] < self.min_mass\n",
    "        pop.loc[died, 'alive'] = 0\n",
    "        pop.loc[died, 'cause_of_death'] = 'starvation'\n",
    "        self.population_view.update(pop)"
   ]
  },
  {
   "cell_type": "markdown",
   "metadata": {},
   "source": [
    "### Let's make sure everything so far works"
   ]
  },
  {
   "cell_type": "code",
   "execution_count": 31,
   "metadata": {},
   "outputs": [],
   "source": [
    "components = [BasePopulation(), BoidsPopulation(), BoidsStarvation()]\n",
    "sim = setup_simulation(components, population_size=100) # The population size thing here sucks"
   ]
  },
  {
   "cell_type": "code",
   "execution_count": 32,
   "metadata": {},
   "outputs": [
    {
     "data": {
      "text/plain": [
       "type\n",
       "boid    5.48\n",
       "Name: mass, dtype: float64"
      ]
     },
     "execution_count": 32,
     "metadata": {},
     "output_type": "execute_result"
    }
   ],
   "source": [
    "pop = sim.population.population\n",
    "pop.groupby('type')['mass'].mean()"
   ]
  },
  {
   "cell_type": "code",
   "execution_count": 33,
   "metadata": {},
   "outputs": [
    {
     "data": {
      "text/plain": [
       "type\n",
       "boid    100\n",
       "Name: alive, dtype: int64"
      ]
     },
     "execution_count": 33,
     "metadata": {},
     "output_type": "execute_result"
    }
   ],
   "source": [
    "pop[pop.alive == 1].groupby('type')['alive'].count()"
   ]
  },
  {
   "cell_type": "code",
   "execution_count": 34,
   "metadata": {},
   "outputs": [
    {
     "data": {
      "application/vnd.jupyter.widget-view+json": {
       "model_id": "113b690a9a4e46659dac0da65a198f54",
       "version_major": 2,
       "version_minor": 0
      },
      "text/html": [
       "<p>Failed to display Jupyter Widget of type <code>VBox</code>.</p>\n",
       "<p>\n",
       "  If you're reading this message in the Jupyter Notebook or JupyterLab Notebook, it may mean\n",
       "  that the widgets JavaScript is still loading. If this message persists, it\n",
       "  likely means that the widgets JavaScript library is either not installed or\n",
       "  not enabled. See the <a href=\"https://ipywidgets.readthedocs.io/en/stable/user_install.html\">Jupyter\n",
       "  Widgets Documentation</a> for setup instructions.\n",
       "</p>\n",
       "<p>\n",
       "  If you're reading this message in another frontend (for example, a static\n",
       "  rendering on GitHub or <a href=\"https://nbviewer.jupyter.org/\">NBViewer</a>),\n",
       "  it may mean that your frontend doesn't currently support widgets.\n",
       "</p>\n"
      ],
      "text/plain": [
       "VBox(children=(HTML(value=''), IntProgress(value=0)))"
      ]
     },
     "metadata": {},
     "output_type": "display_data"
    },
    {
     "data": {
      "text/plain": [
       "100"
      ]
     },
     "execution_count": 34,
     "metadata": {},
     "output_type": "execute_result"
    }
   ],
   "source": [
    "pump_simulation(sim, iterations=100)"
   ]
  },
  {
   "cell_type": "code",
   "execution_count": 35,
   "metadata": {},
   "outputs": [
    {
     "data": {
      "text/plain": [
       "type\n",
       "boid    2.349754\n",
       "Name: mass, dtype: float64"
      ]
     },
     "execution_count": 35,
     "metadata": {},
     "output_type": "execute_result"
    }
   ],
   "source": [
    "pop = sim.population.population\n",
    "pop.groupby('type')['mass'].mean()"
   ]
  },
  {
   "cell_type": "code",
   "execution_count": 36,
   "metadata": {},
   "outputs": [
    {
     "data": {
      "text/plain": [
       "type\n",
       "boid    49\n",
       "Name: alive, dtype: int64"
      ]
     },
     "execution_count": 36,
     "metadata": {},
     "output_type": "execute_result"
    }
   ],
   "source": [
    "pop[pop.alive == 1].groupby('type')['alive'].count()"
   ]
  },
  {
   "cell_type": "markdown",
   "metadata": {},
   "source": [
    "### Only boids have mass, lose mass, and die.  As expected"
   ]
  },
  {
   "cell_type": "markdown",
   "metadata": {},
   "source": [
    "# Let's give them a place to fly around.\n",
    "\n",
    "The territory also defines all the kinematic parameters we'll need later.  This is again due to the weirdness of shoving multiple agent types into the simulation."
   ]
  },
  {
   "cell_type": "code",
   "execution_count": 41,
   "metadata": {},
   "outputs": [],
   "source": [
    "# The field\n",
    "class BoidsTerritory:\n",
    "    configuration_defaults = {\n",
    "        'territory': {\n",
    "            'width': 50,\n",
    "            'height': 50,\n",
    "        }\n",
    "    }\n",
    "    \n",
    "    def setup(self, builder):\n",
    "        columns = ['p_x', 'p_y', 'v_x', 'v_y', 'a_x', 'a_y']\n",
    "        self.population_view = builder.population.get_view(columns=columns)        \n",
    "        builder.population.initializes_simulants(self.on_create_simulants,\n",
    "                                                 creates_columns=columns)\n",
    "    \n",
    "        self.config = builder.configuration.territory\n",
    "        self.randomness = builder.randomness.get_stream('initial_position')\n",
    "    \n",
    "    def on_create_simulants(self, pop_data):\n",
    "        num_sims = len(pop_data.index)\n",
    "        x_pos = (self.config.width + 1) * self.randomness.get_draw(pop_data.index, 'x_pos')\n",
    "        y_pos = (self.config.height + 1) * self.randomness.get_draw(pop_data.index, 'y_pos')\n",
    "        self.population_view.update(pd.DataFrame({'p_x': x_pos,\n",
    "                                                  'p_y': y_pos,\n",
    "                                                  'v_x': np.random.random(num_sims) + 1, \n",
    "                                                  'v_y': np.random.random(num_sims),\n",
    "                                                  'a_x': [0.0]*num_sims, \n",
    "                                                  'a_y': [0.0]*num_sims}, \n",
    "                                                 index=pop_data.index))\n",
    "        "
   ]
  },
  {
   "cell_type": "code",
   "execution_count": 42,
   "metadata": {},
   "outputs": [],
   "source": [
    "components = [BasePopulation(), BoidsPopulation(), BoidsTerritory()]\n",
    "sim = setup_simulation(components, population_size=100)"
   ]
  },
  {
   "cell_type": "code",
   "execution_count": 43,
   "metadata": {},
   "outputs": [
    {
     "data": {
      "text/html": [
       "<div>\n",
       "<style scoped>\n",
       "    .dataframe tbody tr th:only-of-type {\n",
       "        vertical-align: middle;\n",
       "    }\n",
       "\n",
       "    .dataframe tbody tr th {\n",
       "        vertical-align: top;\n",
       "    }\n",
       "\n",
       "    .dataframe thead th {\n",
       "        text-align: right;\n",
       "    }\n",
       "</style>\n",
       "<table border=\"1\" class=\"dataframe\">\n",
       "  <thead>\n",
       "    <tr style=\"text-align: right;\">\n",
       "      <th></th>\n",
       "      <th>v_x</th>\n",
       "      <th>v_y</th>\n",
       "      <th>a_y</th>\n",
       "      <th>a_x</th>\n",
       "      <th>p_y</th>\n",
       "      <th>p_x</th>\n",
       "      <th>mass</th>\n",
       "      <th>cause_of_death</th>\n",
       "      <th>type</th>\n",
       "      <th>alive</th>\n",
       "    </tr>\n",
       "  </thead>\n",
       "  <tbody>\n",
       "    <tr>\n",
       "      <th>0</th>\n",
       "      <td>1.687947</td>\n",
       "      <td>0.017353</td>\n",
       "      <td>0.0</td>\n",
       "      <td>0.0</td>\n",
       "      <td>19.007387</td>\n",
       "      <td>40.907080</td>\n",
       "      <td>6.0</td>\n",
       "      <td>None</td>\n",
       "      <td>boid</td>\n",
       "      <td>1</td>\n",
       "    </tr>\n",
       "    <tr>\n",
       "      <th>1</th>\n",
       "      <td>1.328752</td>\n",
       "      <td>0.094329</td>\n",
       "      <td>0.0</td>\n",
       "      <td>0.0</td>\n",
       "      <td>6.940377</td>\n",
       "      <td>35.284138</td>\n",
       "      <td>4.0</td>\n",
       "      <td>None</td>\n",
       "      <td>boid</td>\n",
       "      <td>1</td>\n",
       "    </tr>\n",
       "    <tr>\n",
       "      <th>2</th>\n",
       "      <td>1.267433</td>\n",
       "      <td>0.372385</td>\n",
       "      <td>0.0</td>\n",
       "      <td>0.0</td>\n",
       "      <td>29.523646</td>\n",
       "      <td>10.365793</td>\n",
       "      <td>7.0</td>\n",
       "      <td>None</td>\n",
       "      <td>boid</td>\n",
       "      <td>1</td>\n",
       "    </tr>\n",
       "    <tr>\n",
       "      <th>3</th>\n",
       "      <td>1.267968</td>\n",
       "      <td>0.417775</td>\n",
       "      <td>0.0</td>\n",
       "      <td>0.0</td>\n",
       "      <td>19.953259</td>\n",
       "      <td>34.348005</td>\n",
       "      <td>3.0</td>\n",
       "      <td>None</td>\n",
       "      <td>boid</td>\n",
       "      <td>1</td>\n",
       "    </tr>\n",
       "    <tr>\n",
       "      <th>4</th>\n",
       "      <td>1.539196</td>\n",
       "      <td>0.349828</td>\n",
       "      <td>0.0</td>\n",
       "      <td>0.0</td>\n",
       "      <td>14.971175</td>\n",
       "      <td>26.508695</td>\n",
       "      <td>5.0</td>\n",
       "      <td>None</td>\n",
       "      <td>boid</td>\n",
       "      <td>1</td>\n",
       "    </tr>\n",
       "  </tbody>\n",
       "</table>\n",
       "</div>"
      ],
      "text/plain": [
       "        v_x       v_y  a_y  a_x        p_y        p_x  mass cause_of_death  \\\n",
       "0  1.687947  0.017353  0.0  0.0  19.007387  40.907080   6.0           None   \n",
       "1  1.328752  0.094329  0.0  0.0   6.940377  35.284138   4.0           None   \n",
       "2  1.267433  0.372385  0.0  0.0  29.523646  10.365793   7.0           None   \n",
       "3  1.267968  0.417775  0.0  0.0  19.953259  34.348005   3.0           None   \n",
       "4  1.539196  0.349828  0.0  0.0  14.971175  26.508695   5.0           None   \n",
       "\n",
       "   type  alive  \n",
       "0  boid      1  \n",
       "1  boid      1  \n",
       "2  boid      1  \n",
       "3  boid      1  \n",
       "4  boid      1  "
      ]
     },
     "execution_count": 43,
     "metadata": {},
     "output_type": "execute_result"
    }
   ],
   "source": [
    "sim.population.population.head()"
   ]
  },
  {
   "cell_type": "markdown",
   "metadata": {},
   "source": [
    "# Time to fly!\n",
    "\n",
    "\"Simple\""
   ]
  },
  {
   "cell_type": "code",
   "execution_count": 48,
   "metadata": {},
   "outputs": [],
   "source": [
    "class BoidsSimpleFlight:\n",
    "    configuration_defaults = {\n",
    "        'flight': {\n",
    "            'basic_force': 1,  # How forceful is the tendency to keep flying in the direction we're going?\n",
    "            'max_acceleration': 1,\n",
    "            'max_jerk': 3,  # constrain the maximum change in acceleration.\n",
    "        }\n",
    "    }\n",
    "    def setup(self, builder):\n",
    "        self.basic_force = builder.configuration.flight.basic_force\n",
    "        self.max_jerk = builder.configuration.flight.max_jerk        \n",
    "        self.max_v = builder.configuration.boids.velocity_max\n",
    "        self.territory_config = builder.configuration.territory\n",
    "        \n",
    "        columns = ['type', 'mass', 'p_x', 'p_y', 'v_x', 'v_y', 'a_x', 'a_y']\n",
    "        self.population_view = builder.population.get_view(columns, query='type == \"boid\" and alive == 1')\n",
    "        \n",
    "        self.force = builder.value.register_value_producer('boids.force', \n",
    "                                                           source=self.basic_forcing_function)\n",
    "        \n",
    "        builder.event.register_listener('time_step', self.on_time_step)\n",
    "        \n",
    "        \n",
    "    def on_time_step(self, event):\n",
    "        pop = self.population_view.get(event.index)\n",
    "        step_size = event.step_size/pd.Timedelta(days=1)  #vivarium convention of time step in days\n",
    "        \n",
    "        # Woo kinematics.  This assumes constant acceleration. \n",
    "        # This will require some tuning and is why the `max_jerk` parameter exists.  \n",
    "        # It needs to be balanced against the maximum velocities in order to come out okay.\n",
    "        pop['p_x'] += (pop['v_x'] * step_size + 1/2 * pop['a_x'] * step_size**2) \n",
    "        pop['p_y'] += (pop['v_y'] * step_size + 1/2 * pop['a_y'] * step_size**2 ) \n",
    "        pop['v_x'] += pop['a_x'] * step_size\n",
    "        pop['v_y'] += pop['a_y'] * step_size\n",
    "        \n",
    "        \n",
    "        new_a = self.calculate_new_acceleration(pop[['mass', 'a_x', 'a_y']])\n",
    "        pop['a_x'] = new_a['a_x']\n",
    "        pop['a_y'] = new_a['a_y']\n",
    "        \n",
    "        self.population_view.update(pop)\n",
    "        \n",
    "    def basic_forcing_function(self, index):\n",
    "        pop = self.population_view.get(index)\n",
    "        v = np.sqrt(pop['v_x']**2 + pop['v_y']**2)\n",
    "        \n",
    "        # A signed proportion of the difference between our actual and desired velocity\n",
    "        dv = 1 - v/self.max_v\n",
    "        scale = self.basic_force * dv\n",
    "        return pd.DataFrame({'force_x': scale*pop['v_x']/v, \n",
    "                             'force_y': scale*pop['v_y']/v})\n",
    "    \n",
    "    def calculate_new_acceleration(self, pop):\n",
    "        force = self.force(pop.index)\n",
    "        new_a_x = force['force_x']/pop['mass']\n",
    "        new_a_y = force['force_y']/pop['mass']\n",
    "        da = np.sqrt((new_a_x - pop['a_x'])**2 + (new_a_y - pop['a_y'])**2)\n",
    "        new_a_x[da > self.max_jerk] *= self.max_jerk/da\n",
    "        new_a_y[da > self.max_jerk] *= self.max_jerk/da\n",
    "        \n",
    "        return pd.DataFrame({'a_x': new_a_x, 'a_y': new_a_y}, index=pop.index)"
   ]
  },
  {
   "cell_type": "code",
   "execution_count": 53,
   "metadata": {},
   "outputs": [],
   "source": [
    "from matplotlib import animation\n",
    "import seaborn as sns\n",
    "# making things look nice is always fiddley\n",
    "\n",
    "def my_plot(df):\n",
    "    x = df.p_x % 400\n",
    "    y = df.p_y % 400\n",
    "    \n",
    "    # is there an easy way to plot the velocities?\n",
    "    #xx = []\n",
    "    #yy = []\n",
    "    #for i in df.index:\n",
    "    #    xx += [x[i], x[i]+df.v_x[i], np.nan]\n",
    "    #    yy += [y[i], y[i]+df.v_y[i], np.nan]\n",
    "\n",
    "    #plt.plot(xx, yy, sns.xkcd_rgb['light blue'])\n",
    "    plt.plot(x, y, 'k.')\n",
    "    plt.axis(xmin=0, ymin=0, xmax=400, ymax=400)\n",
    "    plt.xticks([])\n",
    "    plt.yticks([])\n",
    "\n",
    "\n",
    "class MovieWriter:\n",
    "    def __init__(self, fname):\n",
    "        self.moviewriter = animation.ImageMagickWriter(fps=10)\n",
    "        self.fname = fname\n",
    "            \n",
    "    def __enter__(self):\n",
    "        fig = plt.figure()\n",
    "        self.moviewriter.setup(fig, self.fname, dpi=100)\n",
    "        return self\n",
    "    \n",
    "    def setup(self, builder):\n",
    "        self.population_view = builder.population.get_view(['p_x', 'p_y', 'v_x', 'v_y'])\n",
    "        builder.event.register_listener('collect_metrics', self.on_collect_metrics)        \n",
    "    \n",
    "    def on_collect_metrics(self, event):\n",
    "        pop = self.population_view.get(event.index)\n",
    "        \n",
    "        plt.clf()\n",
    "        my_plot(pop)\n",
    "\n",
    "        self.moviewriter.grab_frame()\n",
    "\n",
    "    def __exit__(self, exception_type, exception_value, traceback):\n",
    "        self.moviewriter.finish()\n"
   ]
  },
  {
   "cell_type": "code",
   "execution_count": 54,
   "metadata": {},
   "outputs": [
    {
     "data": {
      "application/vnd.jupyter.widget-view+json": {
       "model_id": "e8f1137a4bb544fc9cad50161cb3b71c",
       "version_major": 2,
       "version_minor": 0
      },
      "text/html": [
       "<p>Failed to display Jupyter Widget of type <code>VBox</code>.</p>\n",
       "<p>\n",
       "  If you're reading this message in the Jupyter Notebook or JupyterLab Notebook, it may mean\n",
       "  that the widgets JavaScript is still loading. If this message persists, it\n",
       "  likely means that the widgets JavaScript library is either not installed or\n",
       "  not enabled. See the <a href=\"https://ipywidgets.readthedocs.io/en/stable/user_install.html\">Jupyter\n",
       "  Widgets Documentation</a> for setup instructions.\n",
       "</p>\n",
       "<p>\n",
       "  If you're reading this message in another frontend (for example, a static\n",
       "  rendering on GitHub or <a href=\"https://nbviewer.jupyter.org/\">NBViewer</a>),\n",
       "  it may mean that your frontend doesn't currently support widgets.\n",
       "</p>\n"
      ],
      "text/plain": [
       "VBox(children=(HTML(value=''), IntProgress(value=0, max=50)))"
      ]
     },
     "metadata": {},
     "output_type": "display_data"
    },
    {
     "name": "stdout",
     "output_type": "stream",
     "text": [
      "CPU times: user 4.57 s, sys: 69.6 ms, total: 4.64 s\n",
      "Wall time: 4.96 s\n"
     ]
    },
    {
     "data": {
      "image/png": "[encoded data removed]",
      "text/plain": [
       "<matplotlib.figure.Figure at 0x7f93086c2cf8>"
      ]
     },
     "metadata": {},
     "output_type": "display_data"
    }
   ],
   "source": [
    "%%time\n",
    "\n",
    "with MovieWriter('t.gif') as mw:\n",
    "    sim = setup_simulation([BasePopulation(), BoidsPopulation(), BoidsTerritory(), BoidsSimpleFlight(), mw],\n",
    "                               population_size=100)\n",
    "    pump_simulation(sim, iterations=50)"
   ]
  },
  {
   "cell_type": "markdown",
   "metadata": {},
   "source": [
    "# Cool let's add some boids rules"
   ]
  },
  {
   "cell_type": "code",
   "execution_count": 57,
   "metadata": {},
   "outputs": [],
   "source": [
    "class CentralTendency:\n",
    "    configuration_defaults = {\n",
    "        'central_tendency': {\n",
    "            'force': .1,\n",
    "        }\n",
    "    }\n",
    "    \n",
    "    def setup(self, builder):\n",
    "        self.force = builder.configuration.central_tendency.force\n",
    "        self.population_view = builder.population.get_view(['p_x', 'p_y'], \n",
    "                                                       query='type == \"boid\" and alive == 1')\n",
    "        builder.value.register_value_modifier(value_name='boids.force', modifier=self.force_towards_center)\n",
    "    \n",
    "    def force_towards_center(self, index, force):\n",
    "        pop = self.population_view.get(index)\n",
    "        cx, cy = pop['p_x'].mean(), pop['p_y'].mean()\n",
    "        d = np.sqrt((pop['p_x'] - cx)**2 + (pop['p_y'] - cy)**2)\n",
    "        force['force_x'] += self.force * (cx - pop['p_x'])/d\n",
    "        force['force_y'] += self.force * (cy - pop['p_y'])/d\n",
    "        return force"
   ]
  },
  {
   "cell_type": "code",
   "execution_count": 58,
   "metadata": {},
   "outputs": [
    {
     "data": {
      "application/vnd.jupyter.widget-view+json": {
       "model_id": "d5d05ec295e94b0790699c553769a63c",
       "version_major": 2,
       "version_minor": 0
      },
      "text/html": [
       "<p>Failed to display Jupyter Widget of type <code>VBox</code>.</p>\n",
       "<p>\n",
       "  If you're reading this message in the Jupyter Notebook or JupyterLab Notebook, it may mean\n",
       "  that the widgets JavaScript is still loading. If this message persists, it\n",
       "  likely means that the widgets JavaScript library is either not installed or\n",
       "  not enabled. See the <a href=\"https://ipywidgets.readthedocs.io/en/stable/user_install.html\">Jupyter\n",
       "  Widgets Documentation</a> for setup instructions.\n",
       "</p>\n",
       "<p>\n",
       "  If you're reading this message in another frontend (for example, a static\n",
       "  rendering on GitHub or <a href=\"https://nbviewer.jupyter.org/\">NBViewer</a>),\n",
       "  it may mean that your frontend doesn't currently support widgets.\n",
       "</p>\n"
      ],
      "text/plain": [
       "VBox(children=(HTML(value=''), IntProgress(value=0, max=150)))"
      ]
     },
     "metadata": {},
     "output_type": "display_data"
    },
    {
     "name": "stdout",
     "output_type": "stream",
     "text": [
      "CPU times: user 15 s, sys: 249 ms, total: 15.3 s\n",
      "Wall time: 16 s\n"
     ]
    },
    {
     "data": {
      "image/png": "[encoded data removed]",
      "text/plain": [
       "<matplotlib.figure.Figure at 0x7f93084a50f0>"
      ]
     },
     "metadata": {},
     "output_type": "display_data"
    }
   ],
   "source": [
    "%%time\n",
    "\n",
    "with MovieWriter('t.gif') as mw:\n",
    "    sim = setup_simulation([BasePopulation(), BoidsPopulation(), BoidsTerritory(), BoidsSimpleFlight(), \n",
    "                            CentralTendency(), mw],\n",
    "                               population_size=100)\n",
    "    pump_simulation(sim, iterations=150)"
   ]
  },
  {
   "cell_type": "code",
   "execution_count": 59,
   "metadata": {},
   "outputs": [],
   "source": [
    "class AvoidPersonalSpace:\n",
    "    configuration_defaults = {\n",
    "        'personal_space': {\n",
    "            'force': .03,\n",
    "            'radius': 3,\n",
    "        }\n",
    "    }\n",
    "    def setup(self, builder):\n",
    "        self.force = builder.configuration.personal_space.force\n",
    "        self.radius = builder.configuration.personal_space.radius\n",
    "        \n",
    "        self.population_view = builder.population.get_view(['p_x', 'p_y'], \n",
    "                                                           query='type == \"boid\" and alive == 1')\n",
    "        builder.value.register_value_modifier(value_name='boids.force', modifier=self.keep_away)\n",
    "        \n",
    "    def keep_away(self, index, force):\n",
    "        pop = self.population_view.get(index)\n",
    "        f_x, f_y = get_forces(pop['p_x'].values, \n",
    "                              pop['p_y'].values, \n",
    "                              self.force,\n",
    "                              force['force_x'].values, \n",
    "                              force['force_y'].values)\n",
    "        force.loc[:, 'force_x'] += f_x\n",
    "        force.loc[:, 'force_y'] += f_y\n",
    "        return force\n",
    "\n",
    "@njit            \n",
    "def get_forces(x_pos, y_pos, force_scale, x_force, y_force):\n",
    "    for i, (x1, y1) in enumerate(zip(x_pos, y_pos)):\n",
    "        for j, (x2, y2) in enumerate(zip(x_pos, y_pos)):\n",
    "            if i != j:\n",
    "                dx = x2 - x1\n",
    "                dy = y2 - y1\n",
    "                r3 = (dx**2 + dy**2)**3/2\n",
    "                x_force[i] += dx/r3*force_scale\n",
    "                y_force[i] += dy/r3*force_scale\n",
    "    return x_force, y_force"
   ]
  },
  {
   "cell_type": "code",
   "execution_count": 60,
   "metadata": {
    "scrolled": false
   },
   "outputs": [
    {
     "data": {
      "application/vnd.jupyter.widget-view+json": {
       "model_id": "85c530a6c51f4a2d892b7af7ad1a0d31",
       "version_major": 2,
       "version_minor": 0
      },
      "text/html": [
       "<p>Failed to display Jupyter Widget of type <code>VBox</code>.</p>\n",
       "<p>\n",
       "  If you're reading this message in the Jupyter Notebook or JupyterLab Notebook, it may mean\n",
       "  that the widgets JavaScript is still loading. If this message persists, it\n",
       "  likely means that the widgets JavaScript library is either not installed or\n",
       "  not enabled. See the <a href=\"https://ipywidgets.readthedocs.io/en/stable/user_install.html\">Jupyter\n",
       "  Widgets Documentation</a> for setup instructions.\n",
       "</p>\n",
       "<p>\n",
       "  If you're reading this message in another frontend (for example, a static\n",
       "  rendering on GitHub or <a href=\"https://nbviewer.jupyter.org/\">NBViewer</a>),\n",
       "  it may mean that your frontend doesn't currently support widgets.\n",
       "</p>\n"
      ],
      "text/plain": [
       "VBox(children=(HTML(value=''), IntProgress(value=0, max=150)))"
      ]
     },
     "metadata": {},
     "output_type": "display_data"
    },
    {
     "name": "stdout",
     "output_type": "stream",
     "text": [
      "CPU times: user 15.2 s, sys: 258 ms, total: 15.4 s\n",
      "Wall time: 16.1 s\n"
     ]
    },
    {
     "data": {
      "image/png": "[encoded data removed]",
      "text/plain": [
       "<matplotlib.figure.Figure at 0x7f930848add8>"
      ]
     },
     "metadata": {},
     "output_type": "display_data"
    }
   ],
   "source": [
    "%%time\n",
    "\n",
    "with MovieWriter('t.gif') as mw:\n",
    "    sim = setup_simulation([BasePopulation(), \n",
    "                            BoidsPopulation(), \n",
    "                            BoidsTerritory(), \n",
    "                            BoidsSimpleFlight(), \n",
    "                            CentralTendency(), \n",
    "                            AvoidPersonalSpace(),\n",
    "                            mw],\n",
    "                           population_size=100)\n",
    "    pump_simulation(sim, iterations=150)"
   ]
  }
 ],
 "metadata": {
  "kernelspec": {
   "display_name": "Python 3",
   "language": "python",
   "name": "python3"
  },
  "language_info": {
   "codemirror_mode": {
    "name": "ipython",
    "version": 3
   },
   "file_extension": ".py",
   "mimetype": "text/x-python",
   "name": "python",
   "nbconvert_exporter": "python",
   "pygments_lexer": "ipython3",
   "version": "3.6.4"
  }
 },
 "nbformat": 4,
 "nbformat_minor": 2
}
