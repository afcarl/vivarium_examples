{
 "cells": [
  {
   "cell_type": "code",
   "execution_count": 1,
   "metadata": {},
   "outputs": [
    {
     "name": "stdout",
     "output_type": "stream",
     "text": [
      "Thu Feb  1 15:42:03 PST 2018\r\n"
     ]
    }
   ],
   "source": [
    "import numpy as np, matplotlib.pyplot as plt, pandas as pd, seaborn as sns\n",
    "pd.set_option('display.max_rows', 8)\n",
    "%matplotlib inline\n",
    "!date"
   ]
  },
  {
   "cell_type": "markdown",
   "metadata": {},
   "source": [
    "# Modeling SIR infections in Vivarium"
   ]
  },
  {
   "cell_type": "code",
   "execution_count": 2,
   "metadata": {},
   "outputs": [],
   "source": [
    "import vivarium, vivarium.test_util as vtu\n",
    "\n",
    "np.random.seed(12345)  # set random seed for reproducibility\n",
    "\n",
    "n_simulants = 300\n",
    "n_days = 1000\n",
    "t_timestep = 1 # days\n",
    "t_start = pd.Timestamp('1990-01-01')"
   ]
  },
  {
   "cell_type": "markdown",
   "metadata": {},
   "source": [
    "# Model One: doing it all by hand"
   ]
  },
  {
   "cell_type": "code",
   "execution_count": 3,
   "metadata": {},
   "outputs": [
    {
     "data": {
      "application/vnd.jupyter.widget-view+json": {
       "model_id": "a11da1ef4c2b4ff395cd59e1819897d0",
       "version_major": 2,
       "version_minor": 0
      },
      "text/html": [
       "<p>Failed to display Jupyter Widget of type <code>VBox</code>.</p>\n",
       "<p>\n",
       "  If you're reading this message in Jupyter Notebook or JupyterLab, it may mean\n",
       "  that the widgets JavaScript is still loading. If this message persists, it\n",
       "  likely means that the widgets JavaScript library is either not installed or\n",
       "  not enabled. See the <a href=\"https://ipywidgets.readthedocs.io/en/stable/user_install.html\">Jupyter\n",
       "  Widgets Documentation</a> for setup instructions.\n",
       "</p>\n",
       "<p>\n",
       "  If you're reading this message in another notebook frontend (for example, a static\n",
       "  rendering on GitHub or <a href=\"https://nbviewer.jupyter.org/\">NBViewer</a>),\n",
       "  it may mean that your frontend doesn't currently support widgets.\n",
       "</p>\n"
      ],
      "text/plain": [
       "VBox(children=(HTML(value=''), IntProgress(value=0, max=4)))"
      ]
     },
     "metadata": {},
     "output_type": "display_data"
    },
    {
     "data": {
      "text/plain": [
       "4"
      ]
     },
     "execution_count": 3,
     "metadata": {},
     "output_type": "execute_result"
    }
   ],
   "source": [
    "from vivarium.framework.event import listens_for\n",
    "\n",
    "class SI1:\n",
    "    def setup(self, builder):\n",
    "        self.population_view = builder.population_view(['disease_state'])\n",
    "        self.beta = 1.1\n",
    "        \n",
    "    @listens_for('initialize_simulants')\n",
    "    def on_initalize_simulants(self, event):\n",
    "        \"\"\"Start most simulants in susceptible state, but one in infected\n",
    "        \"\"\"\n",
    "        disease_state = pd.Series('S', index=event.index,\n",
    "                                  name='disease_state')\n",
    "        disease_state[0] = 'I'\n",
    "        \n",
    "        self.population_view.update(disease_state)\n",
    "        \n",
    "    @listens_for('time_step')\n",
    "    def on_time_step(self, event):\n",
    "        \"\"\"one step of infectious disease dynamics\"\"\"\n",
    "        pop = self.population_view.get(event.index)\n",
    "        infected_proportion = np.mean(pop.disease_state == 'I')\n",
    "        \n",
    "        rows = (np.random.uniform(size=len(event.index)) < self.beta * infected_proportion)\n",
    "        pop.disease_state[rows] = 'I'\n",
    "        self.population_view.update(pop)\n",
    "        \n",
    "sim = vtu.setup_simulation([SI1()], population_size=n_simulants, start=t_start)\n",
    "vtu.pump_simulation(sim, time_step_days=t_timestep, duration=4)"
   ]
  },
  {
   "cell_type": "code",
   "execution_count": 4,
   "metadata": {},
   "outputs": [
    {
     "data": {
      "text/plain": [
       "S    275\n",
       "I     25\n",
       "Name: disease_state, dtype: int64"
      ]
     },
     "execution_count": 4,
     "metadata": {},
     "output_type": "execute_result"
    }
   ],
   "source": [
    "sim.population.population.disease_state.value_counts()"
   ]
  },
  {
   "cell_type": "code",
   "execution_count": 5,
   "metadata": {},
   "outputs": [
    {
     "data": {
      "application/vnd.jupyter.widget-view+json": {
       "model_id": "93a5c5a40a694bfe92f39f9b94a50702",
       "version_major": 2,
       "version_minor": 0
      },
      "text/html": [
       "<p>Failed to display Jupyter Widget of type <code>VBox</code>.</p>\n",
       "<p>\n",
       "  If you're reading this message in Jupyter Notebook or JupyterLab, it may mean\n",
       "  that the widgets JavaScript is still loading. If this message persists, it\n",
       "  likely means that the widgets JavaScript library is either not installed or\n",
       "  not enabled. See the <a href=\"https://ipywidgets.readthedocs.io/en/stable/user_install.html\">Jupyter\n",
       "  Widgets Documentation</a> for setup instructions.\n",
       "</p>\n",
       "<p>\n",
       "  If you're reading this message in another notebook frontend (for example, a static\n",
       "  rendering on GitHub or <a href=\"https://nbviewer.jupyter.org/\">NBViewer</a>),\n",
       "  it may mean that your frontend doesn't currently support widgets.\n",
       "</p>\n"
      ],
      "text/plain": [
       "VBox(children=(HTML(value=''), IntProgress(value=0, max=15)))"
      ]
     },
     "metadata": {},
     "output_type": "display_data"
    },
    {
     "data": {
      "text/plain": [
       "15"
      ]
     },
     "execution_count": 5,
     "metadata": {},
     "output_type": "execute_result"
    }
   ],
   "source": [
    "# take a look at this, but how\n",
    "class SIObserver:\n",
    "    def __init__(self):\n",
    "        \"\"\"initialize some dictionaries to hold observations\n",
    "        \"\"\"\n",
    "        self.S = {}\n",
    "        self.I = {}\n",
    "        \n",
    "    def setup(self, builder):\n",
    "        \"\"\"get a population view in setup instead of in __init__,\n",
    "        because it comes from the simulation's builder object\n",
    "        \"\"\"\n",
    "        self.population_view = builder.population_view(['disease_state'])\n",
    "        \n",
    "    @listens_for('collect_metrics')\n",
    "    def on_collect_metrics(self, event):\n",
    "        \"\"\"after every time step the simulation engine sends \n",
    "        a collect_metrics event, which is the perfect time\n",
    "        to record some statistics about the state of the simulation\n",
    "        \"\"\"\n",
    "        \n",
    "        pop = self.population_view.get(event.index)\n",
    "        self.S[event.time] = np.sum(pop.disease_state == 'S')\n",
    "        self.I[event.time] = np.sum(pop.disease_state == 'I')\n",
    "\n",
    "    def show(self):\n",
    "        \"\"\"simple plot of observations\n",
    "        \"\"\"\n",
    "        pd.DataFrame([self.S, self.I]).T.plot(marker='s')\n",
    "        \n",
    "o = SIObserver()\n",
    "sim = vtu.setup_simulation([SI1(), o], population_size=n_simulants, start=t_start)\n",
    "vtu.pump_simulation(sim, time_step_days=t_timestep, duration=15)"
   ]
  },
  {
   "cell_type": "code",
   "execution_count": 6,
   "metadata": {},
   "outputs": [
    {
     "data": {
      "image/png": "[encoded data removed]",
      "text/plain": [
       "<matplotlib.figure.Figure at 0x7f7b52b37e80>"
      ]
     },
     "metadata": {},
     "output_type": "display_data"
    }
   ],
   "source": [
    "o.show()"
   ]
  },
  {
   "cell_type": "markdown",
   "metadata": {},
   "source": [
    "# Model Two: use `vivarium` randomness\n",
    "Better than using `np.random` directly."
   ]
  },
  {
   "cell_type": "code",
   "execution_count": 7,
   "metadata": {},
   "outputs": [
    {
     "data": {
      "application/vnd.jupyter.widget-view+json": {
       "model_id": "ffaccef3c5874fc4af94f7e359a427af",
       "version_major": 2,
       "version_minor": 0
      },
      "text/html": [
       "<p>Failed to display Jupyter Widget of type <code>VBox</code>.</p>\n",
       "<p>\n",
       "  If you're reading this message in Jupyter Notebook or JupyterLab, it may mean\n",
       "  that the widgets JavaScript is still loading. If this message persists, it\n",
       "  likely means that the widgets JavaScript library is either not installed or\n",
       "  not enabled. See the <a href=\"https://ipywidgets.readthedocs.io/en/stable/user_install.html\">Jupyter\n",
       "  Widgets Documentation</a> for setup instructions.\n",
       "</p>\n",
       "<p>\n",
       "  If you're reading this message in another notebook frontend (for example, a static\n",
       "  rendering on GitHub or <a href=\"https://nbviewer.jupyter.org/\">NBViewer</a>),\n",
       "  it may mean that your frontend doesn't currently support widgets.\n",
       "</p>\n"
      ],
      "text/plain": [
       "VBox(children=(HTML(value=''), IntProgress(value=0, max=15)))"
      ]
     },
     "metadata": {},
     "output_type": "display_data"
    },
    {
     "data": {
      "image/png": "[encoded data removed]",
      "text/plain": [
       "<matplotlib.figure.Figure at 0x7f7b52afecc0>"
      ]
     },
     "metadata": {},
     "output_type": "display_data"
    }
   ],
   "source": [
    "from vivarium.framework.event import listens_for\n",
    "from vivarium.framework.values import produces_value\n",
    "\n",
    "class SI2:\n",
    "    def setup(self, builder):\n",
    "        \"\"\"new this time: use builder.randomness to create a random number stream\n",
    "        \"\"\"\n",
    "        self.population_view = builder.population_view(['disease_state'])\n",
    "        self.beta = 1.1\n",
    "\n",
    "        self.randomness = builder.randomness('infection')\n",
    "    \n",
    "    @listens_for('initialize_simulants')\n",
    "    def on_initalize_simulants(self, event):\n",
    "        \"\"\"Start most simulants in susceptible state, but one in infected\n",
    "        \"\"\"\n",
    "        disease_state = pd.Series('S', index=event.index, name='disease_state')\n",
    "        disease_state[0] = 'I'\n",
    "        \n",
    "        self.population_view.update(disease_state)\n",
    "    \n",
    "    @listens_for('time_step')\n",
    "    def on_time_step(self, event):\n",
    "        \"\"\"one step of infectious disease dynamics, now implemented with\n",
    "        randomness method provided by vivarium\"\"\"\n",
    "        pop = self.population_view.get(event.index)\n",
    "        infected_proportion = np.mean(pop.disease_state == 'I')\n",
    "\n",
    "        infected = self.randomness.filter_for_probability(pop, self.beta * infected_proportion)\n",
    "        infected = infected.copy()  # HACK: makes a SettingWithCopyWarning go away\n",
    "        infected.disease_state = 'I'\n",
    "        self.population_view.update(infected)\n",
    "        \n",
    "o = SIObserver()\n",
    "sim = vtu.setup_simulation([SI2(), o], population_size=n_simulants, start=t_start)\n",
    "vtu.pump_simulation(sim, time_step_days=t_timestep, duration=15)\n",
    "o.show()"
   ]
  },
  {
   "cell_type": "code",
   "execution_count": 8,
   "metadata": {},
   "outputs": [
    {
     "data": {
      "application/vnd.jupyter.widget-view+json": {
       "model_id": "9e6d7f114be7408d8cf80559fafeb741",
       "version_major": 2,
       "version_minor": 0
      },
      "text/html": [
       "<p>Failed to display Jupyter Widget of type <code>VBox</code>.</p>\n",
       "<p>\n",
       "  If you're reading this message in Jupyter Notebook or JupyterLab, it may mean\n",
       "  that the widgets JavaScript is still loading. If this message persists, it\n",
       "  likely means that the widgets JavaScript library is either not installed or\n",
       "  not enabled. See the <a href=\"https://ipywidgets.readthedocs.io/en/stable/user_install.html\">Jupyter\n",
       "  Widgets Documentation</a> for setup instructions.\n",
       "</p>\n",
       "<p>\n",
       "  If you're reading this message in another notebook frontend (for example, a static\n",
       "  rendering on GitHub or <a href=\"https://nbviewer.jupyter.org/\">NBViewer</a>),\n",
       "  it may mean that your frontend doesn't currently support widgets.\n",
       "</p>\n"
      ],
      "text/plain": [
       "VBox(children=(HTML(value=''), IntProgress(value=0, max=10)))"
      ]
     },
     "metadata": {},
     "output_type": "display_data"
    },
    {
     "data": {
      "text/plain": [
       "I    166\n",
       "S    134\n",
       "Name: disease_state, dtype: int64"
      ]
     },
     "execution_count": 8,
     "metadata": {},
     "output_type": "execute_result"
    }
   ],
   "source": [
    "# now the randomness is replicable, you don't need to set the random seed anymore\n",
    "sim = vtu.setup_simulation([SI2()], population_size=n_simulants, start=t_start)\n",
    "vtu.pump_simulation(sim, time_step_days=t_timestep, duration=10)\n",
    "\n",
    "sim.population.population.disease_state.value_counts()"
   ]
  },
  {
   "cell_type": "code",
   "execution_count": 9,
   "metadata": {},
   "outputs": [
    {
     "data": {
      "application/vnd.jupyter.widget-view+json": {
       "model_id": "37df5e5d03194350af7dbe1c5e22dfa5",
       "version_major": 2,
       "version_minor": 0
      },
      "text/html": [
       "<p>Failed to display Jupyter Widget of type <code>VBox</code>.</p>\n",
       "<p>\n",
       "  If you're reading this message in Jupyter Notebook or JupyterLab, it may mean\n",
       "  that the widgets JavaScript is still loading. If this message persists, it\n",
       "  likely means that the widgets JavaScript library is either not installed or\n",
       "  not enabled. See the <a href=\"https://ipywidgets.readthedocs.io/en/stable/user_install.html\">Jupyter\n",
       "  Widgets Documentation</a> for setup instructions.\n",
       "</p>\n",
       "<p>\n",
       "  If you're reading this message in another notebook frontend (for example, a static\n",
       "  rendering on GitHub or <a href=\"https://nbviewer.jupyter.org/\">NBViewer</a>),\n",
       "  it may mean that your frontend doesn't currently support widgets.\n",
       "</p>\n"
      ],
      "text/plain": [
       "VBox(children=(HTML(value=''), IntProgress(value=0, max=10)))"
      ]
     },
     "metadata": {},
     "output_type": "display_data"
    },
    {
     "data": {
      "text/plain": [
       "I    166\n",
       "S    134\n",
       "Name: disease_state, dtype: int64"
      ]
     },
     "execution_count": 9,
     "metadata": {},
     "output_type": "execute_result"
    }
   ],
   "source": [
    "# do it again, get exactly same results\n",
    "\n",
    "sim = vtu.setup_simulation([SI2()], population_size=n_simulants, start=t_start)\n",
    "vtu.pump_simulation(sim, time_step_days=t_timestep, duration=10)\n",
    "\n",
    "sim.population.population.disease_state.value_counts()"
   ]
  },
  {
   "cell_type": "markdown",
   "metadata": {},
   "source": [
    "# Model Three: use randomness and pipelines"
   ]
  },
  {
   "cell_type": "code",
   "execution_count": 10,
   "metadata": {},
   "outputs": [
    {
     "data": {
      "application/vnd.jupyter.widget-view+json": {
       "model_id": "6c5ce532913d4a0eba6bd12e566f3357",
       "version_major": 2,
       "version_minor": 0
      },
      "text/html": [
       "<p>Failed to display Jupyter Widget of type <code>VBox</code>.</p>\n",
       "<p>\n",
       "  If you're reading this message in Jupyter Notebook or JupyterLab, it may mean\n",
       "  that the widgets JavaScript is still loading. If this message persists, it\n",
       "  likely means that the widgets JavaScript library is either not installed or\n",
       "  not enabled. See the <a href=\"https://ipywidgets.readthedocs.io/en/stable/user_install.html\">Jupyter\n",
       "  Widgets Documentation</a> for setup instructions.\n",
       "</p>\n",
       "<p>\n",
       "  If you're reading this message in another notebook frontend (for example, a static\n",
       "  rendering on GitHub or <a href=\"https://nbviewer.jupyter.org/\">NBViewer</a>),\n",
       "  it may mean that your frontend doesn't currently support widgets.\n",
       "</p>\n"
      ],
      "text/plain": [
       "VBox(children=(HTML(value=''), IntProgress(value=0, max=15)))"
      ]
     },
     "metadata": {},
     "output_type": "display_data"
    },
    {
     "data": {
      "image/png": "[encoded data removed]",
      "text/plain": [
       "<matplotlib.figure.Figure at 0x7f7b509a6978>"
      ]
     },
     "metadata": {},
     "output_type": "display_data"
    }
   ],
   "source": [
    "from vivarium.framework.event import listens_for\n",
    "from vivarium.framework.values import produces_value\n",
    "\n",
    "class SI3:\n",
    "    def setup(self, builder):\n",
    "        self.population_view = builder.population_view(['disease_state'])\n",
    "        self.beta = 1.1\n",
    "\n",
    "        self.randomness = builder.randomness('infection')\n",
    "        self.infection_prob = builder.value('infection_prob')\n",
    "    \n",
    "    @listens_for('initialize_simulants')\n",
    "    def on_initalize_simulants(self, event):\n",
    "        \"\"\"Start most simulants in susceptible state, but one in infected\n",
    "        \"\"\"\n",
    "        disease_state = pd.Series('S', index=event.index, name='disease_state')\n",
    "        disease_state[0] = 'I'\n",
    "        \n",
    "        self.population_view.update(disease_state)\n",
    "    \n",
    "    @listens_for('time_step__prepare')\n",
    "    def on_time_step__prepare(self, event):\n",
    "        \"\"\" count number infected\n",
    "        \"\"\"\n",
    "        pop = self.population_view.get(event.index)\n",
    "        self.infected_proportion = np.mean(pop.disease_state == 'I')\n",
    "    \n",
    "    @produces_value('infection_prob')\n",
    "    def infection_prob_func(self, index):\n",
    "        return pd.Series(self.beta * self.infected_proportion, index=index)\n",
    "    \n",
    "    @listens_for('time_step')\n",
    "    def on_time_step(self, event):\n",
    "        pop = self.population_view.get(event.index)\n",
    "        infected = self.randomness.filter_for_probability(pop, self.infection_prob(event.index))\n",
    "        infected = infected.copy()  # makes a SettingWithCopyWarning go away\n",
    "        infected.disease_state = 'I'\n",
    "        self.population_view.update(infected)\n",
    "        \n",
    "o = SIObserver()\n",
    "sim = vtu.setup_simulation([SI3(), o], population_size=n_simulants, start=t_start)\n",
    "vtu.pump_simulation(sim, time_step_days=t_timestep, duration=15)\n",
    "o.show()"
   ]
  },
  {
   "cell_type": "markdown",
   "metadata": {},
   "source": [
    "Seems like more work for no gain... What is the point of the pipeline?  Modularity and composability.\n",
    "\n",
    "Introduce a vaccine component:"
   ]
  },
  {
   "cell_type": "code",
   "execution_count": 11,
   "metadata": {},
   "outputs": [
    {
     "data": {
      "application/vnd.jupyter.widget-view+json": {
       "model_id": "3c520bc4ac544dd993f946a8c835f18e",
       "version_major": 2,
       "version_minor": 0
      },
      "text/html": [
       "<p>Failed to display Jupyter Widget of type <code>VBox</code>.</p>\n",
       "<p>\n",
       "  If you're reading this message in Jupyter Notebook or JupyterLab, it may mean\n",
       "  that the widgets JavaScript is still loading. If this message persists, it\n",
       "  likely means that the widgets JavaScript library is either not installed or\n",
       "  not enabled. See the <a href=\"https://ipywidgets.readthedocs.io/en/stable/user_install.html\">Jupyter\n",
       "  Widgets Documentation</a> for setup instructions.\n",
       "</p>\n",
       "<p>\n",
       "  If you're reading this message in another notebook frontend (for example, a static\n",
       "  rendering on GitHub or <a href=\"https://nbviewer.jupyter.org/\">NBViewer</a>),\n",
       "  it may mean that your frontend doesn't currently support widgets.\n",
       "</p>\n"
      ],
      "text/plain": [
       "VBox(children=(HTML(value=''), IntProgress(value=0, max=25)))"
      ]
     },
     "metadata": {},
     "output_type": "display_data"
    },
    {
     "data": {
      "image/png": "[encoded data removed]",
      "text/plain": [
       "<matplotlib.figure.Figure at 0x7f7b4fe44780>"
      ]
     },
     "metadata": {},
     "output_type": "display_data"
    }
   ],
   "source": [
    "from vivarium.framework.randomness import random\n",
    "from vivarium.framework.values import modifies_value\n",
    "\n",
    "class Vaccine:\n",
    "    def setup(self, builder):\n",
    "        self.population_view = builder.population_view(['vaccine_protection'])\n",
    "\n",
    "    @listens_for('initialize_simulants')\n",
    "    def on_initalize_simulants(self, event):\n",
    "        s = random('vaccine_protection', event.index)\n",
    "        s[:] = np.where(s>.8, 1, s)\n",
    "        self.population_view.update(s)\n",
    "        \n",
    "    @modifies_value('infection_prob')\n",
    "    def modify_infection_prob(self, index, value):\n",
    "        pop = self.population_view.get(index)\n",
    "        return value*(1 - pop.vaccine_protection)\n",
    "    \n",
    "o = SIObserver()\n",
    "sim = vtu.setup_simulation([SI3(), Vaccine(), o], population_size=n_simulants, start=t_start)\n",
    "vtu.pump_simulation(sim, time_step_days=t_timestep, duration=25)\n",
    "o.show()"
   ]
  },
  {
   "cell_type": "code",
   "execution_count": 12,
   "metadata": {},
   "outputs": [
    {
     "data": {
      "text/plain": [
       "I    227\n",
       "S     73\n",
       "Name: disease_state, dtype: int64"
      ]
     },
     "execution_count": 12,
     "metadata": {},
     "output_type": "execute_result"
    }
   ],
   "source": [
    "df = sim.population.population\n",
    "df.disease_state.value_counts()"
   ]
  },
  {
   "cell_type": "code",
   "execution_count": 13,
   "metadata": {},
   "outputs": [
    {
     "data": {
      "text/html": [
       "<div>\n",
       "<style scoped>\n",
       "    .dataframe tbody tr th:only-of-type {\n",
       "        vertical-align: middle;\n",
       "    }\n",
       "\n",
       "    .dataframe tbody tr th {\n",
       "        vertical-align: top;\n",
       "    }\n",
       "\n",
       "    .dataframe thead th {\n",
       "        text-align: right;\n",
       "    }\n",
       "</style>\n",
       "<table border=\"1\" class=\"dataframe\">\n",
       "  <thead>\n",
       "    <tr style=\"text-align: right;\">\n",
       "      <th>disease_state</th>\n",
       "      <th>I</th>\n",
       "      <th>S</th>\n",
       "    </tr>\n",
       "    <tr>\n",
       "      <th>vaccine_protection</th>\n",
       "      <th></th>\n",
       "      <th></th>\n",
       "    </tr>\n",
       "  </thead>\n",
       "  <tbody>\n",
       "    <tr>\n",
       "      <th>(0.00577, 0.255]</th>\n",
       "      <td>100.0</td>\n",
       "      <td>0.0</td>\n",
       "    </tr>\n",
       "    <tr>\n",
       "      <th>(0.255, 0.503]</th>\n",
       "      <td>100.0</td>\n",
       "      <td>0.0</td>\n",
       "    </tr>\n",
       "    <tr>\n",
       "      <th>(0.503, 0.752]</th>\n",
       "      <td>96.3</td>\n",
       "      <td>3.7</td>\n",
       "    </tr>\n",
       "    <tr>\n",
       "      <th>(0.752, 1.0]</th>\n",
       "      <td>18.4</td>\n",
       "      <td>81.6</td>\n",
       "    </tr>\n",
       "  </tbody>\n",
       "</table>\n",
       "</div>"
      ],
      "text/plain": [
       "disease_state           I     S\n",
       "vaccine_protection             \n",
       "(0.00577, 0.255]    100.0   0.0\n",
       "(0.255, 0.503]      100.0   0.0\n",
       "(0.503, 0.752]       96.3   3.7\n",
       "(0.752, 1.0]         18.4  81.6"
      ]
     },
     "execution_count": 13,
     "metadata": {},
     "output_type": "execute_result"
    }
   ],
   "source": [
    "g = df.groupby(pd.cut(df.vaccine_protection, bins=4))\n",
    "t = g.disease_state.value_counts(normalize=True).unstack().fillna(0)\n",
    "np.round(100*t, 1)"
   ]
  },
  {
   "cell_type": "markdown",
   "metadata": {},
   "source": [
    "## TODO: combine this with the boids model!"
   ]
  },
  {
   "cell_type": "markdown",
   "metadata": {},
   "source": [
    "# Model four: a version that uses the statemachine"
   ]
  },
  {
   "cell_type": "code",
   "execution_count": null,
   "metadata": {},
   "outputs": [],
   "source": []
  }
 ],
 "metadata": {
  "kernelspec": {
   "display_name": "Python 3",
   "language": "python",
   "name": "python3"
  },
  "language_info": {
   "codemirror_mode": {
    "name": "ipython",
    "version": 3
   },
   "file_extension": ".py",
   "mimetype": "text/x-python",
   "name": "python",
   "nbconvert_exporter": "python",
   "pygments_lexer": "ipython3",
   "version": "3.6.3"
  }
 },
 "nbformat": 4,
 "nbformat_minor": 2
}
