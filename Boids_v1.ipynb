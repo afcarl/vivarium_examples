{
 "cells": [
  {
   "cell_type": "code",
   "execution_count": 1,
   "metadata": {},
   "outputs": [],
   "source": [
    "%matplotlib inline\n",
    "from __future__ import print_function\n",
    "\n",
    "import numpy as np\n",
    "import pandas as pd\n",
    "import matplotlib.pyplot as plt\n",
    "from matplotlib import animation, rc\n",
    "from IPython.display import display\n",
    "import ipywidgets as widgets\n",
    "\n",
    "import vivarium.test_util as vtu\n",
    "\n",
    "from vivarium.framework.event import listens_for\n",
    "from vivarium.framework.population import uses_columns"
   ]
  },
  {
   "cell_type": "code",
   "execution_count": 2,
   "metadata": {},
   "outputs": [],
   "source": [
    "np.random.seed(12345)  # set random seed for reproducibility\n",
    "\n",
    "n_simulants = 100\n",
    "n_days = 1000\n",
    "t_timestep = 1 # days\n",
    "t_start = pd.Timestamp('1990-01-01')"
   ]
  },
  {
   "cell_type": "markdown",
   "metadata": {},
   "source": [
    "# Boids micromechanism\n",
    "\n",
    "Each agent is a bird.  It has a position and a velocity, and has three rules, taken from http://www.kfish.org/boids/pseudocode.html"
   ]
  },
  {
   "cell_type": "code",
   "execution_count": 3,
   "metadata": {},
   "outputs": [
    {
     "data": {
      "application/vnd.jupyter.widget-view+json": {
       "model_id": "ac33567c8e44488d8ee01c7efffbf1df",
       "version_major": 2,
       "version_minor": 0
      },
      "text/html": [
       "<p>Failed to display Jupyter Widget of type <code>VBox</code>.</p>\n",
       "<p>\n",
       "  If you're reading this message in the Jupyter Notebook or JupyterLab Notebook, it may mean\n",
       "  that the widgets JavaScript is still loading. If this message persists, it\n",
       "  likely means that the widgets JavaScript library is either not installed or\n",
       "  not enabled. See the <a href=\"https://ipywidgets.readthedocs.io/en/stable/user_install.html\">Jupyter\n",
       "  Widgets Documentation</a> for setup instructions.\n",
       "</p>\n",
       "<p>\n",
       "  If you're reading this message in another frontend (for example, a static\n",
       "  rendering on GitHub or <a href=\"https://nbviewer.jupyter.org/\">NBViewer</a>),\n",
       "  it may mean that your frontend doesn't currently support widgets.\n",
       "</p>\n"
      ],
      "text/plain": [
       "VBox(children=(HTML(value=''), IntProgress(value=0, max=1000)))"
      ]
     },
     "metadata": {},
     "output_type": "display_data"
    },
    {
     "data": {
      "text/plain": [
       "1000"
      ]
     },
     "execution_count": 3,
     "metadata": {},
     "output_type": "execute_result"
    }
   ],
   "source": [
    "@listens_for('initialize_simulants', priority=0)\n",
    "@uses_columns(['age', 'sex', 'x', 'y', 'vx', 'vy'])\n",
    "def my_generate_base_population(event):\n",
    "    \"\"\" Base population needs nothing, really\n",
    "    \n",
    "    updates columns age and sex because CEAM expects them\n",
    "    \"\"\"\n",
    "    population = pd.DataFrame(index=event.index)\n",
    "    population['age'] = 0\n",
    "    population['sex'] = '-'\n",
    "    \n",
    "    population['x'] = np.random.uniform(size=len(population))\n",
    "    population['y'] = np.random.uniform(size=len(population))\n",
    "\n",
    "    population['vx'] = .1*np.random.uniform(size=len(population))\n",
    "    population['vy'] = .1*np.random.uniform(size=len(population))\n",
    "    \n",
    "    # update the population in the model\n",
    "    event.population_view.update(population)\n",
    "\n",
    "\n",
    "# instead of using simulate, just do this:\n",
    "components = [my_generate_base_population]\n",
    "simulation = vtu.setup_simulation(components, population_size=n_simulants, start=t_start)\n",
    "vtu.pump_simulation(simulation, time_step_days=t_timestep, duration=pd.Timedelta(days=n_days))"
   ]
  },
  {
   "cell_type": "code",
   "execution_count": 4,
   "metadata": {},
   "outputs": [],
   "source": [
    "def d(t, i, j):\n",
    "    dx = t.x[i] - t.x[j]\n",
    "    dy = t.y[i] - t.y[j]\n",
    "    return dx*dx + dy*dy\n",
    "\n",
    "\n",
    "class Boids:\n",
    "    def __init__(self, center_pull_weight, closeness, velocity_match, noise):\n",
    "        self.center_pull_weight = center_pull_weight\n",
    "        self.closeness = closeness\n",
    "        self.velocity_match = velocity_match\n",
    "        self.noise = noise\n",
    "        self.boid_x = []\n",
    "        self.boid_y = []\n",
    "        \n",
    "    def rule1(self, t):\n",
    "        \"\"\"Rule 1: Boids try to fly towards the centre of mass of neighbouring boids.\n",
    "        \"\"\"\n",
    "        # center of mass\n",
    "        cx, cy = t.x.mean(), t.y.mean()\n",
    "    \n",
    "        return self.center_pull_weight*(cx - t.x), self.center_pull_weight*(cy - t.y) \n",
    "\n",
    "    def rule2(self, t):\n",
    "        \"\"\"Rule 2: Boids try to keep a small distance away from other objects (including other boids).\n",
    "        \"\"\"\n",
    "        #     dvx = np.zeros_like(t.vx)\n",
    "        #     dvy = np.zeros_like(t.vy)\n",
    "\n",
    "        #     for i in range(len(t)):\n",
    "        #         for j in range(i+1, len(t)):\n",
    "        #             if d(t, i, j) < .1:\n",
    "        #                 dvx[i] -= (t.x[j] - t.x[i])\n",
    "        #                 dvy[i] -= (t.y[j] - t.y[i])\n",
    "\n",
    "        # the above seems slow, let's just stay away from center of mass\n",
    "        cx, cy = t.x.mean(), t.y.mean()\n",
    "        dx = (t.x - cx)\n",
    "        dy = (t.y - cy)\n",
    "    \n",
    "        close = dx*dx + dy*dy < self.closeness\n",
    "        dvx = np.where(close, t.x - cx, 0)\n",
    "        dvy = np.where(close, t.y - cy, 0)\n",
    "    \n",
    "        return dvx, dvy\n",
    "\n",
    "    def rule3(self, t):\n",
    "        \"\"\"Rule 3: Boids try to match velocity with near boids.\n",
    "        \"\"\"\n",
    "        # mean velocity\n",
    "        mvx, mvy = t.vx.mean(), t.vy.mean()\n",
    "    \n",
    "        return self.velocity_match*(mvx - t.vx), self.velocity_match*(mvy - t.vy) \n",
    "    \n",
    "    def rule4(self, t):\n",
    "        return self.noise*np.random.uniform(low=-1, high=1, size=len(t)), self.noise*np.random.uniform(low=-1, high=1, size=len(t))\n",
    "\n",
    "    @listens_for('time_step')\n",
    "    @uses_columns(['x', 'y', 'vx', 'vy'])\n",
    "    def move_all_boids(self, event):\n",
    "        t = event.population\n",
    "        v1x, v1y = self.rule1(t)\n",
    "        v2x, v2y = self.rule2(t)\n",
    "        v3x, v3y = self.rule3(t)\n",
    "        v4x, v4y = self.rule4(t)\n",
    "\n",
    "        t.vx += v1x + v2x + v3x\n",
    "        t.vy += v1y + v2y + v3y\n",
    "\n",
    "        t.x = (t.x + .1*t.vx)\n",
    "        t.y = (t.y + .1*t.vy)\n",
    "    \n",
    "        event.population_view.update(t)\n",
    "    \n",
    "        self.boid_x.append(t.x % 1)\n",
    "        self.boid_y.append(t.y % 1)"
   ]
  },
  {
   "cell_type": "code",
   "execution_count": 6,
   "metadata": {},
   "outputs": [
    {
     "data": {
      "image/png": "[encoded data removed]",
      "text/plain": [
       "<matplotlib.figure.Figure at 0x7fc4df1afc88>"
      ]
     },
     "metadata": {},
     "output_type": "display_data"
    },
    {
     "data": {
      "application/vnd.jupyter.widget-view+json": {
       "model_id": "3c9bbe26bb3c44608c830e94d3939f7a",
       "version_major": 2,
       "version_minor": 0
      },
      "text/html": [
       "<p>Failed to display Jupyter Widget of type <code>VBox</code>.</p>\n",
       "<p>\n",
       "  If you're reading this message in the Jupyter Notebook or JupyterLab Notebook, it may mean\n",
       "  that the widgets JavaScript is still loading. If this message persists, it\n",
       "  likely means that the widgets JavaScript library is either not installed or\n",
       "  not enabled. See the <a href=\"https://ipywidgets.readthedocs.io/en/stable/user_install.html\">Jupyter\n",
       "  Widgets Documentation</a> for setup instructions.\n",
       "</p>\n",
       "<p>\n",
       "  If you're reading this message in another frontend (for example, a static\n",
       "  rendering on GitHub or <a href=\"https://nbviewer.jupyter.org/\">NBViewer</a>),\n",
       "  it may mean that your frontend doesn't currently support widgets.\n",
       "</p>\n"
      ],
      "text/plain": [
       "VBox(children=(FloatSlider(value=0.1, description='center_pull_weight', max=1.0), FloatSlider(value=0.1, description='closeness', max=1.0), FloatSlider(value=0.1, description='velocity match', max=1.0), FloatSlider(value=0.1, description='noise', max=1.0), Button(description='Save Gif', style=ButtonStyle()), Button(description='Update Display', style=ButtonStyle())))"
      ]
     },
     "metadata": {},
     "output_type": "display_data"
    },
    {
     "data": {
      "image/png": "[encoded data removed]",
      "text/plain": [
       "<matplotlib.figure.Figure at 0x7fc4df1afc88>"
      ]
     },
     "metadata": {},
     "output_type": "display_data"
    },
    {
     "data": {
      "application/vnd.jupyter.widget-view+json": {
       "model_id": "426090f7accf4928b15f8f588f6625db",
       "version_major": 2,
       "version_minor": 0
      },
      "text/html": [
       "<p>Failed to display Jupyter Widget of type <code>VBox</code>.</p>\n",
       "<p>\n",
       "  If you're reading this message in the Jupyter Notebook or JupyterLab Notebook, it may mean\n",
       "  that the widgets JavaScript is still loading. If this message persists, it\n",
       "  likely means that the widgets JavaScript library is either not installed or\n",
       "  not enabled. See the <a href=\"https://ipywidgets.readthedocs.io/en/stable/user_install.html\">Jupyter\n",
       "  Widgets Documentation</a> for setup instructions.\n",
       "</p>\n",
       "<p>\n",
       "  If you're reading this message in another frontend (for example, a static\n",
       "  rendering on GitHub or <a href=\"https://nbviewer.jupyter.org/\">NBViewer</a>),\n",
       "  it may mean that your frontend doesn't currently support widgets.\n",
       "</p>\n"
      ],
      "text/plain": [
       "VBox(children=(HTML(value=''), IntProgress(value=0, max=1000)))"
      ]
     },
     "metadata": {},
     "output_type": "display_data"
    },
    {
     "data": {
      "text/plain": [
       "<matplotlib.lines.Line2D at 0x7fc4de437c18>"
      ]
     },
     "metadata": {},
     "output_type": "display_data"
    },
    {
     "data": {
      "application/vnd.jupyter.widget-view+json": {
       "model_id": "729acb984a3d4970ac653b7b97015121",
       "version_major": 2,
       "version_minor": 0
      },
      "text/html": [
       "<p>Failed to display Jupyter Widget of type <code>VBox</code>.</p>\n",
       "<p>\n",
       "  If you're reading this message in the Jupyter Notebook or JupyterLab Notebook, it may mean\n",
       "  that the widgets JavaScript is still loading. If this message persists, it\n",
       "  likely means that the widgets JavaScript library is either not installed or\n",
       "  not enabled. See the <a href=\"https://ipywidgets.readthedocs.io/en/stable/user_install.html\">Jupyter\n",
       "  Widgets Documentation</a> for setup instructions.\n",
       "</p>\n",
       "<p>\n",
       "  If you're reading this message in another frontend (for example, a static\n",
       "  rendering on GitHub or <a href=\"https://nbviewer.jupyter.org/\">NBViewer</a>),\n",
       "  it may mean that your frontend doesn't currently support widgets.\n",
       "</p>\n"
      ],
      "text/plain": [
       "VBox(children=(HTML(value=''), IntProgress(value=0, max=1000)))"
      ]
     },
     "metadata": {},
     "output_type": "display_data"
    },
    {
     "data": {
      "text/plain": [
       "<matplotlib.lines.Line2D at 0x7fc4de6435c0>"
      ]
     },
     "metadata": {},
     "output_type": "display_data"
    }
   ],
   "source": [
    "current_boids = None\n",
    "\n",
    "# First set up the figure, the axis, and the plot element we want to animate\n",
    "plots = dict()\n",
    "fig, ax = plt.subplots()\n",
    "ax.set_xlim((0, 1))\n",
    "ax.set_ylim((0, 1))\n",
    "line, = ax.plot([], [], lw=2)\n",
    "display(fig)\n",
    "\n",
    "# initialization function: plot the background of each frame\n",
    "def init():    \n",
    "    line.set_data([], [])\n",
    "    line.set_marker('o')\n",
    "    line.set_linestyle('none')\n",
    "    return (line,)\n",
    "\n",
    "# animation function. This is called sequentially\n",
    "def animate(i):\n",
    "    t=99\n",
    "    #x,y = np.array(boid_x)[:(t+1),i], np.array(boid_y)[:(t+1),i]    \n",
    "    x,y = current_boids.boid_x[i], current_boids.boid_y[i]\n",
    "    line.set_data(x, y)\n",
    "    return (line,)\n",
    "\n",
    "\n",
    "\n",
    "center_pull_weight = widgets.FloatSlider(description='center_pull_weight', value=0.1, min=0, max=1, step=0.1)\n",
    "closeness = widgets.FloatSlider(description='closeness', value=0.1, min=0, max=1, step=0.1)\n",
    "velocity_match = widgets.FloatSlider(description='velocity match', value=0.1, min=0, max=1, step=0.1)\n",
    "noise = widgets.FloatSlider(description='noise', value=0.1, min=0, max=1, step=0.1)\n",
    "save_button = widgets.Button(description=\"Save Gif\")\n",
    "display_button = widgets.Button(description=\"Update Display\")\n",
    "widget_container = widgets.VBox([center_pull_weight, closeness, velocity_match, noise, save_button, display_button])\n",
    "\n",
    "display(widget_container)\n",
    "\n",
    "\n",
    "def on_display_button_clicked(button):    \n",
    "    current_boids = Boids(center_pull_weight.value, closeness.value, velocity_match.value, noise.value)\n",
    "    components = [my_generate_base_population, current_boids]\n",
    "    simulation = vtu.setup_simulation(components, population_size=n_simulants, start=t_start)\n",
    "    vtu.pump_simulation(simulation, time_step_days=t_timestep, duration=pd.Timedelta(days=n_days))\n",
    "    i=0\n",
    "    t=99    \n",
    "    #line.set_data(np.array(current_boids.boid_x)[:(t+1),i], np.array(current_boids.boid_y)[:(t+1),i])\n",
    "    plots, = ax.plot(np.array(current_boids.boid_x)[:(t+1),i], np.array(current_boids.boid_y)[:(t+1),i], 'ks-')\n",
    "    #plots, = ax.plot(current_boids.boid_x[0], current_boids.boid_y[0], 'o') \n",
    "    #plots, = ax.plot(current_boids.boid_x[t], current_boids.boid_y[t], 'o')\n",
    "    display(plots)\n",
    "\n",
    "    \n",
    "def on_save_button_clicked(button):\n",
    "    # call the animator. blit=True means only re-draw the parts that have changed.\n",
    "    anim = animation.FuncAnimation(fig, animate, init_func=init, frames=n_days, blit=True)\n",
    "    %time anim.save('animation.gif', writer='imagemagick', fps=60)\n",
    "\n",
    "\n",
    "save_button.on_click(on_save_button_clicked)\n",
    "display_button.on_click(on_display_button_clicked)\n",
    "\n"
   ]
  },
  {
   "cell_type": "code",
   "execution_count": null,
   "metadata": {
    "collapsed": true
   },
   "outputs": [],
   "source": [
    "\n"
   ]
  },
  {
   "cell_type": "markdown",
   "metadata": {},
   "source": [
    "Figured out a workflow: save as gif with imagemagick, then load into notebook, or open in separate browser tab:"
   ]
  },
  {
   "cell_type": "code",
   "execution_count": 7,
   "metadata": {},
   "outputs": [
    {
     "data": {
      "image/png": "[encoded data removed]",
      "text/plain": [
       "<matplotlib.figure.Figure at 0x7fc4de3d8da0>"
      ]
     },
     "metadata": {},
     "output_type": "display_data"
    }
   ],
   "source": [
    "# First set up the figure, the axis, and the plot element we want to animate\n",
    "fig, ax = plt.subplots()\n",
    "\n",
    "ax.set_xlim(( 0, 1))\n",
    "ax.set_ylim((0, 1))\n",
    "\n",
    "line, = ax.plot([], [], lw=2)"
   ]
  },
  {
   "cell_type": "code",
   "execution_count": 8,
   "metadata": {},
   "outputs": [],
   "source": [
    "# initialization function: plot the background of each frame\n",
    "def init():\n",
    "    line.set_data([], [])\n",
    "    line.set_marker('o')\n",
    "    line.set_linestyle('none')\n",
    "    return (line,)\n"
   ]
  },
  {
   "cell_type": "code",
   "execution_count": 9,
   "metadata": {},
   "outputs": [],
   "source": [
    "# animation function. This is called sequentially\n",
    "def animate(i):\n",
    "    t=99\n",
    "\n",
    "    #x,y = np.array(boid_x)[:(t+1),i], np.array(boid_y)[:(t+1),i]\n",
    "\n",
    "    x,y = boid_x[i], boid_y[i]\n",
    "\n",
    "    line.set_data(x, y)\n",
    "    return (line,)\n"
   ]
  },
  {
   "cell_type": "code",
   "execution_count": 10,
   "metadata": {},
   "outputs": [],
   "source": [
    "from matplotlib import animation, rc"
   ]
  },
  {
   "cell_type": "code",
   "execution_count": 11,
   "metadata": {},
   "outputs": [],
   "source": [
    "# call the animator. blit=True means only re-draw the parts that have changed.\n",
    "anim = animation.FuncAnimation(fig, animate, init_func=init,\n",
    "                               frames=n_days, blit=True)\n"
   ]
  },
  {
   "cell_type": "code",
   "execution_count": 12,
   "metadata": {},
   "outputs": [
    {
     "ename": "NameError",
     "evalue": "name 'boid_x' is not defined",
     "output_type": "error",
     "traceback": [
      "\u001b[0;31m---------------------------------------------------------------------------\u001b[0m",
      "\u001b[0;31mNameError\u001b[0m                                 Traceback (most recent call last)",
      "\u001b[0;32m<timed eval>\u001b[0m in \u001b[0;36m<module>\u001b[0;34m()\u001b[0m\n",
      "\u001b[0;32m~/miniconda3/envs/vivarium/lib/python3.6/site-packages/matplotlib/animation.py\u001b[0m in \u001b[0;36msave\u001b[0;34m(self, filename, writer, fps, dpi, codec, bitrate, extra_args, metadata, extra_anim, savefig_kwargs)\u001b[0m\n\u001b[1;32m   1257\u001b[0m                     \u001b[0;32mfor\u001b[0m \u001b[0manim\u001b[0m\u001b[0;34m,\u001b[0m \u001b[0md\u001b[0m \u001b[0;32min\u001b[0m \u001b[0mzip\u001b[0m\u001b[0;34m(\u001b[0m\u001b[0mall_anim\u001b[0m\u001b[0;34m,\u001b[0m \u001b[0mdata\u001b[0m\u001b[0;34m)\u001b[0m\u001b[0;34m:\u001b[0m\u001b[0;34m\u001b[0m\u001b[0m\n\u001b[1;32m   1258\u001b[0m                         \u001b[0;31m# TODO: See if turning off blit is really necessary\u001b[0m\u001b[0;34m\u001b[0m\u001b[0;34m\u001b[0m\u001b[0m\n\u001b[0;32m-> 1259\u001b[0;31m                         \u001b[0manim\u001b[0m\u001b[0;34m.\u001b[0m\u001b[0m_draw_next_frame\u001b[0m\u001b[0;34m(\u001b[0m\u001b[0md\u001b[0m\u001b[0;34m,\u001b[0m \u001b[0mblit\u001b[0m\u001b[0;34m=\u001b[0m\u001b[0;32mFalse\u001b[0m\u001b[0;34m)\u001b[0m\u001b[0;34m\u001b[0m\u001b[0m\n\u001b[0m\u001b[1;32m   1260\u001b[0m                     \u001b[0mwriter\u001b[0m\u001b[0;34m.\u001b[0m\u001b[0mgrab_frame\u001b[0m\u001b[0;34m(\u001b[0m\u001b[0;34m**\u001b[0m\u001b[0msavefig_kwargs\u001b[0m\u001b[0;34m)\u001b[0m\u001b[0;34m\u001b[0m\u001b[0m\n\u001b[1;32m   1261\u001b[0m \u001b[0;34m\u001b[0m\u001b[0m\n",
      "\u001b[0;32m~/miniconda3/envs/vivarium/lib/python3.6/site-packages/matplotlib/animation.py\u001b[0m in \u001b[0;36m_draw_next_frame\u001b[0;34m(self, framedata, blit)\u001b[0m\n\u001b[1;32m   1294\u001b[0m         \u001b[0;31m# post- draw, as well as the drawing of the frame itself.\u001b[0m\u001b[0;34m\u001b[0m\u001b[0;34m\u001b[0m\u001b[0m\n\u001b[1;32m   1295\u001b[0m         \u001b[0mself\u001b[0m\u001b[0;34m.\u001b[0m\u001b[0m_pre_draw\u001b[0m\u001b[0;34m(\u001b[0m\u001b[0mframedata\u001b[0m\u001b[0;34m,\u001b[0m \u001b[0mblit\u001b[0m\u001b[0;34m)\u001b[0m\u001b[0;34m\u001b[0m\u001b[0m\n\u001b[0;32m-> 1296\u001b[0;31m         \u001b[0mself\u001b[0m\u001b[0;34m.\u001b[0m\u001b[0m_draw_frame\u001b[0m\u001b[0;34m(\u001b[0m\u001b[0mframedata\u001b[0m\u001b[0;34m)\u001b[0m\u001b[0;34m\u001b[0m\u001b[0m\n\u001b[0m\u001b[1;32m   1297\u001b[0m         \u001b[0mself\u001b[0m\u001b[0;34m.\u001b[0m\u001b[0m_post_draw\u001b[0m\u001b[0;34m(\u001b[0m\u001b[0mframedata\u001b[0m\u001b[0;34m,\u001b[0m \u001b[0mblit\u001b[0m\u001b[0;34m)\u001b[0m\u001b[0;34m\u001b[0m\u001b[0m\n\u001b[1;32m   1298\u001b[0m \u001b[0;34m\u001b[0m\u001b[0m\n",
      "\u001b[0;32m~/miniconda3/envs/vivarium/lib/python3.6/site-packages/matplotlib/animation.py\u001b[0m in \u001b[0;36m_draw_frame\u001b[0;34m(self, framedata)\u001b[0m\n\u001b[1;32m   1812\u001b[0m         \u001b[0;31m# Call the func with framedata and args. If blitting is desired,\u001b[0m\u001b[0;34m\u001b[0m\u001b[0;34m\u001b[0m\u001b[0m\n\u001b[1;32m   1813\u001b[0m         \u001b[0;31m# func needs to return a sequence of any artists that were modified.\u001b[0m\u001b[0;34m\u001b[0m\u001b[0;34m\u001b[0m\u001b[0m\n\u001b[0;32m-> 1814\u001b[0;31m         \u001b[0mself\u001b[0m\u001b[0;34m.\u001b[0m\u001b[0m_drawn_artists\u001b[0m \u001b[0;34m=\u001b[0m \u001b[0mself\u001b[0m\u001b[0;34m.\u001b[0m\u001b[0m_func\u001b[0m\u001b[0;34m(\u001b[0m\u001b[0mframedata\u001b[0m\u001b[0;34m,\u001b[0m \u001b[0;34m*\u001b[0m\u001b[0mself\u001b[0m\u001b[0;34m.\u001b[0m\u001b[0m_args\u001b[0m\u001b[0;34m)\u001b[0m\u001b[0;34m\u001b[0m\u001b[0m\n\u001b[0m\u001b[1;32m   1815\u001b[0m         \u001b[0;32mif\u001b[0m \u001b[0mself\u001b[0m\u001b[0;34m.\u001b[0m\u001b[0m_blit\u001b[0m\u001b[0;34m:\u001b[0m\u001b[0;34m\u001b[0m\u001b[0m\n\u001b[1;32m   1816\u001b[0m             \u001b[0;32mif\u001b[0m \u001b[0mself\u001b[0m\u001b[0;34m.\u001b[0m\u001b[0m_drawn_artists\u001b[0m \u001b[0;32mis\u001b[0m \u001b[0;32mNone\u001b[0m\u001b[0;34m:\u001b[0m\u001b[0;34m\u001b[0m\u001b[0m\n",
      "\u001b[0;32m<ipython-input-9-add798a4afa0>\u001b[0m in \u001b[0;36manimate\u001b[0;34m(i)\u001b[0m\n\u001b[1;32m      5\u001b[0m     \u001b[0;31m#x,y = np.array(boid_x)[:(t+1),i], np.array(boid_y)[:(t+1),i]\u001b[0m\u001b[0;34m\u001b[0m\u001b[0;34m\u001b[0m\u001b[0m\n\u001b[1;32m      6\u001b[0m \u001b[0;34m\u001b[0m\u001b[0m\n\u001b[0;32m----> 7\u001b[0;31m     \u001b[0mx\u001b[0m\u001b[0;34m,\u001b[0m\u001b[0my\u001b[0m \u001b[0;34m=\u001b[0m \u001b[0mboid_x\u001b[0m\u001b[0;34m[\u001b[0m\u001b[0mi\u001b[0m\u001b[0;34m]\u001b[0m\u001b[0;34m,\u001b[0m \u001b[0mboid_y\u001b[0m\u001b[0;34m[\u001b[0m\u001b[0mi\u001b[0m\u001b[0;34m]\u001b[0m\u001b[0;34m\u001b[0m\u001b[0m\n\u001b[0m\u001b[1;32m      8\u001b[0m \u001b[0;34m\u001b[0m\u001b[0m\n\u001b[1;32m      9\u001b[0m     \u001b[0mline\u001b[0m\u001b[0;34m.\u001b[0m\u001b[0mset_data\u001b[0m\u001b[0;34m(\u001b[0m\u001b[0mx\u001b[0m\u001b[0;34m,\u001b[0m \u001b[0my\u001b[0m\u001b[0;34m)\u001b[0m\u001b[0;34m\u001b[0m\u001b[0m\n",
      "\u001b[0;31mNameError\u001b[0m: name 'boid_x' is not defined"
     ]
    }
   ],
   "source": [
    "%time anim.save('animation.gif', writer='imagemagick', fps=60)"
   ]
  },
  {
   "cell_type": "code",
   "execution_count": null,
   "metadata": {
    "collapsed": true
   },
   "outputs": [],
   "source": []
  },
  {
   "cell_type": "code",
   "execution_count": null,
   "metadata": {
    "collapsed": true
   },
   "outputs": [],
   "source": []
  },
  {
   "cell_type": "code",
   "execution_count": null,
   "metadata": {
    "collapsed": true
   },
   "outputs": [],
   "source": []
  },
  {
   "cell_type": "code",
   "execution_count": null,
   "metadata": {
    "collapsed": true
   },
   "outputs": [],
   "source": []
  },
  {
   "cell_type": "code",
   "execution_count": null,
   "metadata": {
    "collapsed": true
   },
   "outputs": [],
   "source": []
  }
 ],
 "metadata": {
  "anaconda-cloud": {},
  "kernelspec": {
   "display_name": "Python 3",
   "language": "python",
   "name": "python3"
  },
  "language_info": {
   "codemirror_mode": {
    "name": "ipython",
    "version": 3
   },
   "file_extension": ".py",
   "mimetype": "text/x-python",
   "name": "python",
   "nbconvert_exporter": "python",
   "pygments_lexer": "ipython3",
   "version": "3.6.4"
  }
 },
 "nbformat": 4,
 "nbformat_minor": 1
}
