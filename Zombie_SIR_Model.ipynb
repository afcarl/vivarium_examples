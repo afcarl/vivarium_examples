{
 "cells": [
  {
   "cell_type": "code",
   "execution_count": 6,
   "metadata": {},
   "outputs": [
    {
     "name": "stdout",
     "output_type": "stream",
     "text": [
      "Thu Mar  8 20:03:05 PST 2018\r\n"
     ]
    }
   ],
   "source": [
    "%matplotlib inline\n",
    "import numpy as np\n",
    "import pandas as pd\n",
    "import matplotlib.pyplot as plt\n",
    "import seaborn as sns\n",
    "\n",
    "from vivarium.test_util import setup_simulation, pump_simulation\n",
    "\n",
    "pd.set_option('display.max_rows', 8)\n",
    "\n",
    "!date"
   ]
  },
  {
   "cell_type": "markdown",
   "metadata": {},
   "source": [
    "# Modeling SIR infections in Vivarium"
   ]
  },
  {
   "cell_type": "code",
   "execution_count": 7,
   "metadata": {},
   "outputs": [],
   "source": [
    "import vivarium, vivarium.test_util as vtu\n",
    "\n",
    "np.random.seed(12345)  # set random seed for reproducibility\n",
    "\n",
    "n_simulants = 300\n",
    "n_days = 1000\n",
    "t_timestep = 1 # days\n",
    "t_start = pd.Timestamp('1990-01-01')"
   ]
  },
  {
   "cell_type": "markdown",
   "metadata": {},
   "source": [
    "# Model One: doing it all by hand"
   ]
  },
  {
   "cell_type": "code",
   "execution_count": 12,
   "metadata": {},
   "outputs": [],
   "source": [
    "class SI1:\n",
    "    def setup(self, builder):\n",
    "        self.population_view = builder.population.get_view(['disease_state'])\n",
    "        builder.population.initializes_simulants(self.initialize_simulants, creates_columns=['disease_state'])\n",
    "        self.beta = 1.1\n",
    "        \n",
    "        builder.event.register_listener('time_step', self.on_time_step)\n",
    "        \n",
    "    def initialize_simulants(self, pop_data):\n",
    "        \"\"\"Start most simulants in susceptible state, but one in infected\"\"\"\n",
    "        disease_state = pd.Series('S', index=pop_data.index, name='disease_state')\n",
    "        disease_state[0] = 'I'\n",
    "        \n",
    "        self.population_view.update(disease_state)\n",
    "        \n",
    "    def on_time_step(self, event):\n",
    "        \"\"\"one step of infectious disease dynamics\"\"\"\n",
    "        pop = self.population_view.get(event.index)\n",
    "        infected_proportion = np.mean(pop.disease_state == 'I')\n",
    "        \n",
    "        rows = (np.random.uniform(size=len(event.index)) < self.beta * infected_proportion)\n",
    "        pop.disease_state[rows] = 'I'\n",
    "        self.population_view.update(pop)\n",
    "        "
   ]
  },
  {
   "cell_type": "code",
   "execution_count": 13,
   "metadata": {},
   "outputs": [
    {
     "data": {
      "application/vnd.jupyter.widget-view+json": {
       "model_id": "bd63cdc46d4c430ebf54fde40a6fe8a3",
       "version_major": 2,
       "version_minor": 0
      },
      "text/html": [
       "<p>Failed to display Jupyter Widget of type <code>VBox</code>.</p>\n",
       "<p>\n",
       "  If you're reading this message in the Jupyter Notebook or JupyterLab Notebook, it may mean\n",
       "  that the widgets JavaScript is still loading. If this message persists, it\n",
       "  likely means that the widgets JavaScript library is either not installed or\n",
       "  not enabled. See the <a href=\"https://ipywidgets.readthedocs.io/en/stable/user_install.html\">Jupyter\n",
       "  Widgets Documentation</a> for setup instructions.\n",
       "</p>\n",
       "<p>\n",
       "  If you're reading this message in another frontend (for example, a static\n",
       "  rendering on GitHub or <a href=\"https://nbviewer.jupyter.org/\">NBViewer</a>),\n",
       "  it may mean that your frontend doesn't currently support widgets.\n",
       "</p>\n"
      ],
      "text/plain": [
       "VBox(children=(HTML(value=''), IntProgress(value=0, max=4)))"
      ]
     },
     "metadata": {},
     "output_type": "display_data"
    },
    {
     "data": {
      "text/plain": [
       "4"
      ]
     },
     "execution_count": 13,
     "metadata": {},
     "output_type": "execute_result"
    }
   ],
   "source": [
    "sim = setup_simulation([SI1()], population_size=n_simulants, start=t_start)\n",
    "pump_simulation(sim, time_step_days=t_timestep, duration=4)"
   ]
  },
  {
   "cell_type": "code",
   "execution_count": 14,
   "metadata": {},
   "outputs": [
    {
     "data": {
      "text/plain": [
       "S    275\n",
       "I     25\n",
       "Name: disease_state, dtype: int64"
      ]
     },
     "execution_count": 14,
     "metadata": {},
     "output_type": "execute_result"
    }
   ],
   "source": [
    "sim.population.population.disease_state.value_counts()"
   ]
  },
  {
   "cell_type": "code",
   "execution_count": 17,
   "metadata": {},
   "outputs": [],
   "source": [
    "# take a look at this, but how\n",
    "class SIObserver:\n",
    "    def __init__(self):\n",
    "        \"\"\"initialize some dictionaries to hold observations\n",
    "        \"\"\"\n",
    "        self.S = {}\n",
    "        self.I = {}\n",
    "        \n",
    "    def setup(self, builder):\n",
    "        \"\"\"get a population view in setup instead of in __init__,\n",
    "        because it comes from the simulation's builder object\n",
    "        \"\"\"\n",
    "        self.population_view = builder.population.get_view(['disease_state'])\n",
    "        \n",
    "        builder.event.register_listener('collect_metrics', self.on_collect_metrics)\n",
    "        \n",
    "    def on_collect_metrics(self, event):\n",
    "        \"\"\"after every time step the simulation engine sends \n",
    "        a collect_metrics event, which is the perfect time\n",
    "        to record some statistics about the state of the simulation\n",
    "        \"\"\"\n",
    "        \n",
    "        pop = self.population_view.get(event.index)\n",
    "        self.S[event.time] = np.sum(pop.disease_state == 'S')\n",
    "        self.I[event.time] = np.sum(pop.disease_state == 'I')\n",
    "\n",
    "    def show(self):\n",
    "        \"\"\"simple plot of observations\n",
    "        \"\"\"\n",
    "        pd.DataFrame([self.S, self.I]).T.plot(marker='s')"
   ]
  },
  {
   "cell_type": "code",
   "execution_count": 18,
   "metadata": {},
   "outputs": [
    {
     "data": {
      "application/vnd.jupyter.widget-view+json": {
       "model_id": "0abd85d6bdf8467e89fd767d7cb1e0ae",
       "version_major": 2,
       "version_minor": 0
      },
      "text/html": [
       "<p>Failed to display Jupyter Widget of type <code>VBox</code>.</p>\n",
       "<p>\n",
       "  If you're reading this message in the Jupyter Notebook or JupyterLab Notebook, it may mean\n",
       "  that the widgets JavaScript is still loading. If this message persists, it\n",
       "  likely means that the widgets JavaScript library is either not installed or\n",
       "  not enabled. See the <a href=\"https://ipywidgets.readthedocs.io/en/stable/user_install.html\">Jupyter\n",
       "  Widgets Documentation</a> for setup instructions.\n",
       "</p>\n",
       "<p>\n",
       "  If you're reading this message in another frontend (for example, a static\n",
       "  rendering on GitHub or <a href=\"https://nbviewer.jupyter.org/\">NBViewer</a>),\n",
       "  it may mean that your frontend doesn't currently support widgets.\n",
       "</p>\n"
      ],
      "text/plain": [
       "VBox(children=(HTML(value=''), IntProgress(value=0, max=15)))"
      ]
     },
     "metadata": {},
     "output_type": "display_data"
    },
    {
     "data": {
      "text/plain": [
       "15"
      ]
     },
     "execution_count": 18,
     "metadata": {},
     "output_type": "execute_result"
    }
   ],
   "source": [
    "o = SIObserver()\n",
    "sim = setup_simulation([SI1(), o], population_size=n_simulants, start=t_start)\n",
    "pump_simulation(sim, time_step_days=t_timestep, duration=15)"
   ]
  },
  {
   "cell_type": "code",
   "execution_count": 19,
   "metadata": {},
   "outputs": [
    {
     "data": {
      "image/png": "[encoded data removed]",
      "text/plain": [
       "<matplotlib.figure.Figure at 0x7f7538d43f98>"
      ]
     },
     "metadata": {},
     "output_type": "display_data"
    }
   ],
   "source": [
    "o.show()"
   ]
  },
  {
   "cell_type": "markdown",
   "metadata": {},
   "source": [
    "# Model Two: use `vivarium` randomness\n",
    "Better than using `np.random` directly."
   ]
  },
  {
   "cell_type": "code",
   "execution_count": 23,
   "metadata": {},
   "outputs": [
    {
     "data": {
      "application/vnd.jupyter.widget-view+json": {
       "model_id": "0a6a0d8f2817447c99cad942611a642c",
       "version_major": 2,
       "version_minor": 0
      },
      "text/html": [
       "<p>Failed to display Jupyter Widget of type <code>VBox</code>.</p>\n",
       "<p>\n",
       "  If you're reading this message in the Jupyter Notebook or JupyterLab Notebook, it may mean\n",
       "  that the widgets JavaScript is still loading. If this message persists, it\n",
       "  likely means that the widgets JavaScript library is either not installed or\n",
       "  not enabled. See the <a href=\"https://ipywidgets.readthedocs.io/en/stable/user_install.html\">Jupyter\n",
       "  Widgets Documentation</a> for setup instructions.\n",
       "</p>\n",
       "<p>\n",
       "  If you're reading this message in another frontend (for example, a static\n",
       "  rendering on GitHub or <a href=\"https://nbviewer.jupyter.org/\">NBViewer</a>),\n",
       "  it may mean that your frontend doesn't currently support widgets.\n",
       "</p>\n"
      ],
      "text/plain": [
       "VBox(children=(HTML(value=''), IntProgress(value=0, max=15)))"
      ]
     },
     "metadata": {},
     "output_type": "display_data"
    },
    {
     "data": {
      "image/png": "[encoded data removed]",
      "text/plain": [
       "<matplotlib.figure.Figure at 0x7f6c589c5be0>"
      ]
     },
     "metadata": {},
     "output_type": "display_data"
    }
   ],
   "source": [
    "class SI2:\n",
    "    def setup(self, builder):\n",
    "        \"\"\"new this time: use builder.randomness to create a random number stream\n",
    "        \"\"\"\n",
    "        self.population_view = builder.population.get_view(['disease_state'])\n",
    "        self.beta = 1.1\n",
    "\n",
    "        self.randomness = builder.randomness.get_stream('infection')\n",
    "    \n",
    "    @listens_for('initialize_simulants')\n",
    "    def on_initalize_simulants(self, event):\n",
    "        \"\"\"Start most simulants in susceptible state, but one in infected\n",
    "        \"\"\"\n",
    "        disease_state = pd.Series('S', index=event.index, name='disease_state')\n",
    "        disease_state[0] = 'I'\n",
    "        \n",
    "        self.population_view.update(disease_state)\n",
    "    \n",
    "    @listens_for('time_step')\n",
    "    def on_time_step(self, event):\n",
    "        \"\"\"one step of infectious disease dynamics, now implemented with\n",
    "        randomness method provided by vivarium\"\"\"\n",
    "        pop = self.population_view.get(event.index)\n",
    "        infected_proportion = np.mean(pop.disease_state == 'I')\n",
    "\n",
    "        infected = self.randomness.filter_for_probability(pop, self.beta * infected_proportion)\n",
    "        infected = infected.copy()  # HACK: makes a SettingWithCopyWarning go away\n",
    "        infected.disease_state = 'I'\n",
    "        self.population_view.update(infected)\n",
    "        \n",
    "o = SIObserver()\n",
    "sim = vtu.setup_simulation([SI2(), o], population_size=n_simulants, start=t_start)\n",
    "vtu.pump_simulation(sim, time_step_days=t_timestep, duration=15)\n",
    "o.show()"
   ]
  },
  {
   "cell_type": "code",
   "execution_count": 24,
   "metadata": {},
   "outputs": [
    {
     "data": {
      "application/vnd.jupyter.widget-view+json": {
       "model_id": "5882a9c8d936471e8b4c45edd77971e6",
       "version_major": 2,
       "version_minor": 0
      },
      "text/html": [
       "<p>Failed to display Jupyter Widget of type <code>VBox</code>.</p>\n",
       "<p>\n",
       "  If you're reading this message in the Jupyter Notebook or JupyterLab Notebook, it may mean\n",
       "  that the widgets JavaScript is still loading. If this message persists, it\n",
       "  likely means that the widgets JavaScript library is either not installed or\n",
       "  not enabled. See the <a href=\"https://ipywidgets.readthedocs.io/en/stable/user_install.html\">Jupyter\n",
       "  Widgets Documentation</a> for setup instructions.\n",
       "</p>\n",
       "<p>\n",
       "  If you're reading this message in another frontend (for example, a static\n",
       "  rendering on GitHub or <a href=\"https://nbviewer.jupyter.org/\">NBViewer</a>),\n",
       "  it may mean that your frontend doesn't currently support widgets.\n",
       "</p>\n"
      ],
      "text/plain": [
       "VBox(children=(HTML(value=''), IntProgress(value=0, max=10)))"
      ]
     },
     "metadata": {},
     "output_type": "display_data"
    },
    {
     "data": {
      "text/plain": [
       "I    166\n",
       "S    134\n",
       "Name: disease_state, dtype: int64"
      ]
     },
     "execution_count": 24,
     "metadata": {},
     "output_type": "execute_result"
    }
   ],
   "source": [
    "# now the randomness is replicable, you don't need to set the random seed anymore\n",
    "sim = vtu.setup_simulation([SI2()], population_size=n_simulants, start=t_start)\n",
    "vtu.pump_simulation(sim, time_step_days=t_timestep, duration=10)\n",
    "\n",
    "sim.population.population.disease_state.value_counts()"
   ]
  },
  {
   "cell_type": "code",
   "execution_count": 25,
   "metadata": {},
   "outputs": [
    {
     "data": {
      "application/vnd.jupyter.widget-view+json": {
       "model_id": "74bee52ba1f84805a2876504c03f9127",
       "version_major": 2,
       "version_minor": 0
      },
      "text/html": [
       "<p>Failed to display Jupyter Widget of type <code>VBox</code>.</p>\n",
       "<p>\n",
       "  If you're reading this message in the Jupyter Notebook or JupyterLab Notebook, it may mean\n",
       "  that the widgets JavaScript is still loading. If this message persists, it\n",
       "  likely means that the widgets JavaScript library is either not installed or\n",
       "  not enabled. See the <a href=\"https://ipywidgets.readthedocs.io/en/stable/user_install.html\">Jupyter\n",
       "  Widgets Documentation</a> for setup instructions.\n",
       "</p>\n",
       "<p>\n",
       "  If you're reading this message in another frontend (for example, a static\n",
       "  rendering on GitHub or <a href=\"https://nbviewer.jupyter.org/\">NBViewer</a>),\n",
       "  it may mean that your frontend doesn't currently support widgets.\n",
       "</p>\n"
      ],
      "text/plain": [
       "VBox(children=(HTML(value=''), IntProgress(value=0, max=10)))"
      ]
     },
     "metadata": {},
     "output_type": "display_data"
    },
    {
     "data": {
      "text/plain": [
       "I    166\n",
       "S    134\n",
       "Name: disease_state, dtype: int64"
      ]
     },
     "execution_count": 25,
     "metadata": {},
     "output_type": "execute_result"
    }
   ],
   "source": [
    "# do it again, get exactly same results\n",
    "\n",
    "sim = vtu.setup_simulation([SI2()], population_size=n_simulants, start=t_start)\n",
    "vtu.pump_simulation(sim, time_step_days=t_timestep, duration=10)\n",
    "\n",
    "sim.population.population.disease_state.value_counts()"
   ]
  },
  {
   "cell_type": "markdown",
   "metadata": {},
   "source": [
    "# Model Three: use randomness and pipelines"
   ]
  },
  {
   "cell_type": "code",
   "execution_count": 21,
   "metadata": {},
   "outputs": [],
   "source": [
    "class SI3:\n",
    "    def setup(self, builder):\n",
    "        self.population_view = builder.population.get_view(['disease_state'])\n",
    "        builder.population.initializes_simulants(self.initialize_simulants, creates_columns=['disease_state'])\n",
    "        self.beta = 1.1\n",
    "        \n",
    "        builder.event.register_listener('time_step__prepare', self.on_time_step__prepare)\n",
    "        builder.event.register_listener('time_step', self.on_time_step)\n",
    "\n",
    "        self.randomness = builder.randomness.get_stream('infection')\n",
    "        self.infection_prob = builder.value.register_value_producer('infection_prob', \n",
    "                                                                    source=self.infection_prob_func)\n",
    "    \n",
    "    def initialize_simulants(self, pop_data):\n",
    "        \"\"\"Start most simulants in susceptible state, but one in infected\n",
    "        \"\"\"\n",
    "        disease_state = pd.Series('S', index=pop_data.index, name='disease_state')\n",
    "        disease_state[0] = 'I'\n",
    "        \n",
    "        self.population_view.update(disease_state)\n",
    "\n",
    "    def on_time_step__prepare(self, event):\n",
    "        \"\"\"count number infected\"\"\"\n",
    "        pop = self.population_view.get(event.index)\n",
    "        self.infected_proportion = np.mean(pop.disease_state == 'I')\n",
    "    \n",
    "    def infection_prob_func(self, index):\n",
    "        return pd.Series(self.beta * self.infected_proportion, index=index)\n",
    "    \n",
    "    def on_time_step(self, event):\n",
    "        pop = self.population_view.get(event.index)\n",
    "        infected = self.randomness.filter_for_probability(pop, self.infection_prob(event.index))\n",
    "        infected = infected.copy()  # makes a SettingWithCopyWarning go away\n",
    "        infected.disease_state = 'I'\n",
    "        self.population_view.update(infected)\n",
    "        \n"
   ]
  },
  {
   "cell_type": "code",
   "execution_count": 22,
   "metadata": {},
   "outputs": [
    {
     "data": {
      "application/vnd.jupyter.widget-view+json": {
       "model_id": "a366303da9a44001adc8fa99ba581c66",
       "version_major": 2,
       "version_minor": 0
      },
      "text/html": [
       "<p>Failed to display Jupyter Widget of type <code>VBox</code>.</p>\n",
       "<p>\n",
       "  If you're reading this message in the Jupyter Notebook or JupyterLab Notebook, it may mean\n",
       "  that the widgets JavaScript is still loading. If this message persists, it\n",
       "  likely means that the widgets JavaScript library is either not installed or\n",
       "  not enabled. See the <a href=\"https://ipywidgets.readthedocs.io/en/stable/user_install.html\">Jupyter\n",
       "  Widgets Documentation</a> for setup instructions.\n",
       "</p>\n",
       "<p>\n",
       "  If you're reading this message in another frontend (for example, a static\n",
       "  rendering on GitHub or <a href=\"https://nbviewer.jupyter.org/\">NBViewer</a>),\n",
       "  it may mean that your frontend doesn't currently support widgets.\n",
       "</p>\n"
      ],
      "text/plain": [
       "VBox(children=(HTML(value=''), IntProgress(value=0, max=15)))"
      ]
     },
     "metadata": {},
     "output_type": "display_data"
    },
    {
     "data": {
      "image/png": "[encoded data removed]",
      "text/plain": [
       "<matplotlib.figure.Figure at 0x7f7530562278>"
      ]
     },
     "metadata": {},
     "output_type": "display_data"
    }
   ],
   "source": [
    "o = SIObserver()\n",
    "sim = vtu.setup_simulation([SI3(), o], population_size=n_simulants, start=t_start)\n",
    "vtu.pump_simulation(sim, time_step_days=t_timestep, duration=15)\n",
    "o.show()"
   ]
  },
  {
   "cell_type": "markdown",
   "metadata": {},
   "source": [
    "Seems like more work for no gain... What is the point of the pipeline?  Modularity and composability.\n",
    "\n",
    "Introduce a vaccine component:"
   ]
  },
  {
   "cell_type": "code",
   "execution_count": 31,
   "metadata": {},
   "outputs": [],
   "source": [
    "class Vaccine:\n",
    "    def setup(self, builder):\n",
    "        self.population_view = builder.population.get_view(['vaccine_protection'])\n",
    "        builder.population.initializes_simulants(self.initialize_simulants, \n",
    "                                                 creates_columns=['vaccine_protection'])\n",
    "        builder.value.register_value_modifier('infection_prob', self.modify_infection_prob)\n",
    "        \n",
    "        self.randomness = builder.randomness.get_stream('vaccine_protection')\n",
    "\n",
    "    def initialize_simulants(self, pop_data):\n",
    "        s = self.randomness.get_draw(pop_data.index)\n",
    "        s[:] = np.where(s>.8, 1, s)\n",
    "        self.population_view.update(s)\n",
    "        \n",
    "    def modify_infection_prob(self, index, value):\n",
    "        pop = self.population_view.get(index)\n",
    "        return value*(1 - pop.vaccine_protection)"
   ]
  },
  {
   "cell_type": "code",
   "execution_count": 32,
   "metadata": {},
   "outputs": [
    {
     "data": {
      "application/vnd.jupyter.widget-view+json": {
       "model_id": "b1abbb53913b445082ca431b697f7ee2",
       "version_major": 2,
       "version_minor": 0
      },
      "text/html": [
       "<p>Failed to display Jupyter Widget of type <code>VBox</code>.</p>\n",
       "<p>\n",
       "  If you're reading this message in the Jupyter Notebook or JupyterLab Notebook, it may mean\n",
       "  that the widgets JavaScript is still loading. If this message persists, it\n",
       "  likely means that the widgets JavaScript library is either not installed or\n",
       "  not enabled. See the <a href=\"https://ipywidgets.readthedocs.io/en/stable/user_install.html\">Jupyter\n",
       "  Widgets Documentation</a> for setup instructions.\n",
       "</p>\n",
       "<p>\n",
       "  If you're reading this message in another frontend (for example, a static\n",
       "  rendering on GitHub or <a href=\"https://nbviewer.jupyter.org/\">NBViewer</a>),\n",
       "  it may mean that your frontend doesn't currently support widgets.\n",
       "</p>\n"
      ],
      "text/plain": [
       "VBox(children=(HTML(value=''), IntProgress(value=0, max=25)))"
      ]
     },
     "metadata": {},
     "output_type": "display_data"
    },
    {
     "data": {
      "image/png": "[encoded data removed]",
      "text/plain": [
       "<matplotlib.figure.Figure at 0x7f75301cecc0>"
      ]
     },
     "metadata": {},
     "output_type": "display_data"
    }
   ],
   "source": [
    "o = SIObserver()\n",
    "sim = vtu.setup_simulation([SI3(), Vaccine(), o], population_size=n_simulants, start=t_start)\n",
    "vtu.pump_simulation(sim, time_step_days=t_timestep, duration=25)\n",
    "o.show()"
   ]
  },
  {
   "cell_type": "code",
   "execution_count": 33,
   "metadata": {},
   "outputs": [
    {
     "data": {
      "text/plain": [
       "I    224\n",
       "S     76\n",
       "Name: disease_state, dtype: int64"
      ]
     },
     "execution_count": 33,
     "metadata": {},
     "output_type": "execute_result"
    }
   ],
   "source": [
    "df = sim.population.population\n",
    "df.disease_state.value_counts()"
   ]
  },
  {
   "cell_type": "code",
   "execution_count": 34,
   "metadata": {},
   "outputs": [
    {
     "data": {
      "text/html": [
       "<div>\n",
       "<style scoped>\n",
       "    .dataframe tbody tr th:only-of-type {\n",
       "        vertical-align: middle;\n",
       "    }\n",
       "\n",
       "    .dataframe tbody tr th {\n",
       "        vertical-align: top;\n",
       "    }\n",
       "\n",
       "    .dataframe thead th {\n",
       "        text-align: right;\n",
       "    }\n",
       "</style>\n",
       "<table border=\"1\" class=\"dataframe\">\n",
       "  <thead>\n",
       "    <tr style=\"text-align: right;\">\n",
       "      <th>disease_state</th>\n",
       "      <th>I</th>\n",
       "      <th>S</th>\n",
       "    </tr>\n",
       "    <tr>\n",
       "      <th>vaccine_protection</th>\n",
       "      <th></th>\n",
       "      <th></th>\n",
       "    </tr>\n",
       "  </thead>\n",
       "  <tbody>\n",
       "    <tr>\n",
       "      <th>(-0.000438, 0.25]</th>\n",
       "      <td>100.0</td>\n",
       "      <td>0.0</td>\n",
       "    </tr>\n",
       "    <tr>\n",
       "      <th>(0.25, 0.5]</th>\n",
       "      <td>98.4</td>\n",
       "      <td>1.6</td>\n",
       "    </tr>\n",
       "    <tr>\n",
       "      <th>(0.5, 0.75]</th>\n",
       "      <td>91.4</td>\n",
       "      <td>8.6</td>\n",
       "    </tr>\n",
       "    <tr>\n",
       "      <th>(0.75, 1.0]</th>\n",
       "      <td>17.1</td>\n",
       "      <td>82.9</td>\n",
       "    </tr>\n",
       "  </tbody>\n",
       "</table>\n",
       "</div>"
      ],
      "text/plain": [
       "disease_state           I     S\n",
       "vaccine_protection             \n",
       "(-0.000438, 0.25]   100.0   0.0\n",
       "(0.25, 0.5]          98.4   1.6\n",
       "(0.5, 0.75]          91.4   8.6\n",
       "(0.75, 1.0]          17.1  82.9"
      ]
     },
     "execution_count": 34,
     "metadata": {},
     "output_type": "execute_result"
    }
   ],
   "source": [
    "g = df.groupby(pd.cut(df.vaccine_protection, bins=4))\n",
    "t = g.disease_state.value_counts(normalize=True).unstack().fillna(0)\n",
    "np.round(100*t, 1)"
   ]
  }
 ],
 "metadata": {
  "kernelspec": {
   "display_name": "Python 3",
   "language": "python",
   "name": "python3"
  },
  "language_info": {
   "codemirror_mode": {
    "name": "ipython",
    "version": 3
   },
   "file_extension": ".py",
   "mimetype": "text/x-python",
   "name": "python",
   "nbconvert_exporter": "python",
   "pygments_lexer": "ipython3",
   "version": "3.6.4"
  }
 },
 "nbformat": 4,
 "nbformat_minor": 2
}
