{
 "cells": [
  {
   "cell_type": "code",
   "execution_count": 1,
   "metadata": {},
   "outputs": [],
   "source": [
    "%matplotlib inline\n",
    "import numpy as np\n",
    "import pandas as pd\n",
    "import matplotlib.pyplot as plt\n",
    "\n",
    "from vivarium.test_util import setup_simulation, pump_simulation"
   ]
  },
  {
   "cell_type": "code",
   "execution_count": 2,
   "metadata": {},
   "outputs": [],
   "source": [
    "np.random.seed(12345)  # set random seed for reproducibility\n",
    "\n",
    "n_simulants = 50\n",
    "n_days = 5000\n",
    "t_timestep = 1 # days\n",
    "t_start = pd.Timestamp('1990-01-01')"
   ]
  },
  {
   "cell_type": "markdown",
   "metadata": {},
   "source": [
    "# Firefly micromechanism\n",
    "\n",
    "Each agent is a firefly.  It has a clock, and at time 0 it lights up.  It also has neighbors, and if it sees a neighbor light up before it does, it jumps its clock forward one.  This should lead all fireflies to sync up."
   ]
  },
  {
   "cell_type": "code",
   "execution_count": 6,
   "metadata": {},
   "outputs": [
    {
     "data": {
      "text/plain": [
       "False    24\n",
       "True      1\n",
       "Name: glow_clock, dtype: int64"
      ]
     },
     "execution_count": 6,
     "metadata": {},
     "output_type": "execute_result"
    }
   ],
   "source": [
    "def is_glowing(df):\n",
    "    return (df.glow_clock % 10) < 1\n",
    "\n",
    "\n",
    "is_glowing(pd.DataFrame({'glow_clock':np.random.uniform(low=0, high=100, size=25)})).value_counts()"
   ]
  },
  {
   "cell_type": "code",
   "execution_count": 10,
   "metadata": {},
   "outputs": [],
   "source": [
    "class BasePopulation:\n",
    "    \n",
    "    def setup(self, builder):\n",
    "        columns = ['glow_clock', 'sex', 'glow']\n",
    "        self.population_view = builder.population.get_view(columns)\n",
    "        builder.population.initializes_simulants(self.initialize_simulants, \n",
    "                                                 creates_columns=columns)\n",
    "\n",
    "    def initialize_simulants(self, pop_data):        \n",
    "        pop = pd.DataFrame({'glow_clock': np.random.uniform(low=0, high=10, size=len(pop_data.index)),\n",
    "                            'sex': '-',}, index=pop_data.index)\n",
    "        pop['glow'] = is_glowing(pop)\n",
    "        \n",
    "        self.population_view.update(pop)\n",
    "        \n",
    "class GlowObserver:\n",
    "    def __init__(self):\n",
    "        self.glow_mean = []\n",
    "        \n",
    "    def setup(self, builder):\n",
    "        self.population_view = builder.population.get_view(['glow'])\n",
    "        builder.event.register_listener('collect_metrics', self.on_collect_metrics)\n",
    "        \n",
    "    def on_collect_metrics(self, event):\n",
    "        pop = self.population_view.get(event.index)\n",
    "        self.glow_mean.append(pop.glow.mean())\n"
   ]
  },
  {
   "cell_type": "code",
   "execution_count": 11,
   "metadata": {},
   "outputs": [
    {
     "data": {
      "application/vnd.jupyter.widget-view+json": {
       "model_id": "932d539fa29d4fbd846f7b36903d8f10",
       "version_major": 2,
       "version_minor": 0
      },
      "text/html": [
       "<p>Failed to display Jupyter Widget of type <code>VBox</code>.</p>\n",
       "<p>\n",
       "  If you're reading this message in the Jupyter Notebook or JupyterLab Notebook, it may mean\n",
       "  that the widgets JavaScript is still loading. If this message persists, it\n",
       "  likely means that the widgets JavaScript library is either not installed or\n",
       "  not enabled. See the <a href=\"https://ipywidgets.readthedocs.io/en/stable/user_install.html\">Jupyter\n",
       "  Widgets Documentation</a> for setup instructions.\n",
       "</p>\n",
       "<p>\n",
       "  If you're reading this message in another frontend (for example, a static\n",
       "  rendering on GitHub or <a href=\"https://nbviewer.jupyter.org/\">NBViewer</a>),\n",
       "  it may mean that your frontend doesn't currently support widgets.\n",
       "</p>\n"
      ],
      "text/plain": [
       "VBox(children=(HTML(value=''), IntProgress(value=0, max=5000)))"
      ]
     },
     "metadata": {},
     "output_type": "display_data"
    },
    {
     "data": {
      "text/plain": [
       "0.16"
      ]
     },
     "execution_count": 11,
     "metadata": {},
     "output_type": "execute_result"
    }
   ],
   "source": [
    "components = [BasePopulation(), GlowObserver()]\n",
    "simulation = setup_simulation(components, population_size=n_simulants, start=t_start)\n",
    "pump_simulation(simulation, time_step_days=t_timestep, duration=pd.Timedelta(days=n_days))\n",
    "\n",
    "# take a look at the population at the end of the sim\n",
    "simulation.population.population.glow.mean()"
   ]
  },
  {
   "cell_type": "code",
   "execution_count": 14,
   "metadata": {},
   "outputs": [],
   "source": [
    "class IndependentGlowClock:\n",
    "    def setup(self, builder):\n",
    "        self.population_view = builder.population.get_view(columns=['glow_clock', 'glow'])\n",
    "        \n",
    "        builder.event.register_listener('time_step', listener=self.advance_clock)\n",
    "\n",
    "    def advance_clock(self, event):\n",
    "        t = self.population_view.get(event.index)\n",
    "        t['glow_clock'] += np.random.uniform(low=0, high=.1, size=len(t))\n",
    "        t['glow'] = is_glowing(t)\n",
    "        self.population_view.update(t)"
   ]
  },
  {
   "cell_type": "code",
   "execution_count": 15,
   "metadata": {},
   "outputs": [
    {
     "data": {
      "application/vnd.jupyter.widget-view+json": {
       "model_id": "65191481c26e4eea8e1d369b95a871ef",
       "version_major": 2,
       "version_minor": 0
      },
      "text/html": [
       "<p>Failed to display Jupyter Widget of type <code>VBox</code>.</p>\n",
       "<p>\n",
       "  If you're reading this message in the Jupyter Notebook or JupyterLab Notebook, it may mean\n",
       "  that the widgets JavaScript is still loading. If this message persists, it\n",
       "  likely means that the widgets JavaScript library is either not installed or\n",
       "  not enabled. See the <a href=\"https://ipywidgets.readthedocs.io/en/stable/user_install.html\">Jupyter\n",
       "  Widgets Documentation</a> for setup instructions.\n",
       "</p>\n",
       "<p>\n",
       "  If you're reading this message in another frontend (for example, a static\n",
       "  rendering on GitHub or <a href=\"https://nbviewer.jupyter.org/\">NBViewer</a>),\n",
       "  it may mean that your frontend doesn't currently support widgets.\n",
       "</p>\n"
      ],
      "text/plain": [
       "VBox(children=(HTML(value=''), IntProgress(value=0, max=5000)))"
      ]
     },
     "metadata": {},
     "output_type": "display_data"
    },
    {
     "name": "stdout",
     "output_type": "stream",
     "text": [
      "CPU times: user 20.4 s, sys: 182 ms, total: 20.6 s\n",
      "Wall time: 20.4 s\n"
     ]
    },
    {
     "data": {
      "text/plain": [
       "0.1"
      ]
     },
     "execution_count": 15,
     "metadata": {},
     "output_type": "execute_result"
    }
   ],
   "source": [
    "observer = GlowObserver()\n",
    "components = [BasePopulation(), IndependentGlowClock(), observer]\n",
    "simulation = setup_simulation(components, population_size=n_simulants, start=t_start)\n",
    "%time pump_simulation(simulation, time_step_days=t_timestep, duration=pd.Timedelta(days=n_days))\n",
    "\n",
    "\n",
    "# take a look at the population at the end of the sim\n",
    "simulation.population.population.glow.mean()"
   ]
  },
  {
   "cell_type": "code",
   "execution_count": 16,
   "metadata": {},
   "outputs": [
    {
     "data": {
      "text/plain": [
       "(-249.95000000000002, 5248.95, -0.014000000000000002, 1)"
      ]
     },
     "execution_count": 16,
     "metadata": {},
     "output_type": "execute_result"
    },
    {
     "data": {
      "image/png": "[encoded data removed]",
      "text/plain": [
       "<matplotlib.figure.Figure at 0x7f5f4a443550>"
      ]
     },
     "metadata": {},
     "output_type": "display_data"
    }
   ],
   "source": [
    "plt.plot(observer.glow_mean)\n",
    "plt.xlabel('Time (s)')\n",
    "plt.ylabel('Fraction Glowing')\n",
    "plt.axis(ymax=1)"
   ]
  },
  {
   "cell_type": "code",
   "execution_count": 18,
   "metadata": {},
   "outputs": [],
   "source": [
    "def my_rewired_band(n, k, p):\n",
    "    \"\"\" SW Network\n",
    "    k : int, width of band-1/2\n",
    "    p : probability of rewiring\n",
    "    \"\"\"\n",
    "    A = np.eye(n)\n",
    "    for i in range(n):\n",
    "        for j in range(i-k, i+k+1):\n",
    "            if np.random.uniform() < p:\n",
    "                A[i, np.random.randint(n)] = 1\n",
    "            else:\n",
    "                A[i, (j % n)] = 1\n",
    "    return A\n"
   ]
  },
  {
   "cell_type": "code",
   "execution_count": 19,
   "metadata": {},
   "outputs": [],
   "source": [
    "class Synchronize:\n",
    "    \n",
    "    def setup(self, builder):\n",
    "        builder.population.initializes_simulants(self.on_initialize_simulants)        \n",
    "        self.population_view = builder.population.get_view(['glow', 'glow_clock'])\n",
    "        \n",
    "        builder.event.register_listener('time_step', self.advance_clock)\n",
    "        \n",
    "    def on_initialize_simulants(self, pop_data):\n",
    "        self.adjacency_matrix = my_rewired_band(len(pop_data.index), k=5, p=.2).astype(bool)\n",
    "        \n",
    "    def advance_clock(self, event):\n",
    "        t = self.population_view.get(event.index)\n",
    "    \n",
    "        see_glow = self.neighbors_glowing(t.glow)\n",
    "        advance_clock = see_glow & (t.glow_clock % 10 >= 5)\n",
    "        t.glow_clock[advance_clock] += np.random.uniform(low=0, high=.1, size=sum(advance_clock))    \n",
    "        self.population_view.update(t)\n",
    "\n",
    "    def neighbors_glowing(self, glow):\n",
    "        neighbor_glow = np.dot(self.adjacency_matrix, glow)\n",
    "        return neighbor_glow > 0"
   ]
  },
  {
   "cell_type": "code",
   "execution_count": 23,
   "metadata": {},
   "outputs": [
    {
     "data": {
      "application/vnd.jupyter.widget-view+json": {
       "model_id": "488021893cfc4894bc4e72b9e13a23fc",
       "version_major": 2,
       "version_minor": 0
      },
      "text/html": [
       "<p>Failed to display Jupyter Widget of type <code>VBox</code>.</p>\n",
       "<p>\n",
       "  If you're reading this message in the Jupyter Notebook or JupyterLab Notebook, it may mean\n",
       "  that the widgets JavaScript is still loading. If this message persists, it\n",
       "  likely means that the widgets JavaScript library is either not installed or\n",
       "  not enabled. See the <a href=\"https://ipywidgets.readthedocs.io/en/stable/user_install.html\">Jupyter\n",
       "  Widgets Documentation</a> for setup instructions.\n",
       "</p>\n",
       "<p>\n",
       "  If you're reading this message in another frontend (for example, a static\n",
       "  rendering on GitHub or <a href=\"https://nbviewer.jupyter.org/\">NBViewer</a>),\n",
       "  it may mean that your frontend doesn't currently support widgets.\n",
       "</p>\n"
      ],
      "text/plain": [
       "VBox(children=(HTML(value=''), IntProgress(value=0, max=5000)))"
      ]
     },
     "metadata": {},
     "output_type": "display_data"
    },
    {
     "name": "stderr",
     "output_type": "stream",
     "text": [
      "/home/james/miniconda3/envs/vivarium_examples/lib/python3.6/site-packages/ipykernel_launcher.py:17: SettingWithCopyWarning: \n",
      "A value is trying to be set on a copy of a slice from a DataFrame\n",
      "\n",
      "See the caveats in the documentation: http://pandas.pydata.org/pandas-docs/stable/indexing.html#indexing-view-versus-copy\n"
     ]
    },
    {
     "name": "stdout",
     "output_type": "stream",
     "text": [
      "CPU times: user 3min 56s, sys: 396 ms, total: 3min 56s\n",
      "Wall time: 3min 56s\n"
     ]
    },
    {
     "data": {
      "text/plain": [
       "0.22"
      ]
     },
     "execution_count": 23,
     "metadata": {},
     "output_type": "execute_result"
    }
   ],
   "source": [
    "observer = GlowObserver()\n",
    "components = [BasePopulation(), IndependentGlowClock(), Synchronize(), observer]\n",
    "simulation = setup_simulation(components, population_size=n_simulants, start=t_start)\n",
    "%time pump_simulation(simulation, time_step_days=t_timestep, duration=pd.Timedelta(days=n_days))\n",
    "\n",
    "\n",
    "# take a look at the population at the end of the sim\n",
    "simulation.population.population.glow.mean()    "
   ]
  },
  {
   "cell_type": "code",
   "execution_count": 24,
   "metadata": {},
   "outputs": [
    {
     "data": {
      "text/plain": [
       "Text(0,0.5,'Fraction Glowing')"
      ]
     },
     "execution_count": 24,
     "metadata": {},
     "output_type": "execute_result"
    },
    {
     "data": {
      "image/png": "[encoded data removed]",
      "text/plain": [
       "<matplotlib.figure.Figure at 0x7f5f3dc21240>"
      ]
     },
     "metadata": {},
     "output_type": "display_data"
    }
   ],
   "source": [
    "plt.plot(observer.glow_mean)\n",
    "plt.xlabel('Time (s)')\n",
    "plt.ylabel('Fraction Glowing')"
   ]
  }
 ],
 "metadata": {
  "anaconda-cloud": {},
  "kernelspec": {
   "display_name": "Python 3",
   "language": "python",
   "name": "python3"
  },
  "language_info": {
   "codemirror_mode": {
    "name": "ipython",
    "version": 3
   },
   "file_extension": ".py",
   "mimetype": "text/x-python",
   "name": "python",
   "nbconvert_exporter": "python",
   "pygments_lexer": "ipython3",
   "version": "3.6.4"
  }
 },
 "nbformat": 4,
 "nbformat_minor": 1
}
