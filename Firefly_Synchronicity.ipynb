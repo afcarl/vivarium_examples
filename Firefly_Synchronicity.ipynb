{
 "cells": [
  {
   "cell_type": "code",
   "execution_count": null,
   "metadata": {},
   "outputs": [],
   "source": [
    "# TODO: This is an old notebook.  Verify it still works"
   ]
  },
  {
   "cell_type": "code",
   "execution_count": null,
   "metadata": {},
   "outputs": [],
   "source": [
    "%matplotlib inline\n",
    "import numpy as np\n",
    "import pandas as pd\n",
    "import matplotlib.pyplot as plt\n",
    "\n",
    "import vivarium.test_util as vtu\n",
    "\n",
    "from vivarium.framework.event import listens_for\n",
    "from vivarium.framework.values import produces_value, modifies_value\n",
    "from vivarium.framework.population import uses_columns\n"
   ]
  },
  {
   "cell_type": "code",
   "execution_count": null,
   "metadata": {},
   "outputs": [],
   "source": [
    "np.random.seed(12345)  # set random seed for reproducibility\n",
    "\n",
    "n_simulants = 50\n",
    "n_days = 5000\n",
    "t_timestep = 1 # days\n",
    "t_start = pd.Timestamp('1990-01-01')"
   ]
  },
  {
   "cell_type": "markdown",
   "metadata": {},
   "source": [
    "# Firefly micromechanism\n",
    "\n",
    "Each agent is a firefly.  It has a clock, and at time 0 it lights up.  It also has neighbors, and if it sees a neighbor light up before it does, it jumps its clock forward one.  This should lead all fireflies to sync up."
   ]
  },
  {
   "cell_type": "code",
   "execution_count": null,
   "metadata": {},
   "outputs": [],
   "source": [
    "def is_glowing(df):\n",
    "    return (df.age % 10) < 1\n",
    "\n",
    "\n",
    "is_glowing(pd.DataFrame({'age':np.random.uniform(low=0, high=100, size=25)})).value_counts()"
   ]
  },
  {
   "cell_type": "code",
   "execution_count": null,
   "metadata": {},
   "outputs": [],
   "source": [
    "@listens_for('initialize_simulants', priority=0)\n",
    "@uses_columns(['age', 'sex', 'glow'])\n",
    "def my_generate_base_population(event):\n",
    "    \"\"\" Base population needs nothing, really\n",
    "    \n",
    "    updates columns age and sex because CEAM expects them\n",
    "    \"\"\"\n",
    "    population = pd.DataFrame(index=event.index)\n",
    "    population['age'] = np.random.uniform(low=0, high=10, size=len(population))\n",
    "    population['sex'] = '-'\n",
    "    population['glow'] = is_glowing(population)\n",
    "\n",
    "    # update the population in the model\n",
    "    event.population_view.update(population)\n",
    "\n",
    "\n",
    "# instead of using simulate, just do this:\n",
    "components = [my_generate_base_population]\n",
    "simulation = vtu.setup_simulation(components, population_size=n_simulants, start=t_start)\n",
    "vtu.pump_simulation(simulation, time_step_days=t_timestep, duration=pd.Timedelta(days=n_days))\n",
    "\n",
    "# take a look at the population at the end of the sim\n",
    "simulation.population.population.glow.mean()"
   ]
  },
  {
   "cell_type": "code",
   "execution_count": null,
   "metadata": {},
   "outputs": [],
   "source": [
    "glow_mean = []\n",
    "\n",
    "@listens_for('time_step')\n",
    "@uses_columns(['age', 'glow'])\n",
    "def advance_clock_independently(event):\n",
    "    t = event.population\n",
    "    t.age += np.random.uniform(low=0, high=.1, size=len(t))\n",
    "    t.glow = is_glowing(t)\n",
    "    event.population_view.update(t)\n",
    "    glow_mean.append(t.glow.mean())\n",
    "\n",
    "\n",
    "components = [my_generate_base_population, advance_clock_independently]\n",
    "simulation = vtu.setup_simulation(components, population_size=n_simulants, start=t_start)\n",
    "%time vtu.pump_simulation(simulation, time_step_days=t_timestep, duration=pd.Timedelta(days=n_days))\n",
    "\n",
    "\n",
    "# take a look at the population at the end of the sim\n",
    "simulation.population.population.glow.mean()"
   ]
  },
  {
   "cell_type": "code",
   "execution_count": null,
   "metadata": {},
   "outputs": [],
   "source": [
    "plt.plot(glow_mean)\n",
    "plt.xlabel('Time (s)')\n",
    "plt.ylabel('Fraction Glowing')\n",
    "plt.axis(ymax=1)"
   ]
  },
  {
   "cell_type": "code",
   "execution_count": null,
   "metadata": {},
   "outputs": [],
   "source": [
    "def my_rewired_band(n, k, p):\n",
    "    \"\"\" SW Network\n",
    "    k : int, width of band-1/2\n",
    "    p : probability of rewiring\n",
    "    \"\"\"\n",
    "    A = np.eye(n)\n",
    "    for i in range(n):\n",
    "        for j in range(i-k, i+k+1):\n",
    "            if np.random.uniform() < p:\n",
    "                A[i, np.random.randint(n)] = 1\n",
    "            else:\n",
    "                A[i, (j % n)] = 1\n",
    "    return A\n",
    "            \n",
    "            \n",
    "my_rewired_band(10, k=2, p=.5)\n",
    "adjacency_matrix = my_rewired_band(n_simulants, k=5, p=.2).astype(bool)"
   ]
  },
  {
   "cell_type": "code",
   "execution_count": null,
   "metadata": {},
   "outputs": [],
   "source": [
    "glow_mean = []\n",
    "\n",
    "\n",
    "def neighbors_glowing(glow):\n",
    "    neighbor_glow = np.dot(adjacency_matrix, glow)\n",
    "    return neighbor_glow > 0\n",
    "\n",
    "\n",
    "@listens_for('time_step')\n",
    "@uses_columns(['age', 'glow'])\n",
    "def advance_clock_from_neighbors(event):\n",
    "    t = event.population\n",
    "\n",
    "    see_glow = neighbors_glowing(t.glow)\n",
    "    advance_clock = see_glow & (t.age % 10 >= 5)\n",
    "    t.age[advance_clock] += np.random.uniform(low=0, high=.1, size=sum(advance_clock))\n",
    "    \n",
    "    event.population_view.update(t)\n",
    "    \n",
    "\n",
    "components = [my_generate_base_population, advance_clock_independently, advance_clock_from_neighbors]\n",
    "simulation = vtu.setup_simulation(components, population_size=n_simulants, start=t_start)\n",
    "%time vtu.pump_simulation(simulation, time_step_days=t_timestep, duration=pd.Timedelta(days=n_days))\n",
    "\n",
    "\n",
    "# take a look at the population at the end of the sim\n",
    "simulation.population.population.glow.mean()    "
   ]
  },
  {
   "cell_type": "code",
   "execution_count": null,
   "metadata": {},
   "outputs": [],
   "source": [
    "plt.plot(glow_mean)\n",
    "plt.xlabel('Time (s)')\n",
    "plt.ylabel('Fraction Glowing')"
   ]
  },
  {
   "cell_type": "code",
   "execution_count": null,
   "metadata": {},
   "outputs": [],
   "source": []
  }
 ],
 "metadata": {
  "anaconda-cloud": {},
  "kernelspec": {
   "display_name": "Python 3",
   "language": "python",
   "name": "python3"
  },
  "language_info": {
   "codemirror_mode": {
    "name": "ipython",
    "version": 3
   },
   "file_extension": ".py",
   "mimetype": "text/x-python",
   "name": "python",
   "nbconvert_exporter": "python",
   "pygments_lexer": "ipython3",
   "version": "3.6.4"
  }
 },
 "nbformat": 4,
 "nbformat_minor": 1
}
