{
 "cells": [
  {
   "cell_type": "code",
   "execution_count": 1,
   "metadata": {
    "collapsed": true
   },
   "outputs": [],
   "source": [
    "import numpy as np, pandas as pd\n",
    "\n",
    "import matplotlib.pyplot as plt\n",
    "%matplotlib inline\n",
    "\n",
    "import ceam_public_health.components as cphc,\\\n",
    "    ceam_public_health.components.base_population\n",
    "import ceam_tests.util as ctu\n",
    "\n",
    "from ceam.framework.event import listens_for\n",
    "# from ceam.framework.values import produces_value, modifies_value\n",
    "from ceam.framework.population import uses_columns\n",
    "\n",
    "from __future__ import print_function\n",
    "from ipywidgets import interact, interactive, fixed, interact_manual\n",
    "from IPython.display import display\n",
    "import ipywidgets as widgets\n",
    "\n",
    "\n",
    "np.random.seed(12345)  # set random seed for reproducibility\n",
    "\n",
    "n_simulants = 100\n",
    "n_days = 1000\n",
    "t_timestep = 1 # days\n",
    "t_start = pd.Timestamp('1990-01-01')"
   ]
  },
  {
   "cell_type": "markdown",
   "metadata": {},
   "source": [
    "# Boids micromechanism\n",
    "\n",
    "Each agent is a bird.  It has a position and a velocity, and has three rules, taken from http://www.kfish.org/boids/pseudocode.html"
   ]
  },
  {
   "cell_type": "code",
   "execution_count": 2,
   "metadata": {},
   "outputs": [
    {
     "data": {
      "text/plain": [
       "1000"
      ]
     },
     "execution_count": 2,
     "metadata": {},
     "output_type": "execute_result"
    }
   ],
   "source": [
    "@listens_for('initialize_simulants', priority=0)\n",
    "@uses_columns(['age', 'sex', 'x', 'y', 'vx', 'vy'])\n",
    "def my_generate_base_population(event):\n",
    "    \"\"\" Base population needs nothing, really\n",
    "    \n",
    "    updates columns age and sex because CEAM expects them\n",
    "    \"\"\"\n",
    "    population = pd.DataFrame(index=event.index)\n",
    "    population['age'] = 0\n",
    "    population['sex'] = '-'\n",
    "    \n",
    "    population['x'] = np.random.uniform(size=len(population))\n",
    "    population['y'] = np.random.uniform(size=len(population))\n",
    "\n",
    "    population['vx'] = .1*np.random.uniform(size=len(population))\n",
    "    population['vy'] = .1*np.random.uniform(size=len(population))\n",
    "    \n",
    "    # update the population in the model\n",
    "    event.population_view.update(population)\n",
    "\n",
    "# instead of using simulate, just do this:\n",
    "components = [my_generate_base_population]\n",
    "simulation = ctu.setup_simulation(components, population_size=n_simulants, start=t_start)\n",
    "ctu.pump_simulation(simulation, time_step_days=t_timestep, duration=pd.Timedelta(days=n_days))"
   ]
  },
  {
   "cell_type": "code",
   "execution_count": 3,
   "metadata": {
    "collapsed": true
   },
   "outputs": [],
   "source": [
    "def d(t, i, j):\n",
    "    dx = t.x[i] - t.x[j]\n",
    "    dy = t.y[i] - t.y[j]\n",
    "    return dx*dx + dy*dy\n",
    "\n",
    "class Boids:\n",
    "    def __init__(self, center_pull_weight, closeness, velocity_match, noise):\n",
    "        self.center_pull_weight = center_pull_weight\n",
    "        self.closeness = closeness\n",
    "        self.velocity_match = velocity_match\n",
    "        self.noise = noise\n",
    "        self.boid_x = []\n",
    "        self.boid_y = []\n",
    "        \n",
    "    def rule1(self, t):\n",
    "        \"\"\"Rule 1: Boids try to fly towards the centre of mass of neighbouring boids.\n",
    "        \"\"\"\n",
    "        # center of mass\n",
    "        cx, cy = t.x.mean(), t.y.mean()\n",
    "    \n",
    "        return self.center_pull_weight*(cx - t.x), self.center_pull_weight*(cy - t.y) \n",
    "\n",
    "    def rule2(self, t):\n",
    "        \"\"\"Rule 2: Boids try to keep a small distance away from other objects (including other boids).\n",
    "        \"\"\"\n",
    "        #     dvx = np.zeros_like(t.vx)\n",
    "        #     dvy = np.zeros_like(t.vy)\n",
    "\n",
    "        #     for i in range(len(t)):\n",
    "        #         for j in range(i+1, len(t)):\n",
    "        #             if d(t, i, j) < .1:\n",
    "        #                 dvx[i] -= (t.x[j] - t.x[i])\n",
    "        #                 dvy[i] -= (t.y[j] - t.y[i])\n",
    "\n",
    "        # the above seems slow, let's just stay away from center of mass\n",
    "        cx, cy = t.x.mean(), t.y.mean()\n",
    "        dx = (t.x - cx)\n",
    "        dy = (t.y - cy)\n",
    "    \n",
    "        close = dx*dx + dy*dy < self.closeness\n",
    "        dvx = np.where(close, t.x - cx, 0)\n",
    "        dvy = np.where(close, t.y - cy, 0)\n",
    "    \n",
    "        return dvx, dvy\n",
    "\n",
    "    def rule3(self, t):\n",
    "        \"\"\"Rule 3: Boids try to match velocity with near boids.\n",
    "        \"\"\"\n",
    "        # mean velocity\n",
    "        mvx, mvy = t.vx.mean(), t.vy.mean()\n",
    "    \n",
    "        return self.velocity_match*(mvx - t.vx), self.velocity_match*(mvy - t.vy) \n",
    "    \n",
    "    def rule4(self, t):\n",
    "        return self.noise*np.random.uniform(low=-1, high=1, size=len(t)), self.noise*np.random.uniform(low=-1, high=1, size=len(t))\n",
    "\n",
    "    @listens_for('time_step')\n",
    "    @uses_columns(['x', 'y', 'vx', 'vy'])\n",
    "    def move_all_boids(self, event):\n",
    "        t = event.population\n",
    "        v1x, v1y = self.rule1(t)\n",
    "        v2x, v2y = self.rule2(t)\n",
    "        v3x, v3y = self.rule3(t)\n",
    "        v4x, v4y = self.rule4(t)\n",
    "\n",
    "        t.vx += v1x + v2x + v3x\n",
    "        t.vy += v1y + v2y + v3y\n",
    "\n",
    "        t.x = (t.x + .1*t.vx)\n",
    "        t.y = (t.y + .1*t.vy)\n",
    "    \n",
    "        event.population_view.update(t)\n",
    "    \n",
    "        self.boid_x.append(t.x % 1)\n",
    "        self.boid_y.append(t.y % 1)\n",
    "        \n",
    "        \n"
   ]
  },
  {
   "cell_type": "code",
   "execution_count": 9,
   "metadata": {},
   "outputs": [
    {
     "data": {
      "image/png": "[encoded data removed]",
      "text/plain": [
       "<matplotlib.figure.Figure at 0x7f80aad92898>"
      ]
     },
     "metadata": {},
     "output_type": "display_data"
    },
    {
     "data": {
      "application/vnd.jupyter.widget-view+json": {
       "model_id": "729c63084a854c0397179d52009d7489"
      }
     },
     "metadata": {},
     "output_type": "display_data"
    },
    {
     "data": {
      "image/png": "[encoded data removed]",
      "text/plain": [
       "<matplotlib.figure.Figure at 0x7f80aad92898>"
      ]
     },
     "metadata": {},
     "output_type": "display_data"
    }
   ],
   "source": [
    "%matplotlib inline\n",
    "from matplotlib import animation, rc\n",
    "current_boids = None\n",
    "\n",
    "# First set up the figure, the axis, and the plot element we want to animate\n",
    "plots = dict()\n",
    "fig, ax = plt.subplots()\n",
    "ax.set_xlim((0, 1))\n",
    "ax.set_ylim((0, 1))\n",
    "line, = ax.plot([], [], lw=2)\n",
    "display(fig)\n",
    "\n",
    "# initialization function: plot the background of each frame\n",
    "def init():    \n",
    "    line.set_data([], [])\n",
    "    line.set_marker('o')\n",
    "    line.set_linestyle('none')\n",
    "    return (line,)\n",
    "# animation function. This is called sequentially\n",
    "def animate(i):\n",
    "    t=99\n",
    "    #x,y = np.array(boid_x)[:(t+1),i], np.array(boid_y)[:(t+1),i]    \n",
    "    x,y = current_boids.boid_x[i], current_boids.boid_y[i]\n",
    "    line.set_data(x, y)\n",
    "    return (line,)\n",
    "\n",
    "\n",
    "\n",
    "center_pull_weight = widgets.FloatSlider(description='center_pull_weight', value=0.1, min=0, max=1, step=0.1)\n",
    "closeness = widgets.FloatSlider(description='closeness', value=0.1, min=0, max=1, step=0.1)\n",
    "velocity_match = widgets.FloatSlider(description='velocity match', value=0.1, min=0, max=1, step=0.1)\n",
    "noise = widgets.FloatSlider(description='noise', value=0.1, min=0, max=1, step=0.1)\n",
    "save_button = widgets.Button(description=\"Save Gif\")\n",
    "display_button = widgets.Button(description=\"Update Display\")\n",
    "widget_container = widgets.VBox([center_pull_weight, closeness, velocity_match, noise, save_button, display_button])\n",
    "\n",
    "display(widget_container)\n",
    "\n",
    "\n",
    "def on_display_button_clicked(button):    \n",
    "    current_boids = Boids(center_pull_weight.value, closeness.value, velocity_match.value, noise.value)\n",
    "    components = [my_generate_base_population, current_boids]\n",
    "    simulation = ctu.setup_simulation(components, population_size=n_simulants, start=t_start)\n",
    "    ctu.pump_simulation(simulation, time_step_days=t_timestep, duration=pd.Timedelta(days=n_days))\n",
    "    i=0\n",
    "    t=99    \n",
    "    #line.set_data(np.array(current_boids.boid_x)[:(t+1),i], np.array(current_boids.boid_y)[:(t+1),i])\n",
    "    plots, = ax.plot(np.array(current_boids.boid_x)[:(t+1),i], np.array(current_boids.boid_y)[:(t+1),i], 'ks-')\n",
    "    #plots, = ax.plot(current_boids.boid_x[0], current_boids.boid_y[0], 'o') \n",
    "    #plots, = ax.plot(current_boids.boid_x[t], current_boids.boid_y[t], 'o')\n",
    "    display(plots)\n",
    "\n",
    "    \n",
    "def on_save_button_clicked(button):\n",
    "    # call the animator. blit=True means only re-draw the parts that have changed.\n",
    "    anim = animation.FuncAnimation(fig, animate, init_func=init, frames=n_days, blit=True)\n",
    "    %time anim.save('animation.gif', writer='imagemagick', fps=60)\n",
    "\n",
    "\n",
    "save_button.on_click(on_save_button_clicked)\n",
    "display_button.on_click(on_display_button_clicked)\n",
    "\n"
   ]
  },
  {
   "cell_type": "code",
   "execution_count": null,
   "metadata": {
    "collapsed": true
   },
   "outputs": [],
   "source": [
    "\n"
   ]
  },
  {
   "cell_type": "markdown",
   "metadata": {},
   "source": [
    "Figured out a workflow: save as gif with imagemagick, then load into notebook, or open in separate browser tab:"
   ]
  },
  {
   "cell_type": "code",
   "execution_count": null,
   "metadata": {
    "collapsed": true
   },
   "outputs": [],
   "source": [
    "# First set up the figure, the axis, and the plot element we want to animate\n",
    "fig, ax = plt.subplots()\n",
    "\n",
    "ax.set_xlim(( 0, 1))\n",
    "ax.set_ylim((0, 1))\n",
    "\n",
    "line, = ax.plot([], [], lw=2)"
   ]
  },
  {
   "cell_type": "code",
   "execution_count": null,
   "metadata": {
    "collapsed": true
   },
   "outputs": [],
   "source": [
    "# initialization function: plot the background of each frame\n",
    "def init():\n",
    "    line.set_data([], [])\n",
    "    line.set_marker('o')\n",
    "    line.set_linestyle('none')\n",
    "    return (line,)\n"
   ]
  },
  {
   "cell_type": "code",
   "execution_count": null,
   "metadata": {
    "collapsed": true
   },
   "outputs": [],
   "source": [
    "# animation function. This is called sequentially\n",
    "def animate(i):\n",
    "    t=99\n",
    "\n",
    "    #x,y = np.array(boid_x)[:(t+1),i], np.array(boid_y)[:(t+1),i]\n",
    "\n",
    "    x,y = boid_x[i], boid_y[i]\n",
    "\n",
    "    line.set_data(x, y)\n",
    "    return (line,)\n"
   ]
  },
  {
   "cell_type": "code",
   "execution_count": null,
   "metadata": {
    "collapsed": true
   },
   "outputs": [],
   "source": [
    "from matplotlib import animation, rc"
   ]
  },
  {
   "cell_type": "code",
   "execution_count": null,
   "metadata": {
    "collapsed": true
   },
   "outputs": [],
   "source": [
    "# call the animator. blit=True means only re-draw the parts that have changed.\n",
    "anim = animation.FuncAnimation(fig, animate, init_func=init,\n",
    "                               frames=n_days, blit=True)\n"
   ]
  },
  {
   "cell_type": "code",
   "execution_count": null,
   "metadata": {
    "collapsed": true
   },
   "outputs": [],
   "source": [
    "%time anim.save('animation.gif', writer='imagemagick', fps=60)"
   ]
  },
  {
   "cell_type": "code",
   "execution_count": null,
   "metadata": {
    "collapsed": true
   },
   "outputs": [],
   "source": []
  },
  {
   "cell_type": "code",
   "execution_count": null,
   "metadata": {
    "collapsed": true
   },
   "outputs": [],
   "source": []
  },
  {
   "cell_type": "code",
   "execution_count": null,
   "metadata": {
    "collapsed": true
   },
   "outputs": [],
   "source": []
  },
  {
   "cell_type": "code",
   "execution_count": null,
   "metadata": {
    "collapsed": true
   },
   "outputs": [],
   "source": []
  },
  {
   "cell_type": "code",
   "execution_count": null,
   "metadata": {
    "collapsed": true
   },
   "outputs": [],
   "source": []
  }
 ],
 "metadata": {
  "anaconda-cloud": {},
  "kernelspec": {
   "display_name": "Python [conda env:ceam_development]",
   "language": "python",
   "name": "conda-env-ceam_development-py"
  },
  "language_info": {
   "codemirror_mode": {
    "name": "ipython",
    "version": 3
   },
   "file_extension": ".py",
   "mimetype": "text/x-python",
   "name": "python",
   "nbconvert_exporter": "python",
   "pygments_lexer": "ipython3",
   "version": "3.5.3"
  }
 },
 "nbformat": 4,
 "nbformat_minor": 1
}
