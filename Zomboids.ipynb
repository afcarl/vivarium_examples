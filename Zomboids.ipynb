{
 "cells": [
  {
   "cell_type": "markdown",
   "metadata": {},
   "source": [
    "# Zomboids\n",
    "\n",
    "- From Zane Rankin\n",
    "- To Nerds\n",
    "- 2/1/2018"
   ]
  },
  {
   "cell_type": "code",
   "execution_count": 1,
   "metadata": {},
   "outputs": [
    {
     "name": "stdout",
     "output_type": "stream",
     "text": [
      "Thu Feb  1 15:46:31 PST 2018\r\n"
     ]
    }
   ],
   "source": [
    "import numpy as np, matplotlib.pyplot as plt, pandas as pd, seaborn as sns\n",
    "pd.set_option('display.max_rows', 8)\n",
    "%matplotlib inline\n",
    "!date"
   ]
  },
  {
   "cell_type": "code",
   "execution_count": 2,
   "metadata": {},
   "outputs": [],
   "source": [
    "import vivarium, vivarium.test_util as vtu\n",
    "\n",
    "np.random.seed(12345)  # set random seed for reproducibility\n",
    "\n",
    "n_simulants = 200\n",
    "t_timestep = 1 # days\n",
    "t_start = pd.Timestamp('1990-01-01')\n",
    "boxsize = 1"
   ]
  },
  {
   "cell_type": "markdown",
   "metadata": {},
   "source": [
    "# Option 1 - \"geospatial disease model\""
   ]
  },
  {
   "cell_type": "code",
   "execution_count": 3,
   "metadata": {},
   "outputs": [],
   "source": [
    "from vivarium.framework.event import listens_for\n",
    "from vivarium.framework.population import uses_columns\n",
    "\n",
    "class Zombies:\n",
    "    def setup(self, builder):\n",
    "        self.population_view = builder.population_view(['x', 'y', 'vx', 'vy', 'infected'])\n",
    "        \n",
    "    @listens_for('initialize_simulants', priority=0)\n",
    "    def do_initalize_simulants(self, event):\n",
    "        \"\"\"Start new simulants with a random location and random direction\n",
    "        \"\"\"\n",
    "        pop = pd.DataFrame(index=event.index)\n",
    "\n",
    "        pop['x'] = np.random.uniform(0, boxsize, size=len(pop))\n",
    "        pop['y'] = np.random.uniform(0, boxsize, size=len(pop))\n",
    "\n",
    "        pop['vx'] = 0 # .1*np.random.uniform(size=len(pop))\n",
    "        pop['vy'] = 0 # .1*np.random.uniform(size=len(pop))\n",
    "        \n",
    "        #pop['infected'] = (0 + 0.55 * np.random.uniform(size=len(pop))).round().astype(int)\n",
    "\n",
    "        #just one infected person?\n",
    "        pop['infected'] = 0\n",
    "        pop.infected[0] = 1\n",
    "        \n",
    "        # update the population in the model\n",
    "        self.population_view.update(pop)"
   ]
  },
  {
   "cell_type": "code",
   "execution_count": 4,
   "metadata": {},
   "outputs": [],
   "source": [
    "def d(df, i, j):\n",
    "    \"\"\"convenience function to calculate the distance between i and j in dataframe df\"\"\"\n",
    "    dx = df.x[i] - df.x[j]\n",
    "    dy = df.y[i] - df.y[j]\n",
    "    return np.sqrt(dx*dx + dy*dy)"
   ]
  },
  {
   "cell_type": "code",
   "execution_count": 5,
   "metadata": {},
   "outputs": [],
   "source": [
    "class InfectNeighbor:\n",
    "    @listens_for('time_step')\n",
    "    @uses_columns(['x', 'y', 'infected'])\n",
    "    def on_time_step(self, event):\n",
    "        \n",
    "        df = event.population\n",
    "        \n",
    "        #TODO make distance an argument - right now 0.05 (or 5% of boxsize) seems reasonable\n",
    "        proximity = 0.05\n",
    "        \n",
    "        #TODO need to make more efficient, ie avoid looping through all individuals. \n",
    "        #Maybe try to get a proximity function that only has to loop over neighbors\n",
    "        for i in range(len(df)): #loop through individuals\n",
    "            if df.infected[i]:\n",
    "                for j in range(len(df)): #loop through others\n",
    "                    if not df.infected[j]:\n",
    "                        if d(df, i, j) < proximity: df.infected[j] = 1\n",
    "        event.population_view.update(df)"
   ]
  },
  {
   "cell_type": "code",
   "execution_count": 6,
   "metadata": {},
   "outputs": [],
   "source": [
    "class SavePop:\n",
    "    @listens_for('initialize_simulants', priority = 1)\n",
    "    def start_output_hdf(self, event):\n",
    "        d = {'time': [0], 'prev': [1/n_simulants], 'inc': [0]}\n",
    "        output = pd.DataFrame(data=d)\n",
    "        output.to_hdf('output.hdf', key = 'zombies')\n",
    "    \n",
    "    @listens_for('time_step')\n",
    "    @uses_columns(['x', 'y', 'infected'])\n",
    "    def on_time_step(self, event):\n",
    "        df = event.population\n",
    "        output = pd.read_hdf('output.hdf')\n",
    "        \n",
    "        t_prev = output.time.max()\n",
    "        d = {'time': t_prev + 1, 'prev': [df.infected.mean()], 'inc': [df.infected.mean() - output.prev.max()]}\n",
    "        out = pd.DataFrame(data=d)\n",
    "        \n",
    "        output = pd.concat([output, out])\n",
    "        output.to_hdf('output.hdf', key = 'zombies')"
   ]
  },
  {
   "cell_type": "code",
   "execution_count": 7,
   "metadata": {},
   "outputs": [],
   "source": [
    "def keepenclosed(df, boxsize):\n",
    "    \"\"\"convenience function to keep individuals within box\"\"\"\n",
    "    df.loc[df.x > boxsize, 'x'] = boxsize\n",
    "    df.loc[df.y > boxsize, 'y'] = boxsize\n",
    "    df.loc[df.x < 0, 'x'] = 0\n",
    "    df.loc[df.y < 0, 'y'] = 0"
   ]
  },
  {
   "cell_type": "code",
   "execution_count": 8,
   "metadata": {},
   "outputs": [],
   "source": [
    "class ZombieRoam:\n",
    "    @listens_for('time_step')\n",
    "    @uses_columns(['x', 'y', 'infected'])\n",
    "    def on_time_step(self, event):\n",
    "        \n",
    "        df = event.population\n",
    "        \n",
    "        df.loc[df.infected == 1, 'x'] += np.random.uniform(-0.1, 0.1, size=len(df.loc[df.infected == 1]))\n",
    "        df.loc[df.infected == 1, 'y'] += np.random.uniform(-0.1, 0.1, size=len(df.loc[df.infected == 1]))\n",
    "        \n",
    "        keepenclosed(df, boxsize)\n",
    "        \n",
    "        event.population_view.update(df)"
   ]
  },
  {
   "cell_type": "code",
   "execution_count": 9,
   "metadata": {},
   "outputs": [],
   "source": [
    "class EveryoneWander:\n",
    "    @listens_for('time_step')\n",
    "    @uses_columns(['x', 'y', 'infected'])\n",
    "    def on_time_step(self, event):\n",
    "        \n",
    "        df = event.population\n",
    "        \n",
    "        df.x += np.random.uniform(-0.1, 0.1, size=len(df))\n",
    "        df.y += np.random.uniform(-0.1, 0.1, size=len(df))\n",
    "        \n",
    "        #Constrain to box\n",
    "        keepenclosed(df, boxsize)\n",
    "        \n",
    "        event.population_view.update(df)"
   ]
  },
  {
   "cell_type": "code",
   "execution_count": 10,
   "metadata": {},
   "outputs": [
    {
     "name": "stderr",
     "output_type": "stream",
     "text": [
      "/home/james/miniconda3/envs/vivarium/lib/python3.6/site-packages/ipykernel_launcher.py:24: SettingWithCopyWarning: \n",
      "A value is trying to be set on a copy of a slice from a DataFrame\n",
      "\n",
      "See the caveats in the documentation: http://pandas.pydata.org/pandas-docs/stable/indexing.html#indexing-view-versus-copy\n"
     ]
    },
    {
     "data": {
      "image/png": "[encoded data removed]",
      "text/plain": [
       "<matplotlib.figure.Figure at 0x7f9455823f28>"
      ]
     },
     "metadata": {},
     "output_type": "display_data"
    }
   ],
   "source": [
    "def my_plot(df):\n",
    "    plt.plot(df[df['infected'] == 0].x, df[df['infected'] == 0].y, 'ks')\n",
    "    plt.plot(df[df['infected'] == 1].x, df[df['infected'] == 1].y, 'ks', c = 'r')\n",
    "    plt.axis(xmin=0, ymin=0, xmax=1, ymax=1)\n",
    "\n",
    "\n",
    "sim = vtu.setup_simulation([Zombies(), ZombieRoam(), InfectNeighbor(), SavePop()], population_size=n_simulants, start=t_start)\n",
    "df = sim.population.population  # a copy of the population table\n",
    "#sns.lmplot('x', 'y', hue = 'infected', fit_reg=False, data = df)\n",
    "my_plot(df)"
   ]
  },
  {
   "cell_type": "code",
   "execution_count": 11,
   "metadata": {},
   "outputs": [
    {
     "data": {
      "application/vnd.jupyter.widget-view+json": {
       "model_id": "1116dd8437404180abe158723849ab1e",
       "version_major": 2,
       "version_minor": 0
      },
      "text/html": [
       "<p>Failed to display Jupyter Widget of type <code>VBox</code>.</p>\n",
       "<p>\n",
       "  If you're reading this message in Jupyter Notebook or JupyterLab, it may mean\n",
       "  that the widgets JavaScript is still loading. If this message persists, it\n",
       "  likely means that the widgets JavaScript library is either not installed or\n",
       "  not enabled. See the <a href=\"https://ipywidgets.readthedocs.io/en/stable/user_install.html\">Jupyter\n",
       "  Widgets Documentation</a> for setup instructions.\n",
       "</p>\n",
       "<p>\n",
       "  If you're reading this message in another notebook frontend (for example, a static\n",
       "  rendering on GitHub or <a href=\"https://nbviewer.jupyter.org/\">NBViewer</a>),\n",
       "  it may mean that your frontend doesn't currently support widgets.\n",
       "</p>\n"
      ],
      "text/plain": [
       "VBox(children=(HTML(value=''), IntProgress(value=0, max=5)))"
      ]
     },
     "metadata": {},
     "output_type": "display_data"
    },
    {
     "name": "stderr",
     "output_type": "stream",
     "text": [
      "/home/james/miniconda3/envs/vivarium/lib/python3.6/site-packages/ipykernel_launcher.py:17: SettingWithCopyWarning: \n",
      "A value is trying to be set on a copy of a slice from a DataFrame\n",
      "\n",
      "See the caveats in the documentation: http://pandas.pydata.org/pandas-docs/stable/indexing.html#indexing-view-versus-copy\n"
     ]
    },
    {
     "data": {
      "text/plain": [
       "5"
      ]
     },
     "execution_count": 11,
     "metadata": {},
     "output_type": "execute_result"
    }
   ],
   "source": [
    "vtu.pump_simulation(sim, time_step_days=t_timestep, duration=pd.Timedelta(days=5))"
   ]
  },
  {
   "cell_type": "code",
   "execution_count": 12,
   "metadata": {},
   "outputs": [
    {
     "data": {
      "image/png": "[encoded data removed]",
      "text/plain": [
       "<matplotlib.figure.Figure at 0x7f945551eb70>"
      ]
     },
     "metadata": {},
     "output_type": "display_data"
    }
   ],
   "source": [
    "df = sim.population.population  # a copy of the population table\n",
    "my_plot(df)"
   ]
  },
  {
   "cell_type": "code",
   "execution_count": 13,
   "metadata": {},
   "outputs": [
    {
     "data": {
      "image/png": "[encoded data removed]",
      "text/plain": [
       "<matplotlib.figure.Figure at 0x7f94555697b8>"
      ]
     },
     "metadata": {},
     "output_type": "display_data"
    }
   ],
   "source": [
    "def plot_output(df):\n",
    "    plt.plot('time', 'prev', data = df, label = 'prevalence')\n",
    "    plt.plot('time', 'inc', data = df, label = 'incidence')\n",
    "    plt.legend()\n",
    "output = pd.read_hdf('output.hdf')\n",
    "plot_output(output)"
   ]
  },
  {
   "cell_type": "markdown",
   "metadata": {},
   "source": [
    "# Make a movie!"
   ]
  },
  {
   "cell_type": "code",
   "execution_count": 14,
   "metadata": {},
   "outputs": [],
   "source": [
    "from matplotlib import animation\n",
    "from IPython.display import HTML\n",
    "\n",
    "class MovieWriter:\n",
    "    def __init__(self, fname):\n",
    "        self.moviewriter = animation.ImageMagickWriter(fps=2)\n",
    "        self.fname = fname\n",
    "            \n",
    "    def __enter__(self):\n",
    "        fig = plt.figure()\n",
    "        self.moviewriter.setup(fig, self.fname, dpi=100)\n",
    "        return self\n",
    "    \n",
    "    def setup(self, builder):\n",
    "        self.population_view = builder.population_view(['x', 'y', 'vx', 'vy', 'infected'])\n",
    "        \n",
    "    @listens_for('collect_metrics')\n",
    "    def on_collect_metrics(self, event):\n",
    "        pop = self.population_view.get(event.index)\n",
    "        \n",
    "        plt.clf()\n",
    "        my_plot(pop)\n",
    "\n",
    "        self.moviewriter.grab_frame()\n",
    "\n",
    "    def __exit__(self, exception_type, exception_value, traceback):\n",
    "        self.moviewriter.finish()\n"
   ]
  },
  {
   "cell_type": "code",
   "execution_count": 15,
   "metadata": {},
   "outputs": [],
   "source": [
    "def plot_output(df):\n",
    "    fig, ax = plt.subplots(figsize=(10, 5))\n",
    "    plt.plot('time', 'prev', data = df, label = 'prevalence')\n",
    "    plt.plot('time', 'inc', data = df, label = 'incidence')\n",
    "    plt.legend()\n",
    "    fig.savefig('incprev.png', dpi=300)"
   ]
  },
  {
   "cell_type": "code",
   "execution_count": 16,
   "metadata": {},
   "outputs": [
    {
     "name": "stderr",
     "output_type": "stream",
     "text": [
      "/home/james/miniconda3/envs/vivarium/lib/python3.6/site-packages/ipykernel_launcher.py:24: SettingWithCopyWarning: \n",
      "A value is trying to be set on a copy of a slice from a DataFrame\n",
      "\n",
      "See the caveats in the documentation: http://pandas.pydata.org/pandas-docs/stable/indexing.html#indexing-view-versus-copy\n"
     ]
    },
    {
     "data": {
      "application/vnd.jupyter.widget-view+json": {
       "model_id": "699944e635e44e97981d6cdc28be1259",
       "version_major": 2,
       "version_minor": 0
      },
      "text/html": [
       "<p>Failed to display Jupyter Widget of type <code>VBox</code>.</p>\n",
       "<p>\n",
       "  If you're reading this message in Jupyter Notebook or JupyterLab, it may mean\n",
       "  that the widgets JavaScript is still loading. If this message persists, it\n",
       "  likely means that the widgets JavaScript library is either not installed or\n",
       "  not enabled. See the <a href=\"https://ipywidgets.readthedocs.io/en/stable/user_install.html\">Jupyter\n",
       "  Widgets Documentation</a> for setup instructions.\n",
       "</p>\n",
       "<p>\n",
       "  If you're reading this message in another notebook frontend (for example, a static\n",
       "  rendering on GitHub or <a href=\"https://nbviewer.jupyter.org/\">NBViewer</a>),\n",
       "  it may mean that your frontend doesn't currently support widgets.\n",
       "</p>\n"
      ],
      "text/plain": [
       "VBox(children=(HTML(value=''), IntProgress(value=0, max=26)))"
      ]
     },
     "metadata": {},
     "output_type": "display_data"
    },
    {
     "name": "stderr",
     "output_type": "stream",
     "text": [
      "/home/james/miniconda3/envs/vivarium/lib/python3.6/site-packages/ipykernel_launcher.py:17: SettingWithCopyWarning: \n",
      "A value is trying to be set on a copy of a slice from a DataFrame\n",
      "\n",
      "See the caveats in the documentation: http://pandas.pydata.org/pandas-docs/stable/indexing.html#indexing-view-versus-copy\n"
     ]
    },
    {
     "data": {
      "text/html": [
       "<img src=\"roaming.gif\">"
      ],
      "text/plain": [
       "<IPython.core.display.HTML object>"
      ]
     },
     "execution_count": 16,
     "metadata": {},
     "output_type": "execute_result"
    },
    {
     "data": {
      "image/png": "[encoded data removed]",
      "text/plain": [
       "<matplotlib.figure.Figure at 0x7f9451c151d0>"
      ]
     },
     "metadata": {},
     "output_type": "display_data"
    }
   ],
   "source": [
    "with MovieWriter('roaming.gif') as mw:\n",
    "    sim = vtu.setup_simulation([Zombies(), ZombieRoam(), InfectNeighbor(), SavePop(), mw],\n",
    "                               population_size=n_simulants, start=t_start)\n",
    "    vtu.pump_simulation(sim, time_step_days=t_timestep, duration=26)\n",
    "\n",
    "HTML('<img src=\"roaming.gif\">')"
   ]
  },
  {
   "cell_type": "code",
   "execution_count": 17,
   "metadata": {},
   "outputs": [
    {
     "data": {
      "image/png": "[encoded data removed]",
      "text/plain": [
       "<matplotlib.figure.Figure at 0x2af8f459ddd8>"
      ]
     },
     "metadata": {},
     "output_type": "display_data"
    }
   ],
   "source": [
    "output = pd.read_hdf('output.hdf')\n",
    "plot_output(output)"
   ]
  },
  {
   "cell_type": "markdown",
   "metadata": {},
   "source": [
    "# TODO\n",
    "- add remission or treatment or vaccine\n",
    "- CEAM_PUBLIC_HEALTH DISEASE MODEL?\n",
    "- clustering of positions, flocking behavior, etc\n",
    "- healthy people run from zombies"
   ]
  }
 ],
 "metadata": {
  "kernelspec": {
   "display_name": "Python 3",
   "language": "python",
   "name": "python3"
  },
  "language_info": {
   "codemirror_mode": {
    "name": "ipython",
    "version": 3
   },
   "file_extension": ".py",
   "mimetype": "text/x-python",
   "name": "python",
   "nbconvert_exporter": "python",
   "pygments_lexer": "ipython3",
   "version": "3.6.4"
  }
 },
 "nbformat": 4,
 "nbformat_minor": 2
}
